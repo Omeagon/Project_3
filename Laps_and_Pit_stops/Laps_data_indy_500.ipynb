{
 "cells": [
  {
   "cell_type": "code",
   "execution_count": 19,
   "id": "03fee7db-d8a7-4324-8768-39c571bc2edc",
   "metadata": {},
   "outputs": [],
   "source": [
    "# Dependencies \n",
    "import pandas as pd\n",
    "from datetime import datetime\n",
    "from bs4 import BeautifulSoup\n",
    "import glob as glob"
   ]
  },
  {
   "cell_type": "code",
   "execution_count": 20,
   "id": "4d6c0d29-d56d-4e82-8db5-c2518c6ba81f",
   "metadata": {},
   "outputs": [],
   "source": [
    "# Import alternate championhsip points tables\n",
    "points_table_formula1 = pd.read_csv('points_systems_csv/2024_formula1_race_points_table.csv')\n",
    "points_table_imsa = pd.read_csv('points_systems_csv/2024_imsa_race_points_table.csv')\n",
    "points_table_imsa_qual = pd.read_csv('points_systems_csv/2024_imsa_qualifying_points_table.csv')"
   ]
  },
  {
   "cell_type": "code",
   "execution_count": 21,
   "id": "8ca8b4df-ddd1-4d55-9569-3f6329a428f5",
   "metadata": {},
   "outputs": [
    {
     "data": {
      "text/html": [
       "<div>\n",
       "<style scoped>\n",
       "    .dataframe tbody tr th:only-of-type {\n",
       "        vertical-align: middle;\n",
       "    }\n",
       "\n",
       "    .dataframe tbody tr th {\n",
       "        vertical-align: top;\n",
       "    }\n",
       "\n",
       "    .dataframe thead th {\n",
       "        text-align: right;\n",
       "    }\n",
       "</style>\n",
       "<table border=\"1\" class=\"dataframe\">\n",
       "  <thead>\n",
       "    <tr style=\"text-align: right;\">\n",
       "      <th></th>\n",
       "      <th>Rank</th>\n",
       "      <th>Driver</th>\n",
       "      <th>Car No.</th>\n",
       "      <th>Starts</th>\n",
       "      <th>Laps</th>\n",
       "      <th>Total time</th>\n",
       "      <th>Laps Led</th>\n",
       "      <th>Status</th>\n",
       "      <th>Points</th>\n",
       "      <th>Avg.Speed</th>\n",
       "      <th>Pit stop</th>\n",
       "      <th>City</th>\n",
       "      <th>Points (F1 Scoring)</th>\n",
       "      <th>Points (IMSA Scoring)</th>\n",
       "    </tr>\n",
       "  </thead>\n",
       "  <tbody>\n",
       "    <tr>\n",
       "      <th>56</th>\n",
       "      <td>3</td>\n",
       "      <td>Scott McLaughlin</td>\n",
       "      <td>3</td>\n",
       "      <td>8</td>\n",
       "      <td>55</td>\n",
       "      <td>01:45:08.0415</td>\n",
       "      <td>55</td>\n",
       "      <td>Running</td>\n",
       "      <td>38</td>\n",
       "      <td>125.993</td>\n",
       "      <td>3</td>\n",
       "      <td>roadamerica</td>\n",
       "      <td>15</td>\n",
       "      <td>323</td>\n",
       "    </tr>\n",
       "    <tr>\n",
       "      <th>464</th>\n",
       "      <td>26</td>\n",
       "      <td>Rinus VeeKay</td>\n",
       "      <td>21</td>\n",
       "      <td>20</td>\n",
       "      <td>72</td>\n",
       "      <td>01:39:43.0398</td>\n",
       "      <td>72</td>\n",
       "      <td>Mechanical</td>\n",
       "      <td>5</td>\n",
       "      <td>96.956</td>\n",
       "      <td>3</td>\n",
       "      <td>lagunaseca</td>\n",
       "      <td>0</td>\n",
       "      <td>61</td>\n",
       "    </tr>\n",
       "    <tr>\n",
       "      <th>326</th>\n",
       "      <td>23</td>\n",
       "      <td>Graham Rahal</td>\n",
       "      <td>15</td>\n",
       "      <td>14</td>\n",
       "      <td>161</td>\n",
       "      <td>01:25:07.1785</td>\n",
       "      <td>161</td>\n",
       "      <td>Mechanical</td>\n",
       "      <td>8</td>\n",
       "      <td>141.859</td>\n",
       "      <td>2</td>\n",
       "      <td>gateway</td>\n",
       "      <td>0</td>\n",
       "      <td>97</td>\n",
       "    </tr>\n",
       "    <tr>\n",
       "      <th>407</th>\n",
       "      <td>23</td>\n",
       "      <td>Felix Rosenqvist</td>\n",
       "      <td>60</td>\n",
       "      <td>3</td>\n",
       "      <td>63</td>\n",
       "      <td>01:10:40.7835</td>\n",
       "      <td>63</td>\n",
       "      <td>Mechanical</td>\n",
       "      <td>7</td>\n",
       "      <td>95.517</td>\n",
       "      <td>2</td>\n",
       "      <td>toronto</td>\n",
       "      <td>0</td>\n",
       "      <td>110</td>\n",
       "    </tr>\n",
       "    <tr>\n",
       "      <th>465</th>\n",
       "      <td>27</td>\n",
       "      <td>Luca Ghiotto</td>\n",
       "      <td>51</td>\n",
       "      <td>27</td>\n",
       "      <td>34</td>\n",
       "      <td>00:40:57.8112</td>\n",
       "      <td>34</td>\n",
       "      <td>Contact</td>\n",
       "      <td>5</td>\n",
       "      <td>111.453</td>\n",
       "      <td>1</td>\n",
       "      <td>lagunaseca</td>\n",
       "      <td>0</td>\n",
       "      <td>44</td>\n",
       "    </tr>\n",
       "    <tr>\n",
       "      <th>122</th>\n",
       "      <td>15</td>\n",
       "      <td>Sting Ray Robb</td>\n",
       "      <td>41</td>\n",
       "      <td>24</td>\n",
       "      <td>250</td>\n",
       "      <td>01:44:55.1414</td>\n",
       "      <td>250</td>\n",
       "      <td>Running</td>\n",
       "      <td>15</td>\n",
       "      <td>127.813</td>\n",
       "      <td>2</td>\n",
       "      <td>iowa1</td>\n",
       "      <td>0</td>\n",
       "      <td>167</td>\n",
       "    </tr>\n",
       "    <tr>\n",
       "      <th>452</th>\n",
       "      <td>14</td>\n",
       "      <td>Pietro Fittipaldi</td>\n",
       "      <td>30</td>\n",
       "      <td>24</td>\n",
       "      <td>95</td>\n",
       "      <td>02:04:24.6086</td>\n",
       "      <td>95</td>\n",
       "      <td>Running</td>\n",
       "      <td>16</td>\n",
       "      <td>102.537</td>\n",
       "      <td>4</td>\n",
       "      <td>lagunaseca</td>\n",
       "      <td>0</td>\n",
       "      <td>177</td>\n",
       "    </tr>\n",
       "    <tr>\n",
       "      <th>54</th>\n",
       "      <td>1</td>\n",
       "      <td>Will Power</td>\n",
       "      <td>12</td>\n",
       "      <td>5</td>\n",
       "      <td>55</td>\n",
       "      <td>01:45:00.0267</td>\n",
       "      <td>55</td>\n",
       "      <td>Running</td>\n",
       "      <td>51</td>\n",
       "      <td>126.154</td>\n",
       "      <td>3</td>\n",
       "      <td>roadamerica</td>\n",
       "      <td>25</td>\n",
       "      <td>376</td>\n",
       "    </tr>\n",
       "    <tr>\n",
       "      <th>167</th>\n",
       "      <td>6</td>\n",
       "      <td>Marcus Ericsson</td>\n",
       "      <td>28</td>\n",
       "      <td>10</td>\n",
       "      <td>110</td>\n",
       "      <td>01:56:14.9635</td>\n",
       "      <td>110</td>\n",
       "      <td>Running</td>\n",
       "      <td>28</td>\n",
       "      <td>111.505</td>\n",
       "      <td>3</td>\n",
       "      <td>portland</td>\n",
       "      <td>8</td>\n",
       "      <td>271</td>\n",
       "    </tr>\n",
       "    <tr>\n",
       "      <th>71</th>\n",
       "      <td>18</td>\n",
       "      <td>Alexander Rossi</td>\n",
       "      <td>7</td>\n",
       "      <td>9</td>\n",
       "      <td>55</td>\n",
       "      <td>01:46:15.0693</td>\n",
       "      <td>55</td>\n",
       "      <td>Running</td>\n",
       "      <td>12</td>\n",
       "      <td>124.669</td>\n",
       "      <td>3</td>\n",
       "      <td>roadamerica</td>\n",
       "      <td>0</td>\n",
       "      <td>152</td>\n",
       "    </tr>\n",
       "    <tr>\n",
       "      <th>429</th>\n",
       "      <td>18</td>\n",
       "      <td>Marcus Ericsson</td>\n",
       "      <td>28</td>\n",
       "      <td>18</td>\n",
       "      <td>90</td>\n",
       "      <td>01:56:59.6210</td>\n",
       "      <td>90</td>\n",
       "      <td>Running</td>\n",
       "      <td>12</td>\n",
       "      <td>106.160</td>\n",
       "      <td>2</td>\n",
       "      <td>barber</td>\n",
       "      <td>0</td>\n",
       "      <td>143</td>\n",
       "    </tr>\n",
       "    <tr>\n",
       "      <th>81</th>\n",
       "      <td>1</td>\n",
       "      <td>Will Power</td>\n",
       "      <td>12</td>\n",
       "      <td>22</td>\n",
       "      <td>250</td>\n",
       "      <td>01:26:38.7472</td>\n",
       "      <td>250</td>\n",
       "      <td>Running</td>\n",
       "      <td>51</td>\n",
       "      <td>154.768</td>\n",
       "      <td>2</td>\n",
       "      <td>iowa2</td>\n",
       "      <td>25</td>\n",
       "      <td>359</td>\n",
       "    </tr>\n",
       "    <tr>\n",
       "      <th>363</th>\n",
       "      <td>6</td>\n",
       "      <td>Alexander Rossi</td>\n",
       "      <td>7</td>\n",
       "      <td>6</td>\n",
       "      <td>250</td>\n",
       "      <td>02:06:45.7286</td>\n",
       "      <td>250</td>\n",
       "      <td>Running</td>\n",
       "      <td>29</td>\n",
       "      <td>120.107</td>\n",
       "      <td>5</td>\n",
       "      <td>milwaukee2</td>\n",
       "      <td>8</td>\n",
       "      <td>275</td>\n",
       "    </tr>\n",
       "    <tr>\n",
       "      <th>295</th>\n",
       "      <td>19</td>\n",
       "      <td>Katherine Legge</td>\n",
       "      <td>51</td>\n",
       "      <td>18</td>\n",
       "      <td>248</td>\n",
       "      <td>02:03:19.5467</td>\n",
       "      <td>248</td>\n",
       "      <td>Running</td>\n",
       "      <td>11</td>\n",
       "      <td>122.466</td>\n",
       "      <td>6</td>\n",
       "      <td>milwaukee1</td>\n",
       "      <td>0</td>\n",
       "      <td>133</td>\n",
       "    </tr>\n",
       "    <tr>\n",
       "      <th>250</th>\n",
       "      <td>1</td>\n",
       "      <td>Alex Palou</td>\n",
       "      <td>10</td>\n",
       "      <td>1</td>\n",
       "      <td>85</td>\n",
       "      <td>01:45:27.2320</td>\n",
       "      <td>85</td>\n",
       "      <td>Running</td>\n",
       "      <td>54</td>\n",
       "      <td>117.956</td>\n",
       "      <td>3</td>\n",
       "      <td>indyrc</td>\n",
       "      <td>25</td>\n",
       "      <td>385</td>\n",
       "    </tr>\n",
       "    <tr>\n",
       "      <th>25</th>\n",
       "      <td>26</td>\n",
       "      <td>Josef Newgarden</td>\n",
       "      <td>2</td>\n",
       "      <td>3</td>\n",
       "      <td>94</td>\n",
       "      <td>02:07:02.1853</td>\n",
       "      <td>94</td>\n",
       "      <td>Running</td>\n",
       "      <td>6</td>\n",
       "      <td>73.033</td>\n",
       "      <td>5</td>\n",
       "      <td>detroit</td>\n",
       "      <td>0</td>\n",
       "      <td>80</td>\n",
       "    </tr>\n",
       "    <tr>\n",
       "      <th>111</th>\n",
       "      <td>4</td>\n",
       "      <td>Scott Dixon</td>\n",
       "      <td>9</td>\n",
       "      <td>5</td>\n",
       "      <td>250</td>\n",
       "      <td>01:44:46.1213</td>\n",
       "      <td>250</td>\n",
       "      <td>Running</td>\n",
       "      <td>32</td>\n",
       "      <td>127.996</td>\n",
       "      <td>2</td>\n",
       "      <td>iowa1</td>\n",
       "      <td>12</td>\n",
       "      <td>306</td>\n",
       "    </tr>\n",
       "    <tr>\n",
       "      <th>294</th>\n",
       "      <td>18</td>\n",
       "      <td>Pietro Fittipaldi</td>\n",
       "      <td>30</td>\n",
       "      <td>27</td>\n",
       "      <td>248</td>\n",
       "      <td>02:03:15.1790</td>\n",
       "      <td>248</td>\n",
       "      <td>Running</td>\n",
       "      <td>12</td>\n",
       "      <td>122.538</td>\n",
       "      <td>4</td>\n",
       "      <td>milwaukee1</td>\n",
       "      <td>0</td>\n",
       "      <td>134</td>\n",
       "    </tr>\n",
       "    <tr>\n",
       "      <th>408</th>\n",
       "      <td>24</td>\n",
       "      <td>Hunter McElrea</td>\n",
       "      <td>18</td>\n",
       "      <td>25</td>\n",
       "      <td>57</td>\n",
       "      <td>01:04:49.1748</td>\n",
       "      <td>57</td>\n",
       "      <td>Contact</td>\n",
       "      <td>6</td>\n",
       "      <td>94.233</td>\n",
       "      <td>2</td>\n",
       "      <td>toronto</td>\n",
       "      <td>0</td>\n",
       "      <td>76</td>\n",
       "    </tr>\n",
       "    <tr>\n",
       "      <th>161</th>\n",
       "      <td>27</td>\n",
       "      <td>Scott McLaughlin</td>\n",
       "      <td>3</td>\n",
       "      <td>9</td>\n",
       "      <td>0</td>\n",
       "      <td>00:00:00.7207</td>\n",
       "      <td>0</td>\n",
       "      <td>DSQ</td>\n",
       "      <td>0</td>\n",
       "      <td>0.000</td>\n",
       "      <td>0</td>\n",
       "      <td>stpetersburg</td>\n",
       "      <td>0</td>\n",
       "      <td>62</td>\n",
       "    </tr>\n",
       "    <tr>\n",
       "      <th>143</th>\n",
       "      <td>9</td>\n",
       "      <td>Santino Ferrucci</td>\n",
       "      <td>14</td>\n",
       "      <td>14</td>\n",
       "      <td>100</td>\n",
       "      <td>01:51:52.6391</td>\n",
       "      <td>100</td>\n",
       "      <td>Running</td>\n",
       "      <td>22</td>\n",
       "      <td>96.534</td>\n",
       "      <td>2</td>\n",
       "      <td>stpetersburg</td>\n",
       "      <td>2</td>\n",
       "      <td>237</td>\n",
       "    </tr>\n",
       "    <tr>\n",
       "      <th>48</th>\n",
       "      <td>22</td>\n",
       "      <td>Tom Blomqvist</td>\n",
       "      <td>66</td>\n",
       "      <td>15</td>\n",
       "      <td>84</td>\n",
       "      <td>01:42:28.7772</td>\n",
       "      <td>84</td>\n",
       "      <td>Running</td>\n",
       "      <td>8</td>\n",
       "      <td>96.787</td>\n",
       "      <td>3</td>\n",
       "      <td>longbeach</td>\n",
       "      <td>0</td>\n",
       "      <td>106</td>\n",
       "    </tr>\n",
       "    <tr>\n",
       "      <th>3</th>\n",
       "      <td>4</td>\n",
       "      <td>Kyle Kirkwood</td>\n",
       "      <td>27</td>\n",
       "      <td>6</td>\n",
       "      <td>100</td>\n",
       "      <td>02:06:14.0933</td>\n",
       "      <td>100</td>\n",
       "      <td>Running</td>\n",
       "      <td>33</td>\n",
       "      <td>78.188</td>\n",
       "      <td>2</td>\n",
       "      <td>detroit</td>\n",
       "      <td>12</td>\n",
       "      <td>305</td>\n",
       "    </tr>\n",
       "    <tr>\n",
       "      <th>27</th>\n",
       "      <td>1</td>\n",
       "      <td>Scott Dixon</td>\n",
       "      <td>9</td>\n",
       "      <td>8</td>\n",
       "      <td>85</td>\n",
       "      <td>01:42:03.1416</td>\n",
       "      <td>85</td>\n",
       "      <td>Running</td>\n",
       "      <td>53</td>\n",
       "      <td>98.350</td>\n",
       "      <td>2</td>\n",
       "      <td>longbeach</td>\n",
       "      <td>25</td>\n",
       "      <td>373</td>\n",
       "    </tr>\n",
       "    <tr>\n",
       "      <th>318</th>\n",
       "      <td>15</td>\n",
       "      <td>Christian Lundgaard</td>\n",
       "      <td>45</td>\n",
       "      <td>23</td>\n",
       "      <td>257</td>\n",
       "      <td>02:22:37.6655</td>\n",
       "      <td>257</td>\n",
       "      <td>Running</td>\n",
       "      <td>15</td>\n",
       "      <td>135.142</td>\n",
       "      <td>5</td>\n",
       "      <td>gateway</td>\n",
       "      <td>0</td>\n",
       "      <td>168</td>\n",
       "    </tr>\n",
       "    <tr>\n",
       "      <th>456</th>\n",
       "      <td>18</td>\n",
       "      <td>Agustin Canapino</td>\n",
       "      <td>78</td>\n",
       "      <td>13</td>\n",
       "      <td>95</td>\n",
       "      <td>02:04:33.3992</td>\n",
       "      <td>95</td>\n",
       "      <td>Running</td>\n",
       "      <td>12</td>\n",
       "      <td>102.416</td>\n",
       "      <td>3</td>\n",
       "      <td>lagunaseca</td>\n",
       "      <td>0</td>\n",
       "      <td>148</td>\n",
       "    </tr>\n",
       "    <tr>\n",
       "      <th>188</th>\n",
       "      <td>27</td>\n",
       "      <td>Romain Grosjean</td>\n",
       "      <td>77</td>\n",
       "      <td>6</td>\n",
       "      <td>107</td>\n",
       "      <td>01:55:45.8508</td>\n",
       "      <td>107</td>\n",
       "      <td>Running</td>\n",
       "      <td>5</td>\n",
       "      <td>108.919</td>\n",
       "      <td>4</td>\n",
       "      <td>portland</td>\n",
       "      <td>0</td>\n",
       "      <td>65</td>\n",
       "    </tr>\n",
       "    <tr>\n",
       "      <th>340</th>\n",
       "      <td>10</td>\n",
       "      <td>Conor Daly</td>\n",
       "      <td>78</td>\n",
       "      <td>6</td>\n",
       "      <td>205</td>\n",
       "      <td>01:43:18.9149</td>\n",
       "      <td>205</td>\n",
       "      <td>Running</td>\n",
       "      <td>20</td>\n",
       "      <td>158.341</td>\n",
       "      <td>3</td>\n",
       "      <td>nashville</td>\n",
       "      <td>1</td>\n",
       "      <td>235</td>\n",
       "    </tr>\n",
       "    <tr>\n",
       "      <th>79</th>\n",
       "      <td>26</td>\n",
       "      <td>Marcus Armstrong</td>\n",
       "      <td>11</td>\n",
       "      <td>3</td>\n",
       "      <td>35</td>\n",
       "      <td>01:10:34.4531</td>\n",
       "      <td>35</td>\n",
       "      <td>Mechanical</td>\n",
       "      <td>5</td>\n",
       "      <td>119.440</td>\n",
       "      <td>3</td>\n",
       "      <td>roadamerica</td>\n",
       "      <td>0</td>\n",
       "      <td>80</td>\n",
       "    </tr>\n",
       "    <tr>\n",
       "      <th>257</th>\n",
       "      <td>8</td>\n",
       "      <td>Alexander Rossi</td>\n",
       "      <td>7</td>\n",
       "      <td>7</td>\n",
       "      <td>85</td>\n",
       "      <td>01:45:47.3958</td>\n",
       "      <td>85</td>\n",
       "      <td>Running</td>\n",
       "      <td>25</td>\n",
       "      <td>117.581</td>\n",
       "      <td>3</td>\n",
       "      <td>indyrc</td>\n",
       "      <td>4</td>\n",
       "      <td>254</td>\n",
       "    </tr>\n",
       "    <tr>\n",
       "      <th>207</th>\n",
       "      <td>18</td>\n",
       "      <td>Graham Rahal</td>\n",
       "      <td>15</td>\n",
       "      <td>18</td>\n",
       "      <td>80</td>\n",
       "      <td>01:34:21.4872</td>\n",
       "      <td>80</td>\n",
       "      <td>Running</td>\n",
       "      <td>12</td>\n",
       "      <td>114.865</td>\n",
       "      <td>3</td>\n",
       "      <td>midohio</td>\n",
       "      <td>0</td>\n",
       "      <td>143</td>\n",
       "    </tr>\n",
       "    <tr>\n",
       "      <th>26</th>\n",
       "      <td>27</td>\n",
       "      <td>Christian Rasmussen</td>\n",
       "      <td>20</td>\n",
       "      <td>13</td>\n",
       "      <td>24</td>\n",
       "      <td>01:52:14.4116</td>\n",
       "      <td>24</td>\n",
       "      <td>Mechanical</td>\n",
       "      <td>5</td>\n",
       "      <td>21.105</td>\n",
       "      <td>0</td>\n",
       "      <td>detroit</td>\n",
       "      <td>0</td>\n",
       "      <td>58</td>\n",
       "    </tr>\n",
       "    <tr>\n",
       "      <th>213</th>\n",
       "      <td>24</td>\n",
       "      <td>Pietro Fittipaldi</td>\n",
       "      <td>30</td>\n",
       "      <td>27</td>\n",
       "      <td>79</td>\n",
       "      <td>01:33:35.6225</td>\n",
       "      <td>79</td>\n",
       "      <td>Running</td>\n",
       "      <td>6</td>\n",
       "      <td>114.355</td>\n",
       "      <td>3</td>\n",
       "      <td>midohio</td>\n",
       "      <td>0</td>\n",
       "      <td>74</td>\n",
       "    </tr>\n",
       "    <tr>\n",
       "      <th>434</th>\n",
       "      <td>23</td>\n",
       "      <td>Pato O'Ward</td>\n",
       "      <td>5</td>\n",
       "      <td>4</td>\n",
       "      <td>90</td>\n",
       "      <td>01:57:02.2234</td>\n",
       "      <td>90</td>\n",
       "      <td>Running</td>\n",
       "      <td>7</td>\n",
       "      <td>106.120</td>\n",
       "      <td>3</td>\n",
       "      <td>barber</td>\n",
       "      <td>0</td>\n",
       "      <td>108</td>\n",
       "    </tr>\n",
       "    <tr>\n",
       "      <th>244</th>\n",
       "      <td>28</td>\n",
       "      <td>Linus Lundqvist</td>\n",
       "      <td>8</td>\n",
       "      <td>27</td>\n",
       "      <td>27</td>\n",
       "      <td>00:29:29.7195</td>\n",
       "      <td>27</td>\n",
       "      <td>Contact</td>\n",
       "      <td>5</td>\n",
       "      <td>137.310</td>\n",
       "      <td>2</td>\n",
       "      <td>indy500</td>\n",
       "      <td>0</td>\n",
       "      <td>34</td>\n",
       "    </tr>\n",
       "    <tr>\n",
       "      <th>412</th>\n",
       "      <td>1</td>\n",
       "      <td>Scott McLaughlin</td>\n",
       "      <td>3</td>\n",
       "      <td>1</td>\n",
       "      <td>90</td>\n",
       "      <td>01:56:45.7773</td>\n",
       "      <td>90</td>\n",
       "      <td>Running</td>\n",
       "      <td>54</td>\n",
       "      <td>106.369</td>\n",
       "      <td>3</td>\n",
       "      <td>barber</td>\n",
       "      <td>25</td>\n",
       "      <td>385</td>\n",
       "    </tr>\n",
       "    <tr>\n",
       "      <th>443</th>\n",
       "      <td>5</td>\n",
       "      <td>Kyle Kirkwood</td>\n",
       "      <td>27</td>\n",
       "      <td>2</td>\n",
       "      <td>95</td>\n",
       "      <td>02:04:18.5313</td>\n",
       "      <td>95</td>\n",
       "      <td>Running</td>\n",
       "      <td>31</td>\n",
       "      <td>102.620</td>\n",
       "      <td>3</td>\n",
       "      <td>lagunaseca</td>\n",
       "      <td>10</td>\n",
       "      <td>292</td>\n",
       "    </tr>\n",
       "    <tr>\n",
       "      <th>13</th>\n",
       "      <td>14</td>\n",
       "      <td>Rinus VeeKay</td>\n",
       "      <td>21</td>\n",
       "      <td>18</td>\n",
       "      <td>100</td>\n",
       "      <td>02:06:37.3806</td>\n",
       "      <td>100</td>\n",
       "      <td>Running</td>\n",
       "      <td>16</td>\n",
       "      <td>77.948</td>\n",
       "      <td>3</td>\n",
       "      <td>detroit</td>\n",
       "      <td>0</td>\n",
       "      <td>183</td>\n",
       "    </tr>\n",
       "    <tr>\n",
       "      <th>387</th>\n",
       "      <td>3</td>\n",
       "      <td>Scott Dixon</td>\n",
       "      <td>9</td>\n",
       "      <td>15</td>\n",
       "      <td>85</td>\n",
       "      <td>01:39:29.3973</td>\n",
       "      <td>85</td>\n",
       "      <td>Running</td>\n",
       "      <td>36</td>\n",
       "      <td>91.553</td>\n",
       "      <td>2</td>\n",
       "      <td>toronto</td>\n",
       "      <td>15</td>\n",
       "      <td>316</td>\n",
       "    </tr>\n",
       "    <tr>\n",
       "      <th>136</th>\n",
       "      <td>2</td>\n",
       "      <td>Will Power</td>\n",
       "      <td>12</td>\n",
       "      <td>8</td>\n",
       "      <td>100</td>\n",
       "      <td>01:51:38.6513</td>\n",
       "      <td>100</td>\n",
       "      <td>Running</td>\n",
       "      <td>30</td>\n",
       "      <td>96.736</td>\n",
       "      <td>2</td>\n",
       "      <td>stpetersburg</td>\n",
       "      <td>18</td>\n",
       "      <td>343</td>\n",
       "    </tr>\n",
       "    <tr>\n",
       "      <th>133</th>\n",
       "      <td>26</td>\n",
       "      <td>David Malukas</td>\n",
       "      <td>66</td>\n",
       "      <td>14</td>\n",
       "      <td>0</td>\n",
       "      <td>00:00:01.5292</td>\n",
       "      <td>0</td>\n",
       "      <td>Contact</td>\n",
       "      <td>5</td>\n",
       "      <td>0.000</td>\n",
       "      <td>0</td>\n",
       "      <td>iowa1</td>\n",
       "      <td>0</td>\n",
       "      <td>67</td>\n",
       "    </tr>\n",
       "    <tr>\n",
       "      <th>271</th>\n",
       "      <td>22</td>\n",
       "      <td>Sting Ray Robb</td>\n",
       "      <td>41</td>\n",
       "      <td>27</td>\n",
       "      <td>84</td>\n",
       "      <td>01:45:52.9639</td>\n",
       "      <td>84</td>\n",
       "      <td>Running</td>\n",
       "      <td>8</td>\n",
       "      <td>116.096</td>\n",
       "      <td>3</td>\n",
       "      <td>indyrc</td>\n",
       "      <td>0</td>\n",
       "      <td>94</td>\n",
       "    </tr>\n",
       "    <tr>\n",
       "      <th>262</th>\n",
       "      <td>13</td>\n",
       "      <td>Pato O'Ward</td>\n",
       "      <td>5</td>\n",
       "      <td>5</td>\n",
       "      <td>85</td>\n",
       "      <td>01:45:58.4708</td>\n",
       "      <td>85</td>\n",
       "      <td>Running</td>\n",
       "      <td>17</td>\n",
       "      <td>117.376</td>\n",
       "      <td>3</td>\n",
       "      <td>indyrc</td>\n",
       "      <td>0</td>\n",
       "      <td>206</td>\n",
       "    </tr>\n",
       "    <tr>\n",
       "      <th>293</th>\n",
       "      <td>17</td>\n",
       "      <td>Nolan Siegel</td>\n",
       "      <td>6</td>\n",
       "      <td>24</td>\n",
       "      <td>249</td>\n",
       "      <td>02:03:27.9442</td>\n",
       "      <td>249</td>\n",
       "      <td>Running</td>\n",
       "      <td>13</td>\n",
       "      <td>122.820</td>\n",
       "      <td>4</td>\n",
       "      <td>milwaukee1</td>\n",
       "      <td>0</td>\n",
       "      <td>147</td>\n",
       "    </tr>\n",
       "    <tr>\n",
       "      <th>346</th>\n",
       "      <td>16</td>\n",
       "      <td>Romain Grosjean</td>\n",
       "      <td>77</td>\n",
       "      <td>13</td>\n",
       "      <td>204</td>\n",
       "      <td>01:43:25.4584</td>\n",
       "      <td>204</td>\n",
       "      <td>Running</td>\n",
       "      <td>14</td>\n",
       "      <td>157.402</td>\n",
       "      <td>4</td>\n",
       "      <td>nashville</td>\n",
       "      <td>0</td>\n",
       "      <td>168</td>\n",
       "    </tr>\n",
       "    <tr>\n",
       "      <th>373</th>\n",
       "      <td>16</td>\n",
       "      <td>Christian Rasmussen</td>\n",
       "      <td>20</td>\n",
       "      <td>23</td>\n",
       "      <td>243</td>\n",
       "      <td>02:06:41.0040</td>\n",
       "      <td>243</td>\n",
       "      <td>Running</td>\n",
       "      <td>14</td>\n",
       "      <td>116.816</td>\n",
       "      <td>5</td>\n",
       "      <td>milwaukee2</td>\n",
       "      <td>0</td>\n",
       "      <td>158</td>\n",
       "    </tr>\n",
       "  </tbody>\n",
       "</table>\n",
       "</div>"
      ],
      "text/plain": [
       "     Rank               Driver Car No.  Starts  Laps     Total time  Laps Led  \\\n",
       "56      3     Scott McLaughlin       3       8    55  01:45:08.0415        55   \n",
       "464    26         Rinus VeeKay      21      20    72  01:39:43.0398        72   \n",
       "326    23         Graham Rahal      15      14   161  01:25:07.1785       161   \n",
       "407    23     Felix Rosenqvist      60       3    63  01:10:40.7835        63   \n",
       "465    27         Luca Ghiotto      51      27    34  00:40:57.8112        34   \n",
       "122    15       Sting Ray Robb      41      24   250  01:44:55.1414       250   \n",
       "452    14    Pietro Fittipaldi      30      24    95  02:04:24.6086        95   \n",
       "54      1           Will Power      12       5    55  01:45:00.0267        55   \n",
       "167     6      Marcus Ericsson      28      10   110  01:56:14.9635       110   \n",
       "71     18      Alexander Rossi       7       9    55  01:46:15.0693        55   \n",
       "429    18      Marcus Ericsson      28      18    90  01:56:59.6210        90   \n",
       "81      1           Will Power      12      22   250  01:26:38.7472       250   \n",
       "363     6      Alexander Rossi       7       6   250  02:06:45.7286       250   \n",
       "295    19      Katherine Legge      51      18   248  02:03:19.5467       248   \n",
       "250     1           Alex Palou      10       1    85  01:45:27.2320        85   \n",
       "25     26      Josef Newgarden       2       3    94  02:07:02.1853        94   \n",
       "111     4          Scott Dixon       9       5   250  01:44:46.1213       250   \n",
       "294    18    Pietro Fittipaldi      30      27   248  02:03:15.1790       248   \n",
       "408    24       Hunter McElrea      18      25    57  01:04:49.1748        57   \n",
       "161    27     Scott McLaughlin       3       9     0  00:00:00.7207         0   \n",
       "143     9     Santino Ferrucci      14      14   100  01:51:52.6391       100   \n",
       "48     22        Tom Blomqvist      66      15    84  01:42:28.7772        84   \n",
       "3       4        Kyle Kirkwood      27       6   100  02:06:14.0933       100   \n",
       "27      1          Scott Dixon       9       8    85  01:42:03.1416        85   \n",
       "318    15  Christian Lundgaard      45      23   257  02:22:37.6655       257   \n",
       "456    18     Agustin Canapino      78      13    95  02:04:33.3992        95   \n",
       "188    27      Romain Grosjean      77       6   107  01:55:45.8508       107   \n",
       "340    10           Conor Daly      78       6   205  01:43:18.9149       205   \n",
       "79     26     Marcus Armstrong      11       3    35  01:10:34.4531        35   \n",
       "257     8      Alexander Rossi       7       7    85  01:45:47.3958        85   \n",
       "207    18         Graham Rahal      15      18    80  01:34:21.4872        80   \n",
       "26     27  Christian Rasmussen      20      13    24  01:52:14.4116        24   \n",
       "213    24    Pietro Fittipaldi      30      27    79  01:33:35.6225        79   \n",
       "434    23          Pato O'Ward       5       4    90  01:57:02.2234        90   \n",
       "244    28      Linus Lundqvist       8      27    27  00:29:29.7195        27   \n",
       "412     1     Scott McLaughlin       3       1    90  01:56:45.7773        90   \n",
       "443     5        Kyle Kirkwood      27       2    95  02:04:18.5313        95   \n",
       "13     14         Rinus VeeKay      21      18   100  02:06:37.3806       100   \n",
       "387     3          Scott Dixon       9      15    85  01:39:29.3973        85   \n",
       "136     2           Will Power      12       8   100  01:51:38.6513       100   \n",
       "133    26        David Malukas      66      14     0  00:00:01.5292         0   \n",
       "271    22       Sting Ray Robb      41      27    84  01:45:52.9639        84   \n",
       "262    13          Pato O'Ward       5       5    85  01:45:58.4708        85   \n",
       "293    17         Nolan Siegel       6      24   249  02:03:27.9442       249   \n",
       "346    16      Romain Grosjean      77      13   204  01:43:25.4584       204   \n",
       "373    16  Christian Rasmussen      20      23   243  02:06:41.0040       243   \n",
       "\n",
       "         Status  Points Avg.Speed  Pit stop          City  \\\n",
       "56      Running      38   125.993         3   roadamerica   \n",
       "464  Mechanical       5    96.956         3    lagunaseca   \n",
       "326  Mechanical       8   141.859         2       gateway   \n",
       "407  Mechanical       7    95.517         2       toronto   \n",
       "465     Contact       5   111.453         1    lagunaseca   \n",
       "122     Running      15   127.813         2         iowa1   \n",
       "452     Running      16   102.537         4    lagunaseca   \n",
       "54      Running      51   126.154         3   roadamerica   \n",
       "167     Running      28   111.505         3      portland   \n",
       "71      Running      12   124.669         3   roadamerica   \n",
       "429     Running      12   106.160         2        barber   \n",
       "81      Running      51   154.768         2         iowa2   \n",
       "363     Running      29   120.107         5    milwaukee2   \n",
       "295     Running      11   122.466         6    milwaukee1   \n",
       "250     Running      54   117.956         3        indyrc   \n",
       "25      Running       6    73.033         5       detroit   \n",
       "111     Running      32   127.996         2         iowa1   \n",
       "294     Running      12   122.538         4    milwaukee1   \n",
       "408     Contact       6    94.233         2       toronto   \n",
       "161         DSQ       0     0.000         0  stpetersburg   \n",
       "143     Running      22    96.534         2  stpetersburg   \n",
       "48      Running       8    96.787         3     longbeach   \n",
       "3       Running      33    78.188         2       detroit   \n",
       "27      Running      53    98.350         2     longbeach   \n",
       "318     Running      15   135.142         5       gateway   \n",
       "456     Running      12   102.416         3    lagunaseca   \n",
       "188     Running       5   108.919         4      portland   \n",
       "340     Running      20   158.341         3     nashville   \n",
       "79   Mechanical       5   119.440         3   roadamerica   \n",
       "257     Running      25   117.581         3        indyrc   \n",
       "207     Running      12   114.865         3       midohio   \n",
       "26   Mechanical       5    21.105         0       detroit   \n",
       "213     Running       6   114.355         3       midohio   \n",
       "434     Running       7   106.120         3        barber   \n",
       "244     Contact       5   137.310         2       indy500   \n",
       "412     Running      54   106.369         3        barber   \n",
       "443     Running      31   102.620         3    lagunaseca   \n",
       "13      Running      16    77.948         3       detroit   \n",
       "387     Running      36    91.553         2       toronto   \n",
       "136     Running      30    96.736         2  stpetersburg   \n",
       "133     Contact       5     0.000         0         iowa1   \n",
       "271     Running       8   116.096         3        indyrc   \n",
       "262     Running      17   117.376         3        indyrc   \n",
       "293     Running      13   122.820         4    milwaukee1   \n",
       "346     Running      14   157.402         4     nashville   \n",
       "373     Running      14   116.816         5    milwaukee2   \n",
       "\n",
       "     Points (F1 Scoring)  Points (IMSA Scoring)  \n",
       "56                    15                    323  \n",
       "464                    0                     61  \n",
       "326                    0                     97  \n",
       "407                    0                    110  \n",
       "465                    0                     44  \n",
       "122                    0                    167  \n",
       "452                    0                    177  \n",
       "54                    25                    376  \n",
       "167                    8                    271  \n",
       "71                     0                    152  \n",
       "429                    0                    143  \n",
       "81                    25                    359  \n",
       "363                    8                    275  \n",
       "295                    0                    133  \n",
       "250                   25                    385  \n",
       "25                     0                     80  \n",
       "111                   12                    306  \n",
       "294                    0                    134  \n",
       "408                    0                     76  \n",
       "161                    0                     62  \n",
       "143                    2                    237  \n",
       "48                     0                    106  \n",
       "3                     12                    305  \n",
       "27                    25                    373  \n",
       "318                    0                    168  \n",
       "456                    0                    148  \n",
       "188                    0                     65  \n",
       "340                    1                    235  \n",
       "79                     0                     80  \n",
       "257                    4                    254  \n",
       "207                    0                    143  \n",
       "26                     0                     58  \n",
       "213                    0                     74  \n",
       "434                    0                    108  \n",
       "244                    0                     34  \n",
       "412                   25                    385  \n",
       "443                   10                    292  \n",
       "13                     0                    183  \n",
       "387                   15                    316  \n",
       "136                   18                    343  \n",
       "133                    0                     67  \n",
       "271                    0                     94  \n",
       "262                    0                    206  \n",
       "293                    0                    147  \n",
       "346                    0                    168  \n",
       "373                    0                    158  "
      ]
     },
     "execution_count": 21,
     "metadata": {},
     "output_type": "execute_result"
    }
   ],
   "source": [
    "all_files_path = 'race_results_html/*.htm'\n",
    "race_results_files = []\n",
    "race_results_files = glob.glob(all_files_path)\n",
    "\n",
    "season_races_df = pd.DataFrame()\n",
    "\n",
    "# Initialize a list to contain the race results \n",
    "race_result_data = []\n",
    "i = 0\n",
    "\n",
    "for race_result_file in race_results_files:\n",
    "# Get City / Race Name\n",
    "    i += 1\n",
    "    j = 0\n",
    "    city = race_result_file.split('.')[0]\n",
    "    city = city[18:]\n",
    "# Read html file and store as html_content\n",
    "    with open(race_result_file, 'r') as file:\n",
    "        html_content = file.read()\n",
    "    # Parse race result table html\n",
    "    soup = BeautifulSoup(html_content, 'html.parser')\n",
    "    race_table_html = soup.find(id = 'race-season')\n",
    "\n",
    "# Loop through table html and parse to list\n",
    "    for row in race_table_html.find_all('tr'):\n",
    "        j += 1\n",
    "        row_data = [cell.get_text(strip=True) for cell in row.find_all(['th', 'td'])]\n",
    "        if j == 1 and i == 1:\n",
    "            row_data_with_city = row_data + ['City']\n",
    "            race_result_data.append(row_data_with_city)\n",
    "        elif j != 1:\n",
    "            row_data_with_city = row_data + [city]\n",
    "            race_result_data.append(row_data_with_city)\n",
    "        else:\n",
    "            pass\n",
    "\n",
    "    race_result_df = pd.DataFrame(race_result_data[1:], columns=race_result_data[0])\n",
    "    race_result_df['Rank'] = race_result_df['Rank'].astype('int')\n",
    "    race_result_df['Starts'] = race_result_df['Starts'].astype('int')\n",
    "    race_result_df['Laps'] = race_result_df['Laps'].astype('int')\n",
    "    race_result_df['Laps Led'] = race_result_df['Laps'].astype('int')\n",
    "    race_result_df['Points'] = race_result_df['Points'].astype('int')\n",
    "    race_result_df['Pit stop'] = race_result_df['Pit stop'].astype('int64')\n",
    "\n",
    "    race_result_df = pd.merge(race_result_df, points_table_formula1, on='Rank', how='inner')\n",
    "    race_result_df = pd.merge(race_result_df, points_table_imsa, on='Rank', how='inner')\n",
    "    race_result_df = pd.merge(race_result_df, points_table_imsa_qual, on='Starts', how='inner')\n",
    "    race_result_df['Points (IMSA Scoring)'] = race_result_df['Points (IMSA Scoring)']+race_result_df['Points (IMSA Scoring) - Qualifying']\n",
    "    race_result_df = race_result_df.drop(columns=['Points (IMSA Scoring) - Qualifying'])\n",
    "\n",
    "    \n",
    "\n",
    "race_result_df.sample(46)"
   ]
  },
  {
   "cell_type": "code",
   "execution_count": 22,
   "id": "bba73911-031d-4282-b624-dbb04a4bcb42",
   "metadata": {},
   "outputs": [
    {
     "data": {
      "text/html": [
       "<div>\n",
       "<style scoped>\n",
       "    .dataframe tbody tr th:only-of-type {\n",
       "        vertical-align: middle;\n",
       "    }\n",
       "\n",
       "    .dataframe tbody tr th {\n",
       "        vertical-align: top;\n",
       "    }\n",
       "\n",
       "    .dataframe thead th {\n",
       "        text-align: right;\n",
       "    }\n",
       "</style>\n",
       "<table border=\"1\" class=\"dataframe\">\n",
       "  <thead>\n",
       "    <tr style=\"text-align: right;\">\n",
       "      <th></th>\n",
       "      <th>Rank</th>\n",
       "      <th>Driver</th>\n",
       "      <th>Car No.</th>\n",
       "      <th>Starts</th>\n",
       "      <th>Laps</th>\n",
       "      <th>Total time</th>\n",
       "      <th>Laps Led</th>\n",
       "      <th>Status</th>\n",
       "      <th>Points</th>\n",
       "      <th>Avg.Speed</th>\n",
       "      <th>Pit stop</th>\n",
       "      <th>City</th>\n",
       "      <th>Points (F1 Scoring)</th>\n",
       "      <th>Points (IMSA Scoring)</th>\n",
       "      <th>Race Number</th>\n",
       "    </tr>\n",
       "  </thead>\n",
       "  <tbody>\n",
       "    <tr>\n",
       "      <th>0</th>\n",
       "      <td>1</td>\n",
       "      <td>Scott Dixon</td>\n",
       "      <td>9</td>\n",
       "      <td>5</td>\n",
       "      <td>100</td>\n",
       "      <td>02:06:07.9684</td>\n",
       "      <td>100</td>\n",
       "      <td>Running</td>\n",
       "      <td>53</td>\n",
       "      <td>78.251</td>\n",
       "      <td>2</td>\n",
       "      <td>detroit</td>\n",
       "      <td>25</td>\n",
       "      <td>376</td>\n",
       "      <td>6</td>\n",
       "    </tr>\n",
       "    <tr>\n",
       "      <th>1</th>\n",
       "      <td>2</td>\n",
       "      <td>Marcus Ericsson</td>\n",
       "      <td>28</td>\n",
       "      <td>9</td>\n",
       "      <td>100</td>\n",
       "      <td>02:06:08.8251</td>\n",
       "      <td>100</td>\n",
       "      <td>Running</td>\n",
       "      <td>40</td>\n",
       "      <td>78.242</td>\n",
       "      <td>2</td>\n",
       "      <td>detroit</td>\n",
       "      <td>18</td>\n",
       "      <td>342</td>\n",
       "      <td>6</td>\n",
       "    </tr>\n",
       "    <tr>\n",
       "      <th>2</th>\n",
       "      <td>3</td>\n",
       "      <td>Marcus Armstrong</td>\n",
       "      <td>11</td>\n",
       "      <td>19</td>\n",
       "      <td>100</td>\n",
       "      <td>02:06:12.8813</td>\n",
       "      <td>100</td>\n",
       "      <td>Running</td>\n",
       "      <td>35</td>\n",
       "      <td>78.200</td>\n",
       "      <td>4</td>\n",
       "      <td>detroit</td>\n",
       "      <td>15</td>\n",
       "      <td>312</td>\n",
       "      <td>6</td>\n",
       "    </tr>\n",
       "    <tr>\n",
       "      <th>3</th>\n",
       "      <td>4</td>\n",
       "      <td>Kyle Kirkwood</td>\n",
       "      <td>27</td>\n",
       "      <td>6</td>\n",
       "      <td>100</td>\n",
       "      <td>02:06:14.0933</td>\n",
       "      <td>100</td>\n",
       "      <td>Running</td>\n",
       "      <td>33</td>\n",
       "      <td>78.188</td>\n",
       "      <td>2</td>\n",
       "      <td>detroit</td>\n",
       "      <td>12</td>\n",
       "      <td>305</td>\n",
       "      <td>6</td>\n",
       "    </tr>\n",
       "    <tr>\n",
       "      <th>4</th>\n",
       "      <td>5</td>\n",
       "      <td>Alexander Rossi</td>\n",
       "      <td>7</td>\n",
       "      <td>16</td>\n",
       "      <td>100</td>\n",
       "      <td>02:06:16.9216</td>\n",
       "      <td>100</td>\n",
       "      <td>Running</td>\n",
       "      <td>30</td>\n",
       "      <td>78.158</td>\n",
       "      <td>4</td>\n",
       "      <td>detroit</td>\n",
       "      <td>10</td>\n",
       "      <td>275</td>\n",
       "      <td>6</td>\n",
       "    </tr>\n",
       "    <tr>\n",
       "      <th>...</th>\n",
       "      <td>...</td>\n",
       "      <td>...</td>\n",
       "      <td>...</td>\n",
       "      <td>...</td>\n",
       "      <td>...</td>\n",
       "      <td>...</td>\n",
       "      <td>...</td>\n",
       "      <td>...</td>\n",
       "      <td>...</td>\n",
       "      <td>...</td>\n",
       "      <td>...</td>\n",
       "      <td>...</td>\n",
       "      <td>...</td>\n",
       "      <td>...</td>\n",
       "      <td>...</td>\n",
       "    </tr>\n",
       "    <tr>\n",
       "      <th>461</th>\n",
       "      <td>23</td>\n",
       "      <td>Kyffin Simpson</td>\n",
       "      <td>4</td>\n",
       "      <td>22</td>\n",
       "      <td>86</td>\n",
       "      <td>01:50:32.2312</td>\n",
       "      <td>86</td>\n",
       "      <td>Contact</td>\n",
       "      <td>7</td>\n",
       "      <td>104.472</td>\n",
       "      <td>3</td>\n",
       "      <td>lagunaseca</td>\n",
       "      <td>0</td>\n",
       "      <td>89</td>\n",
       "      <td>8</td>\n",
       "    </tr>\n",
       "    <tr>\n",
       "      <th>462</th>\n",
       "      <td>24</td>\n",
       "      <td>Graham Rahal</td>\n",
       "      <td>15</td>\n",
       "      <td>19</td>\n",
       "      <td>86</td>\n",
       "      <td>01:50:33.2600</td>\n",
       "      <td>86</td>\n",
       "      <td>Contact</td>\n",
       "      <td>6</td>\n",
       "      <td>104.456</td>\n",
       "      <td>4</td>\n",
       "      <td>lagunaseca</td>\n",
       "      <td>0</td>\n",
       "      <td>82</td>\n",
       "      <td>8</td>\n",
       "    </tr>\n",
       "    <tr>\n",
       "      <th>463</th>\n",
       "      <td>25</td>\n",
       "      <td>Jack Harvey</td>\n",
       "      <td>18</td>\n",
       "      <td>26</td>\n",
       "      <td>82</td>\n",
       "      <td>01:44:40.7853</td>\n",
       "      <td>82</td>\n",
       "      <td>Mechanical</td>\n",
       "      <td>5</td>\n",
       "      <td>105.187</td>\n",
       "      <td>3</td>\n",
       "      <td>lagunaseca</td>\n",
       "      <td>0</td>\n",
       "      <td>65</td>\n",
       "      <td>8</td>\n",
       "    </tr>\n",
       "    <tr>\n",
       "      <th>464</th>\n",
       "      <td>26</td>\n",
       "      <td>Rinus VeeKay</td>\n",
       "      <td>21</td>\n",
       "      <td>20</td>\n",
       "      <td>72</td>\n",
       "      <td>01:39:43.0398</td>\n",
       "      <td>72</td>\n",
       "      <td>Mechanical</td>\n",
       "      <td>5</td>\n",
       "      <td>96.956</td>\n",
       "      <td>3</td>\n",
       "      <td>lagunaseca</td>\n",
       "      <td>0</td>\n",
       "      <td>61</td>\n",
       "      <td>8</td>\n",
       "    </tr>\n",
       "    <tr>\n",
       "      <th>465</th>\n",
       "      <td>27</td>\n",
       "      <td>Luca Ghiotto</td>\n",
       "      <td>51</td>\n",
       "      <td>27</td>\n",
       "      <td>34</td>\n",
       "      <td>00:40:57.8112</td>\n",
       "      <td>34</td>\n",
       "      <td>Contact</td>\n",
       "      <td>5</td>\n",
       "      <td>111.453</td>\n",
       "      <td>1</td>\n",
       "      <td>lagunaseca</td>\n",
       "      <td>0</td>\n",
       "      <td>44</td>\n",
       "      <td>8</td>\n",
       "    </tr>\n",
       "  </tbody>\n",
       "</table>\n",
       "<p>466 rows × 15 columns</p>\n",
       "</div>"
      ],
      "text/plain": [
       "     Rank            Driver Car No.  Starts  Laps     Total time  Laps Led  \\\n",
       "0       1       Scott Dixon       9       5   100  02:06:07.9684       100   \n",
       "1       2   Marcus Ericsson      28       9   100  02:06:08.8251       100   \n",
       "2       3  Marcus Armstrong      11      19   100  02:06:12.8813       100   \n",
       "3       4     Kyle Kirkwood      27       6   100  02:06:14.0933       100   \n",
       "4       5   Alexander Rossi       7      16   100  02:06:16.9216       100   \n",
       "..    ...               ...     ...     ...   ...            ...       ...   \n",
       "461    23    Kyffin Simpson       4      22    86  01:50:32.2312        86   \n",
       "462    24      Graham Rahal      15      19    86  01:50:33.2600        86   \n",
       "463    25       Jack Harvey      18      26    82  01:44:40.7853        82   \n",
       "464    26      Rinus VeeKay      21      20    72  01:39:43.0398        72   \n",
       "465    27      Luca Ghiotto      51      27    34  00:40:57.8112        34   \n",
       "\n",
       "         Status  Points Avg.Speed  Pit stop        City  Points (F1 Scoring)  \\\n",
       "0       Running      53    78.251         2     detroit                   25   \n",
       "1       Running      40    78.242         2     detroit                   18   \n",
       "2       Running      35    78.200         4     detroit                   15   \n",
       "3       Running      33    78.188         2     detroit                   12   \n",
       "4       Running      30    78.158         4     detroit                   10   \n",
       "..          ...     ...       ...       ...         ...                  ...   \n",
       "461     Contact       7   104.472         3  lagunaseca                    0   \n",
       "462     Contact       6   104.456         4  lagunaseca                    0   \n",
       "463  Mechanical       5   105.187         3  lagunaseca                    0   \n",
       "464  Mechanical       5    96.956         3  lagunaseca                    0   \n",
       "465     Contact       5   111.453         1  lagunaseca                    0   \n",
       "\n",
       "     Points (IMSA Scoring)  Race Number  \n",
       "0                      376            6  \n",
       "1                      342            6  \n",
       "2                      312            6  \n",
       "3                      305            6  \n",
       "4                      275            6  \n",
       "..                     ...          ...  \n",
       "461                     89            8  \n",
       "462                     82            8  \n",
       "463                     65            8  \n",
       "464                     61            8  \n",
       "465                     44            8  \n",
       "\n",
       "[466 rows x 15 columns]"
      ]
     },
     "execution_count": 22,
     "metadata": {},
     "output_type": "execute_result"
    }
   ],
   "source": [
    "# Get a list of cities from race_result_df and convert it to a data frame\n",
    "race_numbers = race_result_df.groupby('City')['City'].count()\n",
    "race_numbers_df = pd.DataFrame(race_numbers)\n",
    "\n",
    "# Define each race's race number\n",
    "race_numbers_df.at['stpetersburg', 'Race Number'] = 1\n",
    "race_numbers_df.at['longbeach', 'Race Number'] = 2\n",
    "race_numbers_df.at['barber', 'Race Number'] = 3\n",
    "race_numbers_df.at['indyrc', 'Race Number'] = 4\n",
    "race_numbers_df.at['indy500', 'Race Number'] = 5\n",
    "race_numbers_df.at['detroit', 'Race Number'] = 6\n",
    "race_numbers_df.at['roadamerica', 'Race Number'] = 7\n",
    "race_numbers_df.at['lagunaseca', 'Race Number'] = 8\n",
    "race_numbers_df.at['midohio', 'Race Number'] = 9\n",
    "race_numbers_df.at['iowa1', 'Race Number'] = 10\n",
    "race_numbers_df.at['iowa2', 'Race Number'] = 11\n",
    "race_numbers_df.at['toronto', 'Race Number'] = 12\n",
    "race_numbers_df.at['gateway', 'Race Number'] = 13\n",
    "race_numbers_df.at['portland', 'Race Number'] = 14\n",
    "race_numbers_df.at['milwaukee1', 'Race Number'] = 15\n",
    "race_numbers_df.at['milwaukee2', 'Race Number'] = 16\n",
    "race_numbers_df.at['nashville', 'Race Number'] = 17\n",
    "\n",
    "#Clean the data frame\n",
    "race_numbers_df['Race Number'] = race_numbers_df['Race Number'].astype('int64')\n",
    "race_numbers_df = race_numbers_df.sort_values(by='Race Number')\n",
    "race_numbers_df.rename(columns={'City': 'City2'}, inplace=True)\n",
    "race_numbers_df.drop(columns=['City2'], inplace=True)\n",
    "race_numbers_df = race_numbers_df.reset_index()\n",
    "\n",
    "# Merge the data frames, thereby giving the race_result_df dataframe a race number \n",
    "race_result_df = pd.merge(race_result_df, race_numbers_df, on='City', how='inner')\n",
    "race_result_df"
   ]
  },
  {
   "cell_type": "code",
   "execution_count": 23,
   "id": "1dc21a43-638e-4a81-af41-37c31109aeaf",
   "metadata": {},
   "outputs": [
    {
     "data": {
      "application/vnd.plotly.v1+json": {
       "config": {
        "plotlyServerURL": "https://plot.ly"
       },
       "data": [
        {
         "cells": {
          "align": "left",
          "fill": {
           "color": "lavender"
          },
          "font": {
           "size": 10
          },
          "values": [
           [
            "indy500",
            "indy500",
            "indy500",
            "indy500",
            "indy500",
            "indy500",
            "indy500",
            "indy500",
            "indy500",
            "indy500",
            "indy500",
            "indy500",
            "indy500",
            "indy500",
            "indy500",
            "indy500",
            "indy500",
            "indy500",
            "indy500",
            "indy500",
            "indy500",
            "indy500",
            "indy500",
            "indy500",
            "indy500",
            "indy500",
            "indy500",
            "indy500",
            "indy500",
            "indy500",
            "indy500",
            "indy500",
            "indy500"
           ],
           [
            "Josef Newgarden",
            "Pato O'Ward",
            "Scott Dixon",
            "Alexander Rossi",
            "Alex Palou",
            "Scott McLaughlin",
            "Kyle Kirkwood",
            "Santino Ferrucci",
            "Rinus VeeKay",
            "Conor Daly",
            "Callum Ilott",
            "Christian Rasmussen",
            "Christian Lundgaard",
            "Takuma Sato",
            "Graham Rahal",
            "Sting Ray Robb",
            "Ed Carpenter",
            "Kyle Larson",
            "Romain Grosjean",
            "Helio Castroneves",
            "Kyffin Simpson",
            "Agustin Canapino",
            "Colton Herta",
            "Will Power",
            "Marco Andretti",
            "Ryan Hunter-Reay",
            "Felix Rosenqvist",
            "Linus Lundqvist",
            "Katherine Legge",
            "Marcus Armstrong",
            "Tom Blomqvist",
            "Pietro Fittipaldi",
            "Marcus Ericsson"
           ],
           [
            1,
            2,
            3,
            4,
            5,
            6,
            7,
            8,
            9,
            10,
            11,
            12,
            13,
            14,
            15,
            16,
            17,
            18,
            19,
            20,
            21,
            22,
            23,
            24,
            25,
            26,
            27,
            28,
            29,
            30,
            31,
            32,
            33
           ],
           [
            5,
            6,
            6,
            5,
            5,
            5,
            6,
            5,
            5,
            6,
            7,
            6,
            7,
            6,
            7,
            5,
            6,
            6,
            7,
            5,
            8,
            6,
            4,
            4,
            5,
            4,
            1,
            2,
            1,
            0,
            0,
            0,
            0
           ],
           [
            200,
            200,
            200,
            200,
            200,
            200,
            200,
            200,
            200,
            200,
            200,
            200,
            200,
            200,
            200,
            200,
            200,
            200,
            200,
            200,
            200,
            199,
            170,
            145,
            113,
            107,
            55,
            27,
            22,
            6,
            0,
            0,
            0
           ],
           [
            "167.763",
            "167.758",
            "167.749",
            "167.745",
            "167.740",
            "167.731",
            "167.724",
            "167.707",
            "167.701",
            "167.691",
            "167.686",
            "167.680",
            "167.667",
            "167.659",
            "167.648",
            "167.630",
            "167.624",
            "167.615",
            "167.610",
            "167.601",
            "167.590",
            "166.875",
            "149.566",
            "162.774",
            "157.607",
            "160.604",
            "158.661",
            "137.310",
            "106.865",
            "86.100",
            "0.000",
            "0.000",
            "0.000"
           ]
          ]
         },
         "header": {
          "align": "left",
          "fill": {
           "color": "green"
          },
          "font": {
           "color": "black",
           "size": 12
          },
          "values": [
           "City",
           "Driver",
           "Rank",
           "Pit stop",
           "Laps",
           "Avg.Speed"
          ]
         },
         "type": "table"
        }
       ],
       "layout": {
        "height": 600,
        "template": {
         "data": {
          "bar": [
           {
            "error_x": {
             "color": "#2a3f5f"
            },
            "error_y": {
             "color": "#2a3f5f"
            },
            "marker": {
             "line": {
              "color": "#E5ECF6",
              "width": 0.5
             },
             "pattern": {
              "fillmode": "overlay",
              "size": 10,
              "solidity": 0.2
             }
            },
            "type": "bar"
           }
          ],
          "barpolar": [
           {
            "marker": {
             "line": {
              "color": "#E5ECF6",
              "width": 0.5
             },
             "pattern": {
              "fillmode": "overlay",
              "size": 10,
              "solidity": 0.2
             }
            },
            "type": "barpolar"
           }
          ],
          "carpet": [
           {
            "aaxis": {
             "endlinecolor": "#2a3f5f",
             "gridcolor": "white",
             "linecolor": "white",
             "minorgridcolor": "white",
             "startlinecolor": "#2a3f5f"
            },
            "baxis": {
             "endlinecolor": "#2a3f5f",
             "gridcolor": "white",
             "linecolor": "white",
             "minorgridcolor": "white",
             "startlinecolor": "#2a3f5f"
            },
            "type": "carpet"
           }
          ],
          "choropleth": [
           {
            "colorbar": {
             "outlinewidth": 0,
             "ticks": ""
            },
            "type": "choropleth"
           }
          ],
          "contour": [
           {
            "colorbar": {
             "outlinewidth": 0,
             "ticks": ""
            },
            "colorscale": [
             [
              0,
              "#0d0887"
             ],
             [
              0.1111111111111111,
              "#46039f"
             ],
             [
              0.2222222222222222,
              "#7201a8"
             ],
             [
              0.3333333333333333,
              "#9c179e"
             ],
             [
              0.4444444444444444,
              "#bd3786"
             ],
             [
              0.5555555555555556,
              "#d8576b"
             ],
             [
              0.6666666666666666,
              "#ed7953"
             ],
             [
              0.7777777777777778,
              "#fb9f3a"
             ],
             [
              0.8888888888888888,
              "#fdca26"
             ],
             [
              1,
              "#f0f921"
             ]
            ],
            "type": "contour"
           }
          ],
          "contourcarpet": [
           {
            "colorbar": {
             "outlinewidth": 0,
             "ticks": ""
            },
            "type": "contourcarpet"
           }
          ],
          "heatmap": [
           {
            "colorbar": {
             "outlinewidth": 0,
             "ticks": ""
            },
            "colorscale": [
             [
              0,
              "#0d0887"
             ],
             [
              0.1111111111111111,
              "#46039f"
             ],
             [
              0.2222222222222222,
              "#7201a8"
             ],
             [
              0.3333333333333333,
              "#9c179e"
             ],
             [
              0.4444444444444444,
              "#bd3786"
             ],
             [
              0.5555555555555556,
              "#d8576b"
             ],
             [
              0.6666666666666666,
              "#ed7953"
             ],
             [
              0.7777777777777778,
              "#fb9f3a"
             ],
             [
              0.8888888888888888,
              "#fdca26"
             ],
             [
              1,
              "#f0f921"
             ]
            ],
            "type": "heatmap"
           }
          ],
          "heatmapgl": [
           {
            "colorbar": {
             "outlinewidth": 0,
             "ticks": ""
            },
            "colorscale": [
             [
              0,
              "#0d0887"
             ],
             [
              0.1111111111111111,
              "#46039f"
             ],
             [
              0.2222222222222222,
              "#7201a8"
             ],
             [
              0.3333333333333333,
              "#9c179e"
             ],
             [
              0.4444444444444444,
              "#bd3786"
             ],
             [
              0.5555555555555556,
              "#d8576b"
             ],
             [
              0.6666666666666666,
              "#ed7953"
             ],
             [
              0.7777777777777778,
              "#fb9f3a"
             ],
             [
              0.8888888888888888,
              "#fdca26"
             ],
             [
              1,
              "#f0f921"
             ]
            ],
            "type": "heatmapgl"
           }
          ],
          "histogram": [
           {
            "marker": {
             "pattern": {
              "fillmode": "overlay",
              "size": 10,
              "solidity": 0.2
             }
            },
            "type": "histogram"
           }
          ],
          "histogram2d": [
           {
            "colorbar": {
             "outlinewidth": 0,
             "ticks": ""
            },
            "colorscale": [
             [
              0,
              "#0d0887"
             ],
             [
              0.1111111111111111,
              "#46039f"
             ],
             [
              0.2222222222222222,
              "#7201a8"
             ],
             [
              0.3333333333333333,
              "#9c179e"
             ],
             [
              0.4444444444444444,
              "#bd3786"
             ],
             [
              0.5555555555555556,
              "#d8576b"
             ],
             [
              0.6666666666666666,
              "#ed7953"
             ],
             [
              0.7777777777777778,
              "#fb9f3a"
             ],
             [
              0.8888888888888888,
              "#fdca26"
             ],
             [
              1,
              "#f0f921"
             ]
            ],
            "type": "histogram2d"
           }
          ],
          "histogram2dcontour": [
           {
            "colorbar": {
             "outlinewidth": 0,
             "ticks": ""
            },
            "colorscale": [
             [
              0,
              "#0d0887"
             ],
             [
              0.1111111111111111,
              "#46039f"
             ],
             [
              0.2222222222222222,
              "#7201a8"
             ],
             [
              0.3333333333333333,
              "#9c179e"
             ],
             [
              0.4444444444444444,
              "#bd3786"
             ],
             [
              0.5555555555555556,
              "#d8576b"
             ],
             [
              0.6666666666666666,
              "#ed7953"
             ],
             [
              0.7777777777777778,
              "#fb9f3a"
             ],
             [
              0.8888888888888888,
              "#fdca26"
             ],
             [
              1,
              "#f0f921"
             ]
            ],
            "type": "histogram2dcontour"
           }
          ],
          "mesh3d": [
           {
            "colorbar": {
             "outlinewidth": 0,
             "ticks": ""
            },
            "type": "mesh3d"
           }
          ],
          "parcoords": [
           {
            "line": {
             "colorbar": {
              "outlinewidth": 0,
              "ticks": ""
             }
            },
            "type": "parcoords"
           }
          ],
          "pie": [
           {
            "automargin": true,
            "type": "pie"
           }
          ],
          "scatter": [
           {
            "fillpattern": {
             "fillmode": "overlay",
             "size": 10,
             "solidity": 0.2
            },
            "type": "scatter"
           }
          ],
          "scatter3d": [
           {
            "line": {
             "colorbar": {
              "outlinewidth": 0,
              "ticks": ""
             }
            },
            "marker": {
             "colorbar": {
              "outlinewidth": 0,
              "ticks": ""
             }
            },
            "type": "scatter3d"
           }
          ],
          "scattercarpet": [
           {
            "marker": {
             "colorbar": {
              "outlinewidth": 0,
              "ticks": ""
             }
            },
            "type": "scattercarpet"
           }
          ],
          "scattergeo": [
           {
            "marker": {
             "colorbar": {
              "outlinewidth": 0,
              "ticks": ""
             }
            },
            "type": "scattergeo"
           }
          ],
          "scattergl": [
           {
            "marker": {
             "colorbar": {
              "outlinewidth": 0,
              "ticks": ""
             }
            },
            "type": "scattergl"
           }
          ],
          "scattermapbox": [
           {
            "marker": {
             "colorbar": {
              "outlinewidth": 0,
              "ticks": ""
             }
            },
            "type": "scattermapbox"
           }
          ],
          "scatterpolar": [
           {
            "marker": {
             "colorbar": {
              "outlinewidth": 0,
              "ticks": ""
             }
            },
            "type": "scatterpolar"
           }
          ],
          "scatterpolargl": [
           {
            "marker": {
             "colorbar": {
              "outlinewidth": 0,
              "ticks": ""
             }
            },
            "type": "scatterpolargl"
           }
          ],
          "scatterternary": [
           {
            "marker": {
             "colorbar": {
              "outlinewidth": 0,
              "ticks": ""
             }
            },
            "type": "scatterternary"
           }
          ],
          "surface": [
           {
            "colorbar": {
             "outlinewidth": 0,
             "ticks": ""
            },
            "colorscale": [
             [
              0,
              "#0d0887"
             ],
             [
              0.1111111111111111,
              "#46039f"
             ],
             [
              0.2222222222222222,
              "#7201a8"
             ],
             [
              0.3333333333333333,
              "#9c179e"
             ],
             [
              0.4444444444444444,
              "#bd3786"
             ],
             [
              0.5555555555555556,
              "#d8576b"
             ],
             [
              0.6666666666666666,
              "#ed7953"
             ],
             [
              0.7777777777777778,
              "#fb9f3a"
             ],
             [
              0.8888888888888888,
              "#fdca26"
             ],
             [
              1,
              "#f0f921"
             ]
            ],
            "type": "surface"
           }
          ],
          "table": [
           {
            "cells": {
             "fill": {
              "color": "#EBF0F8"
             },
             "line": {
              "color": "white"
             }
            },
            "header": {
             "fill": {
              "color": "#C8D4E3"
             },
             "line": {
              "color": "white"
             }
            },
            "type": "table"
           }
          ]
         },
         "layout": {
          "annotationdefaults": {
           "arrowcolor": "#2a3f5f",
           "arrowhead": 0,
           "arrowwidth": 1
          },
          "autotypenumbers": "strict",
          "coloraxis": {
           "colorbar": {
            "outlinewidth": 0,
            "ticks": ""
           }
          },
          "colorscale": {
           "diverging": [
            [
             0,
             "#8e0152"
            ],
            [
             0.1,
             "#c51b7d"
            ],
            [
             0.2,
             "#de77ae"
            ],
            [
             0.3,
             "#f1b6da"
            ],
            [
             0.4,
             "#fde0ef"
            ],
            [
             0.5,
             "#f7f7f7"
            ],
            [
             0.6,
             "#e6f5d0"
            ],
            [
             0.7,
             "#b8e186"
            ],
            [
             0.8,
             "#7fbc41"
            ],
            [
             0.9,
             "#4d9221"
            ],
            [
             1,
             "#276419"
            ]
           ],
           "sequential": [
            [
             0,
             "#0d0887"
            ],
            [
             0.1111111111111111,
             "#46039f"
            ],
            [
             0.2222222222222222,
             "#7201a8"
            ],
            [
             0.3333333333333333,
             "#9c179e"
            ],
            [
             0.4444444444444444,
             "#bd3786"
            ],
            [
             0.5555555555555556,
             "#d8576b"
            ],
            [
             0.6666666666666666,
             "#ed7953"
            ],
            [
             0.7777777777777778,
             "#fb9f3a"
            ],
            [
             0.8888888888888888,
             "#fdca26"
            ],
            [
             1,
             "#f0f921"
            ]
           ],
           "sequentialminus": [
            [
             0,
             "#0d0887"
            ],
            [
             0.1111111111111111,
             "#46039f"
            ],
            [
             0.2222222222222222,
             "#7201a8"
            ],
            [
             0.3333333333333333,
             "#9c179e"
            ],
            [
             0.4444444444444444,
             "#bd3786"
            ],
            [
             0.5555555555555556,
             "#d8576b"
            ],
            [
             0.6666666666666666,
             "#ed7953"
            ],
            [
             0.7777777777777778,
             "#fb9f3a"
            ],
            [
             0.8888888888888888,
             "#fdca26"
            ],
            [
             1,
             "#f0f921"
            ]
           ]
          },
          "colorway": [
           "#636efa",
           "#EF553B",
           "#00cc96",
           "#ab63fa",
           "#FFA15A",
           "#19d3f3",
           "#FF6692",
           "#B6E880",
           "#FF97FF",
           "#FECB52"
          ],
          "font": {
           "color": "#2a3f5f"
          },
          "geo": {
           "bgcolor": "white",
           "lakecolor": "white",
           "landcolor": "#E5ECF6",
           "showlakes": true,
           "showland": true,
           "subunitcolor": "white"
          },
          "hoverlabel": {
           "align": "left"
          },
          "hovermode": "closest",
          "mapbox": {
           "style": "light"
          },
          "paper_bgcolor": "white",
          "plot_bgcolor": "#E5ECF6",
          "polar": {
           "angularaxis": {
            "gridcolor": "white",
            "linecolor": "white",
            "ticks": ""
           },
           "bgcolor": "#E5ECF6",
           "radialaxis": {
            "gridcolor": "white",
            "linecolor": "white",
            "ticks": ""
           }
          },
          "scene": {
           "xaxis": {
            "backgroundcolor": "#E5ECF6",
            "gridcolor": "white",
            "gridwidth": 2,
            "linecolor": "white",
            "showbackground": true,
            "ticks": "",
            "zerolinecolor": "white"
           },
           "yaxis": {
            "backgroundcolor": "#E5ECF6",
            "gridcolor": "white",
            "gridwidth": 2,
            "linecolor": "white",
            "showbackground": true,
            "ticks": "",
            "zerolinecolor": "white"
           },
           "zaxis": {
            "backgroundcolor": "#E5ECF6",
            "gridcolor": "white",
            "gridwidth": 2,
            "linecolor": "white",
            "showbackground": true,
            "ticks": "",
            "zerolinecolor": "white"
           }
          },
          "shapedefaults": {
           "line": {
            "color": "#2a3f5f"
           }
          },
          "ternary": {
           "aaxis": {
            "gridcolor": "white",
            "linecolor": "white",
            "ticks": ""
           },
           "baxis": {
            "gridcolor": "white",
            "linecolor": "white",
            "ticks": ""
           },
           "bgcolor": "#E5ECF6",
           "caxis": {
            "gridcolor": "white",
            "linecolor": "white",
            "ticks": ""
           }
          },
          "title": {
           "x": 0.05
          },
          "xaxis": {
           "automargin": true,
           "gridcolor": "white",
           "linecolor": "white",
           "ticks": "",
           "title": {
            "standoff": 15
           },
           "zerolinecolor": "white",
           "zerolinewidth": 2
          },
          "yaxis": {
           "automargin": true,
           "gridcolor": "white",
           "linecolor": "white",
           "ticks": "",
           "title": {
            "standoff": 15
           },
           "zerolinecolor": "white",
           "zerolinewidth": 2
          }
         }
        },
        "title": {
         "text": "Race Results Table"
        },
        "width": 1000
       }
      },
      "image/png": "[encoded data removed]",
      "text/html": [
       "<div>                            <div id=\"2802e74d-bdd7-4ef9-9f4e-213540e6f315\" class=\"plotly-graph-div\" style=\"height:600px; width:1000px;\"></div>            <script type=\"text/javascript\">                require([\"plotly\"], function(Plotly) {                    window.PLOTLYENV=window.PLOTLYENV || {};                                    if (document.getElementById(\"2802e74d-bdd7-4ef9-9f4e-213540e6f315\")) {                    Plotly.newPlot(                        \"2802e74d-bdd7-4ef9-9f4e-213540e6f315\",                        [{\"cells\":{\"align\":\"left\",\"fill\":{\"color\":\"lavender\"},\"font\":{\"size\":10},\"values\":[[\"indy500\",\"indy500\",\"indy500\",\"indy500\",\"indy500\",\"indy500\",\"indy500\",\"indy500\",\"indy500\",\"indy500\",\"indy500\",\"indy500\",\"indy500\",\"indy500\",\"indy500\",\"indy500\",\"indy500\",\"indy500\",\"indy500\",\"indy500\",\"indy500\",\"indy500\",\"indy500\",\"indy500\",\"indy500\",\"indy500\",\"indy500\",\"indy500\",\"indy500\",\"indy500\",\"indy500\",\"indy500\",\"indy500\"],[\"Josef Newgarden\",\"Pato O'Ward\",\"Scott Dixon\",\"Alexander Rossi\",\"Alex Palou\",\"Scott McLaughlin\",\"Kyle Kirkwood\",\"Santino Ferrucci\",\"Rinus VeeKay\",\"Conor Daly\",\"Callum Ilott\",\"Christian Rasmussen\",\"Christian Lundgaard\",\"Takuma Sato\",\"Graham Rahal\",\"Sting Ray Robb\",\"Ed Carpenter\",\"Kyle Larson\",\"Romain Grosjean\",\"Helio Castroneves\",\"Kyffin Simpson\",\"Agustin Canapino\",\"Colton Herta\",\"Will Power\",\"Marco Andretti\",\"Ryan Hunter-Reay\",\"Felix Rosenqvist\",\"Linus Lundqvist\",\"Katherine Legge\",\"Marcus Armstrong\",\"Tom Blomqvist\",\"Pietro Fittipaldi\",\"Marcus Ericsson\"],[1,2,3,4,5,6,7,8,9,10,11,12,13,14,15,16,17,18,19,20,21,22,23,24,25,26,27,28,29,30,31,32,33],[5,6,6,5,5,5,6,5,5,6,7,6,7,6,7,5,6,6,7,5,8,6,4,4,5,4,1,2,1,0,0,0,0],[200,200,200,200,200,200,200,200,200,200,200,200,200,200,200,200,200,200,200,200,200,199,170,145,113,107,55,27,22,6,0,0,0],[\"167.763\",\"167.758\",\"167.749\",\"167.745\",\"167.740\",\"167.731\",\"167.724\",\"167.707\",\"167.701\",\"167.691\",\"167.686\",\"167.680\",\"167.667\",\"167.659\",\"167.648\",\"167.630\",\"167.624\",\"167.615\",\"167.610\",\"167.601\",\"167.590\",\"166.875\",\"149.566\",\"162.774\",\"157.607\",\"160.604\",\"158.661\",\"137.310\",\"106.865\",\"86.100\",\"0.000\",\"0.000\",\"0.000\"]]},\"header\":{\"align\":\"left\",\"fill\":{\"color\":\"green\"},\"font\":{\"color\":\"black\",\"size\":12},\"values\":[\"City\",\"Driver\",\"Rank\",\"Pit stop\",\"Laps\",\"Avg.Speed\"]},\"type\":\"table\"}],                        {\"template\":{\"data\":{\"histogram2dcontour\":[{\"type\":\"histogram2dcontour\",\"colorbar\":{\"outlinewidth\":0,\"ticks\":\"\"},\"colorscale\":[[0.0,\"#0d0887\"],[0.1111111111111111,\"#46039f\"],[0.2222222222222222,\"#7201a8\"],[0.3333333333333333,\"#9c179e\"],[0.4444444444444444,\"#bd3786\"],[0.5555555555555556,\"#d8576b\"],[0.6666666666666666,\"#ed7953\"],[0.7777777777777778,\"#fb9f3a\"],[0.8888888888888888,\"#fdca26\"],[1.0,\"#f0f921\"]]}],\"choropleth\":[{\"type\":\"choropleth\",\"colorbar\":{\"outlinewidth\":0,\"ticks\":\"\"}}],\"histogram2d\":[{\"type\":\"histogram2d\",\"colorbar\":{\"outlinewidth\":0,\"ticks\":\"\"},\"colorscale\":[[0.0,\"#0d0887\"],[0.1111111111111111,\"#46039f\"],[0.2222222222222222,\"#7201a8\"],[0.3333333333333333,\"#9c179e\"],[0.4444444444444444,\"#bd3786\"],[0.5555555555555556,\"#d8576b\"],[0.6666666666666666,\"#ed7953\"],[0.7777777777777778,\"#fb9f3a\"],[0.8888888888888888,\"#fdca26\"],[1.0,\"#f0f921\"]]}],\"heatmap\":[{\"type\":\"heatmap\",\"colorbar\":{\"outlinewidth\":0,\"ticks\":\"\"},\"colorscale\":[[0.0,\"#0d0887\"],[0.1111111111111111,\"#46039f\"],[0.2222222222222222,\"#7201a8\"],[0.3333333333333333,\"#9c179e\"],[0.4444444444444444,\"#bd3786\"],[0.5555555555555556,\"#d8576b\"],[0.6666666666666666,\"#ed7953\"],[0.7777777777777778,\"#fb9f3a\"],[0.8888888888888888,\"#fdca26\"],[1.0,\"#f0f921\"]]}],\"heatmapgl\":[{\"type\":\"heatmapgl\",\"colorbar\":{\"outlinewidth\":0,\"ticks\":\"\"},\"colorscale\":[[0.0,\"#0d0887\"],[0.1111111111111111,\"#46039f\"],[0.2222222222222222,\"#7201a8\"],[0.3333333333333333,\"#9c179e\"],[0.4444444444444444,\"#bd3786\"],[0.5555555555555556,\"#d8576b\"],[0.6666666666666666,\"#ed7953\"],[0.7777777777777778,\"#fb9f3a\"],[0.8888888888888888,\"#fdca26\"],[1.0,\"#f0f921\"]]}],\"contourcarpet\":[{\"type\":\"contourcarpet\",\"colorbar\":{\"outlinewidth\":0,\"ticks\":\"\"}}],\"contour\":[{\"type\":\"contour\",\"colorbar\":{\"outlinewidth\":0,\"ticks\":\"\"},\"colorscale\":[[0.0,\"#0d0887\"],[0.1111111111111111,\"#46039f\"],[0.2222222222222222,\"#7201a8\"],[0.3333333333333333,\"#9c179e\"],[0.4444444444444444,\"#bd3786\"],[0.5555555555555556,\"#d8576b\"],[0.6666666666666666,\"#ed7953\"],[0.7777777777777778,\"#fb9f3a\"],[0.8888888888888888,\"#fdca26\"],[1.0,\"#f0f921\"]]}],\"surface\":[{\"type\":\"surface\",\"colorbar\":{\"outlinewidth\":0,\"ticks\":\"\"},\"colorscale\":[[0.0,\"#0d0887\"],[0.1111111111111111,\"#46039f\"],[0.2222222222222222,\"#7201a8\"],[0.3333333333333333,\"#9c179e\"],[0.4444444444444444,\"#bd3786\"],[0.5555555555555556,\"#d8576b\"],[0.6666666666666666,\"#ed7953\"],[0.7777777777777778,\"#fb9f3a\"],[0.8888888888888888,\"#fdca26\"],[1.0,\"#f0f921\"]]}],\"mesh3d\":[{\"type\":\"mesh3d\",\"colorbar\":{\"outlinewidth\":0,\"ticks\":\"\"}}],\"scatter\":[{\"fillpattern\":{\"fillmode\":\"overlay\",\"size\":10,\"solidity\":0.2},\"type\":\"scatter\"}],\"parcoords\":[{\"type\":\"parcoords\",\"line\":{\"colorbar\":{\"outlinewidth\":0,\"ticks\":\"\"}}}],\"scatterpolargl\":[{\"type\":\"scatterpolargl\",\"marker\":{\"colorbar\":{\"outlinewidth\":0,\"ticks\":\"\"}}}],\"bar\":[{\"error_x\":{\"color\":\"#2a3f5f\"},\"error_y\":{\"color\":\"#2a3f5f\"},\"marker\":{\"line\":{\"color\":\"#E5ECF6\",\"width\":0.5},\"pattern\":{\"fillmode\":\"overlay\",\"size\":10,\"solidity\":0.2}},\"type\":\"bar\"}],\"scattergeo\":[{\"type\":\"scattergeo\",\"marker\":{\"colorbar\":{\"outlinewidth\":0,\"ticks\":\"\"}}}],\"scatterpolar\":[{\"type\":\"scatterpolar\",\"marker\":{\"colorbar\":{\"outlinewidth\":0,\"ticks\":\"\"}}}],\"histogram\":[{\"marker\":{\"pattern\":{\"fillmode\":\"overlay\",\"size\":10,\"solidity\":0.2}},\"type\":\"histogram\"}],\"scattergl\":[{\"type\":\"scattergl\",\"marker\":{\"colorbar\":{\"outlinewidth\":0,\"ticks\":\"\"}}}],\"scatter3d\":[{\"type\":\"scatter3d\",\"line\":{\"colorbar\":{\"outlinewidth\":0,\"ticks\":\"\"}},\"marker\":{\"colorbar\":{\"outlinewidth\":0,\"ticks\":\"\"}}}],\"scattermapbox\":[{\"type\":\"scattermapbox\",\"marker\":{\"colorbar\":{\"outlinewidth\":0,\"ticks\":\"\"}}}],\"scatterternary\":[{\"type\":\"scatterternary\",\"marker\":{\"colorbar\":{\"outlinewidth\":0,\"ticks\":\"\"}}}],\"scattercarpet\":[{\"type\":\"scattercarpet\",\"marker\":{\"colorbar\":{\"outlinewidth\":0,\"ticks\":\"\"}}}],\"carpet\":[{\"aaxis\":{\"endlinecolor\":\"#2a3f5f\",\"gridcolor\":\"white\",\"linecolor\":\"white\",\"minorgridcolor\":\"white\",\"startlinecolor\":\"#2a3f5f\"},\"baxis\":{\"endlinecolor\":\"#2a3f5f\",\"gridcolor\":\"white\",\"linecolor\":\"white\",\"minorgridcolor\":\"white\",\"startlinecolor\":\"#2a3f5f\"},\"type\":\"carpet\"}],\"table\":[{\"cells\":{\"fill\":{\"color\":\"#EBF0F8\"},\"line\":{\"color\":\"white\"}},\"header\":{\"fill\":{\"color\":\"#C8D4E3\"},\"line\":{\"color\":\"white\"}},\"type\":\"table\"}],\"barpolar\":[{\"marker\":{\"line\":{\"color\":\"#E5ECF6\",\"width\":0.5},\"pattern\":{\"fillmode\":\"overlay\",\"size\":10,\"solidity\":0.2}},\"type\":\"barpolar\"}],\"pie\":[{\"automargin\":true,\"type\":\"pie\"}]},\"layout\":{\"autotypenumbers\":\"strict\",\"colorway\":[\"#636efa\",\"#EF553B\",\"#00cc96\",\"#ab63fa\",\"#FFA15A\",\"#19d3f3\",\"#FF6692\",\"#B6E880\",\"#FF97FF\",\"#FECB52\"],\"font\":{\"color\":\"#2a3f5f\"},\"hovermode\":\"closest\",\"hoverlabel\":{\"align\":\"left\"},\"paper_bgcolor\":\"white\",\"plot_bgcolor\":\"#E5ECF6\",\"polar\":{\"bgcolor\":\"#E5ECF6\",\"angularaxis\":{\"gridcolor\":\"white\",\"linecolor\":\"white\",\"ticks\":\"\"},\"radialaxis\":{\"gridcolor\":\"white\",\"linecolor\":\"white\",\"ticks\":\"\"}},\"ternary\":{\"bgcolor\":\"#E5ECF6\",\"aaxis\":{\"gridcolor\":\"white\",\"linecolor\":\"white\",\"ticks\":\"\"},\"baxis\":{\"gridcolor\":\"white\",\"linecolor\":\"white\",\"ticks\":\"\"},\"caxis\":{\"gridcolor\":\"white\",\"linecolor\":\"white\",\"ticks\":\"\"}},\"coloraxis\":{\"colorbar\":{\"outlinewidth\":0,\"ticks\":\"\"}},\"colorscale\":{\"sequential\":[[0.0,\"#0d0887\"],[0.1111111111111111,\"#46039f\"],[0.2222222222222222,\"#7201a8\"],[0.3333333333333333,\"#9c179e\"],[0.4444444444444444,\"#bd3786\"],[0.5555555555555556,\"#d8576b\"],[0.6666666666666666,\"#ed7953\"],[0.7777777777777778,\"#fb9f3a\"],[0.8888888888888888,\"#fdca26\"],[1.0,\"#f0f921\"]],\"sequentialminus\":[[0.0,\"#0d0887\"],[0.1111111111111111,\"#46039f\"],[0.2222222222222222,\"#7201a8\"],[0.3333333333333333,\"#9c179e\"],[0.4444444444444444,\"#bd3786\"],[0.5555555555555556,\"#d8576b\"],[0.6666666666666666,\"#ed7953\"],[0.7777777777777778,\"#fb9f3a\"],[0.8888888888888888,\"#fdca26\"],[1.0,\"#f0f921\"]],\"diverging\":[[0,\"#8e0152\"],[0.1,\"#c51b7d\"],[0.2,\"#de77ae\"],[0.3,\"#f1b6da\"],[0.4,\"#fde0ef\"],[0.5,\"#f7f7f7\"],[0.6,\"#e6f5d0\"],[0.7,\"#b8e186\"],[0.8,\"#7fbc41\"],[0.9,\"#4d9221\"],[1,\"#276419\"]]},\"xaxis\":{\"gridcolor\":\"white\",\"linecolor\":\"white\",\"ticks\":\"\",\"title\":{\"standoff\":15},\"zerolinecolor\":\"white\",\"automargin\":true,\"zerolinewidth\":2},\"yaxis\":{\"gridcolor\":\"white\",\"linecolor\":\"white\",\"ticks\":\"\",\"title\":{\"standoff\":15},\"zerolinecolor\":\"white\",\"automargin\":true,\"zerolinewidth\":2},\"scene\":{\"xaxis\":{\"backgroundcolor\":\"#E5ECF6\",\"gridcolor\":\"white\",\"linecolor\":\"white\",\"showbackground\":true,\"ticks\":\"\",\"zerolinecolor\":\"white\",\"gridwidth\":2},\"yaxis\":{\"backgroundcolor\":\"#E5ECF6\",\"gridcolor\":\"white\",\"linecolor\":\"white\",\"showbackground\":true,\"ticks\":\"\",\"zerolinecolor\":\"white\",\"gridwidth\":2},\"zaxis\":{\"backgroundcolor\":\"#E5ECF6\",\"gridcolor\":\"white\",\"linecolor\":\"white\",\"showbackground\":true,\"ticks\":\"\",\"zerolinecolor\":\"white\",\"gridwidth\":2}},\"shapedefaults\":{\"line\":{\"color\":\"#2a3f5f\"}},\"annotationdefaults\":{\"arrowcolor\":\"#2a3f5f\",\"arrowhead\":0,\"arrowwidth\":1},\"geo\":{\"bgcolor\":\"white\",\"landcolor\":\"#E5ECF6\",\"subunitcolor\":\"white\",\"showland\":true,\"showlakes\":true,\"lakecolor\":\"white\"},\"title\":{\"x\":0.05},\"mapbox\":{\"style\":\"light\"}}},\"title\":{\"text\":\"Race Results Table\"},\"height\":600,\"width\":1000},                        {\"responsive\": true}                    ).then(function(){\n",
       "                            \n",
       "var gd = document.getElementById('2802e74d-bdd7-4ef9-9f4e-213540e6f315');\n",
       "var x = new MutationObserver(function (mutations, observer) {{\n",
       "        var display = window.getComputedStyle(gd).display;\n",
       "        if (!display || display === 'none') {{\n",
       "            console.log([gd, 'removed!']);\n",
       "            Plotly.purge(gd);\n",
       "            observer.disconnect();\n",
       "        }}\n",
       "}});\n",
       "\n",
       "// Listen for the removal of the full notebook cells\n",
       "var notebookContainer = gd.closest('#notebook-container');\n",
       "if (notebookContainer) {{\n",
       "    x.observe(notebookContainer, {childList: true});\n",
       "}}\n",
       "\n",
       "// Listen for the clearing of the current output cell\n",
       "var outputEl = gd.closest('.output');\n",
       "if (outputEl) {{\n",
       "    x.observe(outputEl, {childList: true});\n",
       "}}\n",
       "\n",
       "                        })                };                });            </script>        </div>"
      ]
     },
     "metadata": {},
     "output_type": "display_data"
    }
   ],
   "source": [
    "import plotly.graph_objects as go\n",
    "\n",
    "\n",
    "df_filtered = race_result_df[['City','Driver', 'Rank', 'Pit stop', 'Laps', 'Avg.Speed']] \n",
    "df_filtered_indy500 =df_filtered[df_filtered['City'].str.lower() == 'indy500']\n",
    "\n",
    "# Create a Plotly Table for the filtered data\n",
    "table = go.Figure(data=[go.Table(\n",
    "    header=dict(\n",
    "        values=list(df_filtered.columns),  \n",
    "        fill_color='green',  \n",
    "        align='left',  \n",
    "        font=dict(size=12, color='black')\n",
    "    ),\n",
    "    cells=dict(\n",
    "        values=[df_filtered_indy500[col] for col in df_filtered_indy500.columns],  \n",
    "        fill_color='lavender',  \n",
    "        align='left', \n",
    "        font=dict(size=10)\n",
    "    )\n",
    ")])\n",
    "\n",
    "\n",
    "table.update_layout(\n",
    "    title=\"Race Results Table\",\n",
    "    height=600,  \n",
    "    width=1000   \n",
    ")\n",
    "\n",
    "# Show the table\n",
    "table.show()"
   ]
  },
  {
   "cell_type": "code",
   "execution_count": 24,
   "id": "5e2260fa-e3d0-4f69-8bd6-400346559d0a",
   "metadata": {},
   "outputs": [
    {
     "data": {
      "application/vnd.plotly.v1+json": {
       "config": {
        "plotlyServerURL": "https://plot.ly"
       },
       "data": [
        {
         "name": "Josef Newgarden",
         "type": "bar",
         "x": [
          "Josef Newgarden"
         ],
         "y": [
          5
         ]
        },
        {
         "name": "Pato O'Ward",
         "type": "bar",
         "x": [
          "Pato O'Ward"
         ],
         "y": [
          6
         ]
        },
        {
         "name": "Scott Dixon",
         "type": "bar",
         "x": [
          "Scott Dixon"
         ],
         "y": [
          6
         ]
        },
        {
         "name": "Alexander Rossi",
         "type": "bar",
         "x": [
          "Alexander Rossi"
         ],
         "y": [
          5
         ]
        },
        {
         "name": "Alex Palou",
         "type": "bar",
         "x": [
          "Alex Palou"
         ],
         "y": [
          5
         ]
        },
        {
         "name": "Scott McLaughlin",
         "type": "bar",
         "x": [
          "Scott McLaughlin"
         ],
         "y": [
          5
         ]
        },
        {
         "name": "Kyle Kirkwood",
         "type": "bar",
         "x": [
          "Kyle Kirkwood"
         ],
         "y": [
          6
         ]
        },
        {
         "name": "Santino Ferrucci",
         "type": "bar",
         "x": [
          "Santino Ferrucci"
         ],
         "y": [
          5
         ]
        },
        {
         "name": "Rinus VeeKay",
         "type": "bar",
         "x": [
          "Rinus VeeKay"
         ],
         "y": [
          5
         ]
        },
        {
         "name": "Conor Daly",
         "type": "bar",
         "x": [
          "Conor Daly"
         ],
         "y": [
          6
         ]
        },
        {
         "name": "Callum Ilott",
         "type": "bar",
         "x": [
          "Callum Ilott"
         ],
         "y": [
          7
         ]
        },
        {
         "name": "Christian Rasmussen",
         "type": "bar",
         "x": [
          "Christian Rasmussen"
         ],
         "y": [
          6
         ]
        },
        {
         "name": "Christian Lundgaard",
         "type": "bar",
         "x": [
          "Christian Lundgaard"
         ],
         "y": [
          7
         ]
        },
        {
         "name": "Takuma Sato",
         "type": "bar",
         "x": [
          "Takuma Sato"
         ],
         "y": [
          6
         ]
        },
        {
         "name": "Graham Rahal",
         "type": "bar",
         "x": [
          "Graham Rahal"
         ],
         "y": [
          7
         ]
        },
        {
         "name": "Sting Ray Robb",
         "type": "bar",
         "x": [
          "Sting Ray Robb"
         ],
         "y": [
          5
         ]
        },
        {
         "name": "Ed Carpenter",
         "type": "bar",
         "x": [
          "Ed Carpenter"
         ],
         "y": [
          6
         ]
        },
        {
         "name": "Kyle Larson",
         "type": "bar",
         "x": [
          "Kyle Larson"
         ],
         "y": [
          6
         ]
        },
        {
         "name": "Romain Grosjean",
         "type": "bar",
         "x": [
          "Romain Grosjean"
         ],
         "y": [
          7
         ]
        },
        {
         "name": "Helio Castroneves",
         "type": "bar",
         "x": [
          "Helio Castroneves"
         ],
         "y": [
          5
         ]
        },
        {
         "name": "Kyffin Simpson",
         "type": "bar",
         "x": [
          "Kyffin Simpson"
         ],
         "y": [
          8
         ]
        },
        {
         "name": "Agustin Canapino",
         "type": "bar",
         "x": [
          "Agustin Canapino"
         ],
         "y": [
          6
         ]
        },
        {
         "name": "Colton Herta",
         "type": "bar",
         "x": [
          "Colton Herta"
         ],
         "y": [
          4
         ]
        },
        {
         "name": "Will Power",
         "type": "bar",
         "x": [
          "Will Power"
         ],
         "y": [
          4
         ]
        },
        {
         "name": "Marco Andretti",
         "type": "bar",
         "x": [
          "Marco Andretti"
         ],
         "y": [
          5
         ]
        },
        {
         "name": "Ryan Hunter-Reay",
         "type": "bar",
         "x": [
          "Ryan Hunter-Reay"
         ],
         "y": [
          4
         ]
        },
        {
         "name": "Felix Rosenqvist",
         "type": "bar",
         "x": [
          "Felix Rosenqvist"
         ],
         "y": [
          1
         ]
        },
        {
         "name": "Linus Lundqvist",
         "type": "bar",
         "x": [
          "Linus Lundqvist"
         ],
         "y": [
          2
         ]
        },
        {
         "name": "Katherine Legge",
         "type": "bar",
         "x": [
          "Katherine Legge"
         ],
         "y": [
          1
         ]
        },
        {
         "name": "Marcus Armstrong",
         "type": "bar",
         "x": [
          "Marcus Armstrong"
         ],
         "y": [
          0
         ]
        },
        {
         "name": "Tom Blomqvist",
         "type": "bar",
         "x": [
          "Tom Blomqvist"
         ],
         "y": [
          0
         ]
        },
        {
         "name": "Pietro Fittipaldi",
         "type": "bar",
         "x": [
          "Pietro Fittipaldi"
         ],
         "y": [
          0
         ]
        },
        {
         "name": "Marcus Ericsson",
         "type": "bar",
         "x": [
          "Marcus Ericsson"
         ],
         "y": [
          0
         ]
        }
       ],
       "layout": {
        "autosize": true,
        "showlegend": false,
        "template": {
         "data": {
          "bar": [
           {
            "error_x": {
             "color": "#2a3f5f"
            },
            "error_y": {
             "color": "#2a3f5f"
            },
            "marker": {
             "line": {
              "color": "#E5ECF6",
              "width": 0.5
             },
             "pattern": {
              "fillmode": "overlay",
              "size": 10,
              "solidity": 0.2
             }
            },
            "type": "bar"
           }
          ],
          "barpolar": [
           {
            "marker": {
             "line": {
              "color": "#E5ECF6",
              "width": 0.5
             },
             "pattern": {
              "fillmode": "overlay",
              "size": 10,
              "solidity": 0.2
             }
            },
            "type": "barpolar"
           }
          ],
          "carpet": [
           {
            "aaxis": {
             "endlinecolor": "#2a3f5f",
             "gridcolor": "white",
             "linecolor": "white",
             "minorgridcolor": "white",
             "startlinecolor": "#2a3f5f"
            },
            "baxis": {
             "endlinecolor": "#2a3f5f",
             "gridcolor": "white",
             "linecolor": "white",
             "minorgridcolor": "white",
             "startlinecolor": "#2a3f5f"
            },
            "type": "carpet"
           }
          ],
          "choropleth": [
           {
            "colorbar": {
             "outlinewidth": 0,
             "ticks": ""
            },
            "type": "choropleth"
           }
          ],
          "contour": [
           {
            "colorbar": {
             "outlinewidth": 0,
             "ticks": ""
            },
            "colorscale": [
             [
              0,
              "#0d0887"
             ],
             [
              0.1111111111111111,
              "#46039f"
             ],
             [
              0.2222222222222222,
              "#7201a8"
             ],
             [
              0.3333333333333333,
              "#9c179e"
             ],
             [
              0.4444444444444444,
              "#bd3786"
             ],
             [
              0.5555555555555556,
              "#d8576b"
             ],
             [
              0.6666666666666666,
              "#ed7953"
             ],
             [
              0.7777777777777778,
              "#fb9f3a"
             ],
             [
              0.8888888888888888,
              "#fdca26"
             ],
             [
              1,
              "#f0f921"
             ]
            ],
            "type": "contour"
           }
          ],
          "contourcarpet": [
           {
            "colorbar": {
             "outlinewidth": 0,
             "ticks": ""
            },
            "type": "contourcarpet"
           }
          ],
          "heatmap": [
           {
            "colorbar": {
             "outlinewidth": 0,
             "ticks": ""
            },
            "colorscale": [
             [
              0,
              "#0d0887"
             ],
             [
              0.1111111111111111,
              "#46039f"
             ],
             [
              0.2222222222222222,
              "#7201a8"
             ],
             [
              0.3333333333333333,
              "#9c179e"
             ],
             [
              0.4444444444444444,
              "#bd3786"
             ],
             [
              0.5555555555555556,
              "#d8576b"
             ],
             [
              0.6666666666666666,
              "#ed7953"
             ],
             [
              0.7777777777777778,
              "#fb9f3a"
             ],
             [
              0.8888888888888888,
              "#fdca26"
             ],
             [
              1,
              "#f0f921"
             ]
            ],
            "type": "heatmap"
           }
          ],
          "heatmapgl": [
           {
            "colorbar": {
             "outlinewidth": 0,
             "ticks": ""
            },
            "colorscale": [
             [
              0,
              "#0d0887"
             ],
             [
              0.1111111111111111,
              "#46039f"
             ],
             [
              0.2222222222222222,
              "#7201a8"
             ],
             [
              0.3333333333333333,
              "#9c179e"
             ],
             [
              0.4444444444444444,
              "#bd3786"
             ],
             [
              0.5555555555555556,
              "#d8576b"
             ],
             [
              0.6666666666666666,
              "#ed7953"
             ],
             [
              0.7777777777777778,
              "#fb9f3a"
             ],
             [
              0.8888888888888888,
              "#fdca26"
             ],
             [
              1,
              "#f0f921"
             ]
            ],
            "type": "heatmapgl"
           }
          ],
          "histogram": [
           {
            "marker": {
             "pattern": {
              "fillmode": "overlay",
              "size": 10,
              "solidity": 0.2
             }
            },
            "type": "histogram"
           }
          ],
          "histogram2d": [
           {
            "colorbar": {
             "outlinewidth": 0,
             "ticks": ""
            },
            "colorscale": [
             [
              0,
              "#0d0887"
             ],
             [
              0.1111111111111111,
              "#46039f"
             ],
             [
              0.2222222222222222,
              "#7201a8"
             ],
             [
              0.3333333333333333,
              "#9c179e"
             ],
             [
              0.4444444444444444,
              "#bd3786"
             ],
             [
              0.5555555555555556,
              "#d8576b"
             ],
             [
              0.6666666666666666,
              "#ed7953"
             ],
             [
              0.7777777777777778,
              "#fb9f3a"
             ],
             [
              0.8888888888888888,
              "#fdca26"
             ],
             [
              1,
              "#f0f921"
             ]
            ],
            "type": "histogram2d"
           }
          ],
          "histogram2dcontour": [
           {
            "colorbar": {
             "outlinewidth": 0,
             "ticks": ""
            },
            "colorscale": [
             [
              0,
              "#0d0887"
             ],
             [
              0.1111111111111111,
              "#46039f"
             ],
             [
              0.2222222222222222,
              "#7201a8"
             ],
             [
              0.3333333333333333,
              "#9c179e"
             ],
             [
              0.4444444444444444,
              "#bd3786"
             ],
             [
              0.5555555555555556,
              "#d8576b"
             ],
             [
              0.6666666666666666,
              "#ed7953"
             ],
             [
              0.7777777777777778,
              "#fb9f3a"
             ],
             [
              0.8888888888888888,
              "#fdca26"
             ],
             [
              1,
              "#f0f921"
             ]
            ],
            "type": "histogram2dcontour"
           }
          ],
          "mesh3d": [
           {
            "colorbar": {
             "outlinewidth": 0,
             "ticks": ""
            },
            "type": "mesh3d"
           }
          ],
          "parcoords": [
           {
            "line": {
             "colorbar": {
              "outlinewidth": 0,
              "ticks": ""
             }
            },
            "type": "parcoords"
           }
          ],
          "pie": [
           {
            "automargin": true,
            "type": "pie"
           }
          ],
          "scatter": [
           {
            "fillpattern": {
             "fillmode": "overlay",
             "size": 10,
             "solidity": 0.2
            },
            "type": "scatter"
           }
          ],
          "scatter3d": [
           {
            "line": {
             "colorbar": {
              "outlinewidth": 0,
              "ticks": ""
             }
            },
            "marker": {
             "colorbar": {
              "outlinewidth": 0,
              "ticks": ""
             }
            },
            "type": "scatter3d"
           }
          ],
          "scattercarpet": [
           {
            "marker": {
             "colorbar": {
              "outlinewidth": 0,
              "ticks": ""
             }
            },
            "type": "scattercarpet"
           }
          ],
          "scattergeo": [
           {
            "marker": {
             "colorbar": {
              "outlinewidth": 0,
              "ticks": ""
             }
            },
            "type": "scattergeo"
           }
          ],
          "scattergl": [
           {
            "marker": {
             "colorbar": {
              "outlinewidth": 0,
              "ticks": ""
             }
            },
            "type": "scattergl"
           }
          ],
          "scattermapbox": [
           {
            "marker": {
             "colorbar": {
              "outlinewidth": 0,
              "ticks": ""
             }
            },
            "type": "scattermapbox"
           }
          ],
          "scatterpolar": [
           {
            "marker": {
             "colorbar": {
              "outlinewidth": 0,
              "ticks": ""
             }
            },
            "type": "scatterpolar"
           }
          ],
          "scatterpolargl": [
           {
            "marker": {
             "colorbar": {
              "outlinewidth": 0,
              "ticks": ""
             }
            },
            "type": "scatterpolargl"
           }
          ],
          "scatterternary": [
           {
            "marker": {
             "colorbar": {
              "outlinewidth": 0,
              "ticks": ""
             }
            },
            "type": "scatterternary"
           }
          ],
          "surface": [
           {
            "colorbar": {
             "outlinewidth": 0,
             "ticks": ""
            },
            "colorscale": [
             [
              0,
              "#0d0887"
             ],
             [
              0.1111111111111111,
              "#46039f"
             ],
             [
              0.2222222222222222,
              "#7201a8"
             ],
             [
              0.3333333333333333,
              "#9c179e"
             ],
             [
              0.4444444444444444,
              "#bd3786"
             ],
             [
              0.5555555555555556,
              "#d8576b"
             ],
             [
              0.6666666666666666,
              "#ed7953"
             ],
             [
              0.7777777777777778,
              "#fb9f3a"
             ],
             [
              0.8888888888888888,
              "#fdca26"
             ],
             [
              1,
              "#f0f921"
             ]
            ],
            "type": "surface"
           }
          ],
          "table": [
           {
            "cells": {
             "fill": {
              "color": "#EBF0F8"
             },
             "line": {
              "color": "white"
             }
            },
            "header": {
             "fill": {
              "color": "#C8D4E3"
             },
             "line": {
              "color": "white"
             }
            },
            "type": "table"
           }
          ]
         },
         "layout": {
          "annotationdefaults": {
           "arrowcolor": "#2a3f5f",
           "arrowhead": 0,
           "arrowwidth": 1
          },
          "autotypenumbers": "strict",
          "coloraxis": {
           "colorbar": {
            "outlinewidth": 0,
            "ticks": ""
           }
          },
          "colorscale": {
           "diverging": [
            [
             0,
             "#8e0152"
            ],
            [
             0.1,
             "#c51b7d"
            ],
            [
             0.2,
             "#de77ae"
            ],
            [
             0.3,
             "#f1b6da"
            ],
            [
             0.4,
             "#fde0ef"
            ],
            [
             0.5,
             "#f7f7f7"
            ],
            [
             0.6,
             "#e6f5d0"
            ],
            [
             0.7,
             "#b8e186"
            ],
            [
             0.8,
             "#7fbc41"
            ],
            [
             0.9,
             "#4d9221"
            ],
            [
             1,
             "#276419"
            ]
           ],
           "sequential": [
            [
             0,
             "#0d0887"
            ],
            [
             0.1111111111111111,
             "#46039f"
            ],
            [
             0.2222222222222222,
             "#7201a8"
            ],
            [
             0.3333333333333333,
             "#9c179e"
            ],
            [
             0.4444444444444444,
             "#bd3786"
            ],
            [
             0.5555555555555556,
             "#d8576b"
            ],
            [
             0.6666666666666666,
             "#ed7953"
            ],
            [
             0.7777777777777778,
             "#fb9f3a"
            ],
            [
             0.8888888888888888,
             "#fdca26"
            ],
            [
             1,
             "#f0f921"
            ]
           ],
           "sequentialminus": [
            [
             0,
             "#0d0887"
            ],
            [
             0.1111111111111111,
             "#46039f"
            ],
            [
             0.2222222222222222,
             "#7201a8"
            ],
            [
             0.3333333333333333,
             "#9c179e"
            ],
            [
             0.4444444444444444,
             "#bd3786"
            ],
            [
             0.5555555555555556,
             "#d8576b"
            ],
            [
             0.6666666666666666,
             "#ed7953"
            ],
            [
             0.7777777777777778,
             "#fb9f3a"
            ],
            [
             0.8888888888888888,
             "#fdca26"
            ],
            [
             1,
             "#f0f921"
            ]
           ]
          },
          "colorway": [
           "#636efa",
           "#EF553B",
           "#00cc96",
           "#ab63fa",
           "#FFA15A",
           "#19d3f3",
           "#FF6692",
           "#B6E880",
           "#FF97FF",
           "#FECB52"
          ],
          "font": {
           "color": "#2a3f5f"
          },
          "geo": {
           "bgcolor": "white",
           "lakecolor": "white",
           "landcolor": "#E5ECF6",
           "showlakes": true,
           "showland": true,
           "subunitcolor": "white"
          },
          "hoverlabel": {
           "align": "left"
          },
          "hovermode": "closest",
          "mapbox": {
           "style": "light"
          },
          "paper_bgcolor": "white",
          "plot_bgcolor": "#E5ECF6",
          "polar": {
           "angularaxis": {
            "gridcolor": "white",
            "linecolor": "white",
            "ticks": ""
           },
           "bgcolor": "#E5ECF6",
           "radialaxis": {
            "gridcolor": "white",
            "linecolor": "white",
            "ticks": ""
           }
          },
          "scene": {
           "xaxis": {
            "backgroundcolor": "#E5ECF6",
            "gridcolor": "white",
            "gridwidth": 2,
            "linecolor": "white",
            "showbackground": true,
            "ticks": "",
            "zerolinecolor": "white"
           },
           "yaxis": {
            "backgroundcolor": "#E5ECF6",
            "gridcolor": "white",
            "gridwidth": 2,
            "linecolor": "white",
            "showbackground": true,
            "ticks": "",
            "zerolinecolor": "white"
           },
           "zaxis": {
            "backgroundcolor": "#E5ECF6",
            "gridcolor": "white",
            "gridwidth": 2,
            "linecolor": "white",
            "showbackground": true,
            "ticks": "",
            "zerolinecolor": "white"
           }
          },
          "shapedefaults": {
           "line": {
            "color": "#2a3f5f"
           }
          },
          "ternary": {
           "aaxis": {
            "gridcolor": "white",
            "linecolor": "white",
            "ticks": ""
           },
           "baxis": {
            "gridcolor": "white",
            "linecolor": "white",
            "ticks": ""
           },
           "bgcolor": "#E5ECF6",
           "caxis": {
            "gridcolor": "white",
            "linecolor": "white",
            "ticks": ""
           }
          },
          "title": {
           "x": 0.05
          },
          "xaxis": {
           "automargin": true,
           "gridcolor": "white",
           "linecolor": "white",
           "ticks": "",
           "title": {
            "standoff": 15
           },
           "zerolinecolor": "white",
           "zerolinewidth": 2
          },
          "yaxis": {
           "automargin": true,
           "gridcolor": "white",
           "linecolor": "white",
           "ticks": "",
           "title": {
            "standoff": 15
           },
           "zerolinecolor": "white",
           "zerolinewidth": 2
          }
         }
        },
        "title": {
         "text": "Number of Pit Stops per Driver in the Indy 500"
        },
        "updatemenus": [
         {
          "buttons": [
           {
            "args": [
             {
              "visible": [
               true,
               true,
               true,
               true,
               true,
               true,
               true,
               true,
               true,
               true,
               true,
               true,
               true,
               true,
               true,
               true,
               true,
               true,
               true,
               true,
               true,
               true,
               true,
               true,
               true,
               true,
               true,
               true,
               true,
               true,
               true,
               true,
               true
              ]
             },
             {
              "title": "Number of Pit Stops for Drivers in Indy 500"
             }
            ],
            "label": "All Drivers",
            "method": "update"
           },
           {
            "args": [
             {
              "visible": [
               true,
               false,
               false,
               false,
               false,
               false,
               false,
               false,
               false,
               false,
               false,
               false,
               false,
               false,
               false,
               false,
               false,
               false,
               false,
               false,
               false,
               false,
               false,
               false,
               false,
               false,
               false,
               false,
               false,
               false,
               false,
               false,
               false
              ]
             },
             {
              "title": "Number of Pit Stops for Josef Newgarden in Indy 500"
             }
            ],
            "label": "Josef Newgarden",
            "method": "update"
           },
           {
            "args": [
             {
              "visible": [
               false,
               true,
               false,
               false,
               false,
               false,
               false,
               false,
               false,
               false,
               false,
               false,
               false,
               false,
               false,
               false,
               false,
               false,
               false,
               false,
               false,
               false,
               false,
               false,
               false,
               false,
               false,
               false,
               false,
               false,
               false,
               false,
               false
              ]
             },
             {
              "title": "Number of Pit Stops for Pato O'Ward in Indy 500"
             }
            ],
            "label": "Pato O'Ward",
            "method": "update"
           },
           {
            "args": [
             {
              "visible": [
               false,
               false,
               true,
               false,
               false,
               false,
               false,
               false,
               false,
               false,
               false,
               false,
               false,
               false,
               false,
               false,
               false,
               false,
               false,
               false,
               false,
               false,
               false,
               false,
               false,
               false,
               false,
               false,
               false,
               false,
               false,
               false,
               false
              ]
             },
             {
              "title": "Number of Pit Stops for Scott Dixon in Indy 500"
             }
            ],
            "label": "Scott Dixon",
            "method": "update"
           },
           {
            "args": [
             {
              "visible": [
               false,
               false,
               false,
               true,
               false,
               false,
               false,
               false,
               false,
               false,
               false,
               false,
               false,
               false,
               false,
               false,
               false,
               false,
               false,
               false,
               false,
               false,
               false,
               false,
               false,
               false,
               false,
               false,
               false,
               false,
               false,
               false,
               false
              ]
             },
             {
              "title": "Number of Pit Stops for Alexander Rossi in Indy 500"
             }
            ],
            "label": "Alexander Rossi",
            "method": "update"
           },
           {
            "args": [
             {
              "visible": [
               false,
               false,
               false,
               false,
               true,
               false,
               false,
               false,
               false,
               false,
               false,
               false,
               false,
               false,
               false,
               false,
               false,
               false,
               false,
               false,
               false,
               false,
               false,
               false,
               false,
               false,
               false,
               false,
               false,
               false,
               false,
               false,
               false
              ]
             },
             {
              "title": "Number of Pit Stops for Alex Palou in Indy 500"
             }
            ],
            "label": "Alex Palou",
            "method": "update"
           },
           {
            "args": [
             {
              "visible": [
               false,
               false,
               false,
               false,
               false,
               true,
               false,
               false,
               false,
               false,
               false,
               false,
               false,
               false,
               false,
               false,
               false,
               false,
               false,
               false,
               false,
               false,
               false,
               false,
               false,
               false,
               false,
               false,
               false,
               false,
               false,
               false,
               false
              ]
             },
             {
              "title": "Number of Pit Stops for Scott McLaughlin in Indy 500"
             }
            ],
            "label": "Scott McLaughlin",
            "method": "update"
           },
           {
            "args": [
             {
              "visible": [
               false,
               false,
               false,
               false,
               false,
               false,
               true,
               false,
               false,
               false,
               false,
               false,
               false,
               false,
               false,
               false,
               false,
               false,
               false,
               false,
               false,
               false,
               false,
               false,
               false,
               false,
               false,
               false,
               false,
               false,
               false,
               false,
               false
              ]
             },
             {
              "title": "Number of Pit Stops for Kyle Kirkwood in Indy 500"
             }
            ],
            "label": "Kyle Kirkwood",
            "method": "update"
           },
           {
            "args": [
             {
              "visible": [
               false,
               false,
               false,
               false,
               false,
               false,
               false,
               true,
               false,
               false,
               false,
               false,
               false,
               false,
               false,
               false,
               false,
               false,
               false,
               false,
               false,
               false,
               false,
               false,
               false,
               false,
               false,
               false,
               false,
               false,
               false,
               false,
               false
              ]
             },
             {
              "title": "Number of Pit Stops for Santino Ferrucci in Indy 500"
             }
            ],
            "label": "Santino Ferrucci",
            "method": "update"
           },
           {
            "args": [
             {
              "visible": [
               false,
               false,
               false,
               false,
               false,
               false,
               false,
               false,
               true,
               false,
               false,
               false,
               false,
               false,
               false,
               false,
               false,
               false,
               false,
               false,
               false,
               false,
               false,
               false,
               false,
               false,
               false,
               false,
               false,
               false,
               false,
               false,
               false
              ]
             },
             {
              "title": "Number of Pit Stops for Rinus VeeKay in Indy 500"
             }
            ],
            "label": "Rinus VeeKay",
            "method": "update"
           },
           {
            "args": [
             {
              "visible": [
               false,
               false,
               false,
               false,
               false,
               false,
               false,
               false,
               false,
               true,
               false,
               false,
               false,
               false,
               false,
               false,
               false,
               false,
               false,
               false,
               false,
               false,
               false,
               false,
               false,
               false,
               false,
               false,
               false,
               false,
               false,
               false,
               false
              ]
             },
             {
              "title": "Number of Pit Stops for Conor Daly in Indy 500"
             }
            ],
            "label": "Conor Daly",
            "method": "update"
           },
           {
            "args": [
             {
              "visible": [
               false,
               false,
               false,
               false,
               false,
               false,
               false,
               false,
               false,
               false,
               true,
               false,
               false,
               false,
               false,
               false,
               false,
               false,
               false,
               false,
               false,
               false,
               false,
               false,
               false,
               false,
               false,
               false,
               false,
               false,
               false,
               false,
               false
              ]
             },
             {
              "title": "Number of Pit Stops for Callum Ilott in Indy 500"
             }
            ],
            "label": "Callum Ilott",
            "method": "update"
           },
           {
            "args": [
             {
              "visible": [
               false,
               false,
               false,
               false,
               false,
               false,
               false,
               false,
               false,
               false,
               false,
               true,
               false,
               false,
               false,
               false,
               false,
               false,
               false,
               false,
               false,
               false,
               false,
               false,
               false,
               false,
               false,
               false,
               false,
               false,
               false,
               false,
               false
              ]
             },
             {
              "title": "Number of Pit Stops for Christian Rasmussen in Indy 500"
             }
            ],
            "label": "Christian Rasmussen",
            "method": "update"
           },
           {
            "args": [
             {
              "visible": [
               false,
               false,
               false,
               false,
               false,
               false,
               false,
               false,
               false,
               false,
               false,
               false,
               true,
               false,
               false,
               false,
               false,
               false,
               false,
               false,
               false,
               false,
               false,
               false,
               false,
               false,
               false,
               false,
               false,
               false,
               false,
               false,
               false
              ]
             },
             {
              "title": "Number of Pit Stops for Christian Lundgaard in Indy 500"
             }
            ],
            "label": "Christian Lundgaard",
            "method": "update"
           },
           {
            "args": [
             {
              "visible": [
               false,
               false,
               false,
               false,
               false,
               false,
               false,
               false,
               false,
               false,
               false,
               false,
               false,
               true,
               false,
               false,
               false,
               false,
               false,
               false,
               false,
               false,
               false,
               false,
               false,
               false,
               false,
               false,
               false,
               false,
               false,
               false,
               false
              ]
             },
             {
              "title": "Number of Pit Stops for Takuma Sato in Indy 500"
             }
            ],
            "label": "Takuma Sato",
            "method": "update"
           },
           {
            "args": [
             {
              "visible": [
               false,
               false,
               false,
               false,
               false,
               false,
               false,
               false,
               false,
               false,
               false,
               false,
               false,
               false,
               true,
               false,
               false,
               false,
               false,
               false,
               false,
               false,
               false,
               false,
               false,
               false,
               false,
               false,
               false,
               false,
               false,
               false,
               false
              ]
             },
             {
              "title": "Number of Pit Stops for Graham Rahal in Indy 500"
             }
            ],
            "label": "Graham Rahal",
            "method": "update"
           },
           {
            "args": [
             {
              "visible": [
               false,
               false,
               false,
               false,
               false,
               false,
               false,
               false,
               false,
               false,
               false,
               false,
               false,
               false,
               false,
               true,
               false,
               false,
               false,
               false,
               false,
               false,
               false,
               false,
               false,
               false,
               false,
               false,
               false,
               false,
               false,
               false,
               false
              ]
             },
             {
              "title": "Number of Pit Stops for Sting Ray Robb in Indy 500"
             }
            ],
            "label": "Sting Ray Robb",
            "method": "update"
           },
           {
            "args": [
             {
              "visible": [
               false,
               false,
               false,
               false,
               false,
               false,
               false,
               false,
               false,
               false,
               false,
               false,
               false,
               false,
               false,
               false,
               true,
               false,
               false,
               false,
               false,
               false,
               false,
               false,
               false,
               false,
               false,
               false,
               false,
               false,
               false,
               false,
               false
              ]
             },
             {
              "title": "Number of Pit Stops for Ed Carpenter in Indy 500"
             }
            ],
            "label": "Ed Carpenter",
            "method": "update"
           },
           {
            "args": [
             {
              "visible": [
               false,
               false,
               false,
               false,
               false,
               false,
               false,
               false,
               false,
               false,
               false,
               false,
               false,
               false,
               false,
               false,
               false,
               true,
               false,
               false,
               false,
               false,
               false,
               false,
               false,
               false,
               false,
               false,
               false,
               false,
               false,
               false,
               false
              ]
             },
             {
              "title": "Number of Pit Stops for Kyle Larson in Indy 500"
             }
            ],
            "label": "Kyle Larson",
            "method": "update"
           },
           {
            "args": [
             {
              "visible": [
               false,
               false,
               false,
               false,
               false,
               false,
               false,
               false,
               false,
               false,
               false,
               false,
               false,
               false,
               false,
               false,
               false,
               false,
               true,
               false,
               false,
               false,
               false,
               false,
               false,
               false,
               false,
               false,
               false,
               false,
               false,
               false,
               false
              ]
             },
             {
              "title": "Number of Pit Stops for Romain Grosjean in Indy 500"
             }
            ],
            "label": "Romain Grosjean",
            "method": "update"
           },
           {
            "args": [
             {
              "visible": [
               false,
               false,
               false,
               false,
               false,
               false,
               false,
               false,
               false,
               false,
               false,
               false,
               false,
               false,
               false,
               false,
               false,
               false,
               false,
               true,
               false,
               false,
               false,
               false,
               false,
               false,
               false,
               false,
               false,
               false,
               false,
               false,
               false
              ]
             },
             {
              "title": "Number of Pit Stops for Helio Castroneves in Indy 500"
             }
            ],
            "label": "Helio Castroneves",
            "method": "update"
           },
           {
            "args": [
             {
              "visible": [
               false,
               false,
               false,
               false,
               false,
               false,
               false,
               false,
               false,
               false,
               false,
               false,
               false,
               false,
               false,
               false,
               false,
               false,
               false,
               false,
               true,
               false,
               false,
               false,
               false,
               false,
               false,
               false,
               false,
               false,
               false,
               false,
               false
              ]
             },
             {
              "title": "Number of Pit Stops for Kyffin Simpson in Indy 500"
             }
            ],
            "label": "Kyffin Simpson",
            "method": "update"
           },
           {
            "args": [
             {
              "visible": [
               false,
               false,
               false,
               false,
               false,
               false,
               false,
               false,
               false,
               false,
               false,
               false,
               false,
               false,
               false,
               false,
               false,
               false,
               false,
               false,
               false,
               true,
               false,
               false,
               false,
               false,
               false,
               false,
               false,
               false,
               false,
               false,
               false
              ]
             },
             {
              "title": "Number of Pit Stops for Agustin Canapino in Indy 500"
             }
            ],
            "label": "Agustin Canapino",
            "method": "update"
           },
           {
            "args": [
             {
              "visible": [
               false,
               false,
               false,
               false,
               false,
               false,
               false,
               false,
               false,
               false,
               false,
               false,
               false,
               false,
               false,
               false,
               false,
               false,
               false,
               false,
               false,
               false,
               true,
               false,
               false,
               false,
               false,
               false,
               false,
               false,
               false,
               false,
               false
              ]
             },
             {
              "title": "Number of Pit Stops for Colton Herta in Indy 500"
             }
            ],
            "label": "Colton Herta",
            "method": "update"
           },
           {
            "args": [
             {
              "visible": [
               false,
               false,
               false,
               false,
               false,
               false,
               false,
               false,
               false,
               false,
               false,
               false,
               false,
               false,
               false,
               false,
               false,
               false,
               false,
               false,
               false,
               false,
               false,
               true,
               false,
               false,
               false,
               false,
               false,
               false,
               false,
               false,
               false
              ]
             },
             {
              "title": "Number of Pit Stops for Will Power in Indy 500"
             }
            ],
            "label": "Will Power",
            "method": "update"
           },
           {
            "args": [
             {
              "visible": [
               false,
               false,
               false,
               false,
               false,
               false,
               false,
               false,
               false,
               false,
               false,
               false,
               false,
               false,
               false,
               false,
               false,
               false,
               false,
               false,
               false,
               false,
               false,
               false,
               true,
               false,
               false,
               false,
               false,
               false,
               false,
               false,
               false
              ]
             },
             {
              "title": "Number of Pit Stops for Marco Andretti in Indy 500"
             }
            ],
            "label": "Marco Andretti",
            "method": "update"
           },
           {
            "args": [
             {
              "visible": [
               false,
               false,
               false,
               false,
               false,
               false,
               false,
               false,
               false,
               false,
               false,
               false,
               false,
               false,
               false,
               false,
               false,
               false,
               false,
               false,
               false,
               false,
               false,
               false,
               false,
               true,
               false,
               false,
               false,
               false,
               false,
               false,
               false
              ]
             },
             {
              "title": "Number of Pit Stops for Ryan Hunter-Reay in Indy 500"
             }
            ],
            "label": "Ryan Hunter-Reay",
            "method": "update"
           },
           {
            "args": [
             {
              "visible": [
               false,
               false,
               false,
               false,
               false,
               false,
               false,
               false,
               false,
               false,
               false,
               false,
               false,
               false,
               false,
               false,
               false,
               false,
               false,
               false,
               false,
               false,
               false,
               false,
               false,
               false,
               true,
               false,
               false,
               false,
               false,
               false,
               false
              ]
             },
             {
              "title": "Number of Pit Stops for Felix Rosenqvist in Indy 500"
             }
            ],
            "label": "Felix Rosenqvist",
            "method": "update"
           },
           {
            "args": [
             {
              "visible": [
               false,
               false,
               false,
               false,
               false,
               false,
               false,
               false,
               false,
               false,
               false,
               false,
               false,
               false,
               false,
               false,
               false,
               false,
               false,
               false,
               false,
               false,
               false,
               false,
               false,
               false,
               false,
               true,
               false,
               false,
               false,
               false,
               false
              ]
             },
             {
              "title": "Number of Pit Stops for Linus Lundqvist in Indy 500"
             }
            ],
            "label": "Linus Lundqvist",
            "method": "update"
           },
           {
            "args": [
             {
              "visible": [
               false,
               false,
               false,
               false,
               false,
               false,
               false,
               false,
               false,
               false,
               false,
               false,
               false,
               false,
               false,
               false,
               false,
               false,
               false,
               false,
               false,
               false,
               false,
               false,
               false,
               false,
               false,
               false,
               true,
               false,
               false,
               false,
               false
              ]
             },
             {
              "title": "Number of Pit Stops for Katherine Legge in Indy 500"
             }
            ],
            "label": "Katherine Legge",
            "method": "update"
           },
           {
            "args": [
             {
              "visible": [
               false,
               false,
               false,
               false,
               false,
               false,
               false,
               false,
               false,
               false,
               false,
               false,
               false,
               false,
               false,
               false,
               false,
               false,
               false,
               false,
               false,
               false,
               false,
               false,
               false,
               false,
               false,
               false,
               false,
               true,
               false,
               false,
               false
              ]
             },
             {
              "title": "Number of Pit Stops for Marcus Armstrong in Indy 500"
             }
            ],
            "label": "Marcus Armstrong",
            "method": "update"
           },
           {
            "args": [
             {
              "visible": [
               false,
               false,
               false,
               false,
               false,
               false,
               false,
               false,
               false,
               false,
               false,
               false,
               false,
               false,
               false,
               false,
               false,
               false,
               false,
               false,
               false,
               false,
               false,
               false,
               false,
               false,
               false,
               false,
               false,
               false,
               true,
               false,
               false
              ]
             },
             {
              "title": "Number of Pit Stops for Tom Blomqvist in Indy 500"
             }
            ],
            "label": "Tom Blomqvist",
            "method": "update"
           },
           {
            "args": [
             {
              "visible": [
               false,
               false,
               false,
               false,
               false,
               false,
               false,
               false,
               false,
               false,
               false,
               false,
               false,
               false,
               false,
               false,
               false,
               false,
               false,
               false,
               false,
               false,
               false,
               false,
               false,
               false,
               false,
               false,
               false,
               false,
               false,
               true,
               false
              ]
             },
             {
              "title": "Number of Pit Stops for Pietro Fittipaldi in Indy 500"
             }
            ],
            "label": "Pietro Fittipaldi",
            "method": "update"
           },
           {
            "args": [
             {
              "visible": [
               false,
               false,
               false,
               false,
               false,
               false,
               false,
               false,
               false,
               false,
               false,
               false,
               false,
               false,
               false,
               false,
               false,
               false,
               false,
               false,
               false,
               false,
               false,
               false,
               false,
               false,
               false,
               false,
               false,
               false,
               false,
               false,
               true
              ]
             },
             {
              "title": "Number of Pit Stops for Marcus Ericsson in Indy 500"
             }
            ],
            "label": "Marcus Ericsson",
            "method": "update"
           }
          ],
          "direction": "down",
          "showactive": true,
          "x": 0.17,
          "y": 1.27
         }
        ],
        "xaxis": {
         "autorange": true,
         "range": [
          -0.5,
          32.5
         ],
         "title": {
          "text": "Driver"
         },
         "type": "category"
        },
        "yaxis": {
         "autorange": true,
         "range": [
          0,
          8.421052631578947
         ],
         "title": {
          "text": "Number of Pit Stops"
         },
         "type": "linear"
        }
       }
      },
      "image/png": "[encoded data removed]",
      "text/html": [
       "<div>                            <div id=\"1af9d278-8165-45b5-9037-cadf16186e4c\" class=\"plotly-graph-div\" style=\"height:525px; width:100%;\"></div>            <script type=\"text/javascript\">                require([\"plotly\"], function(Plotly) {                    window.PLOTLYENV=window.PLOTLYENV || {};                                    if (document.getElementById(\"1af9d278-8165-45b5-9037-cadf16186e4c\")) {                    Plotly.newPlot(                        \"1af9d278-8165-45b5-9037-cadf16186e4c\",                        [{\"name\":\"Josef Newgarden\",\"x\":[\"Josef Newgarden\"],\"y\":[5],\"type\":\"bar\"},{\"name\":\"Pato O'Ward\",\"x\":[\"Pato O'Ward\"],\"y\":[6],\"type\":\"bar\"},{\"name\":\"Scott Dixon\",\"x\":[\"Scott Dixon\"],\"y\":[6],\"type\":\"bar\"},{\"name\":\"Alexander Rossi\",\"x\":[\"Alexander Rossi\"],\"y\":[5],\"type\":\"bar\"},{\"name\":\"Alex Palou\",\"x\":[\"Alex Palou\"],\"y\":[5],\"type\":\"bar\"},{\"name\":\"Scott McLaughlin\",\"x\":[\"Scott McLaughlin\"],\"y\":[5],\"type\":\"bar\"},{\"name\":\"Kyle Kirkwood\",\"x\":[\"Kyle Kirkwood\"],\"y\":[6],\"type\":\"bar\"},{\"name\":\"Santino Ferrucci\",\"x\":[\"Santino Ferrucci\"],\"y\":[5],\"type\":\"bar\"},{\"name\":\"Rinus VeeKay\",\"x\":[\"Rinus VeeKay\"],\"y\":[5],\"type\":\"bar\"},{\"name\":\"Conor Daly\",\"x\":[\"Conor Daly\"],\"y\":[6],\"type\":\"bar\"},{\"name\":\"Callum Ilott\",\"x\":[\"Callum Ilott\"],\"y\":[7],\"type\":\"bar\"},{\"name\":\"Christian Rasmussen\",\"x\":[\"Christian Rasmussen\"],\"y\":[6],\"type\":\"bar\"},{\"name\":\"Christian Lundgaard\",\"x\":[\"Christian Lundgaard\"],\"y\":[7],\"type\":\"bar\"},{\"name\":\"Takuma Sato\",\"x\":[\"Takuma Sato\"],\"y\":[6],\"type\":\"bar\"},{\"name\":\"Graham Rahal\",\"x\":[\"Graham Rahal\"],\"y\":[7],\"type\":\"bar\"},{\"name\":\"Sting Ray Robb\",\"x\":[\"Sting Ray Robb\"],\"y\":[5],\"type\":\"bar\"},{\"name\":\"Ed Carpenter\",\"x\":[\"Ed Carpenter\"],\"y\":[6],\"type\":\"bar\"},{\"name\":\"Kyle Larson\",\"x\":[\"Kyle Larson\"],\"y\":[6],\"type\":\"bar\"},{\"name\":\"Romain Grosjean\",\"x\":[\"Romain Grosjean\"],\"y\":[7],\"type\":\"bar\"},{\"name\":\"Helio Castroneves\",\"x\":[\"Helio Castroneves\"],\"y\":[5],\"type\":\"bar\"},{\"name\":\"Kyffin Simpson\",\"x\":[\"Kyffin Simpson\"],\"y\":[8],\"type\":\"bar\"},{\"name\":\"Agustin Canapino\",\"x\":[\"Agustin Canapino\"],\"y\":[6],\"type\":\"bar\"},{\"name\":\"Colton Herta\",\"x\":[\"Colton Herta\"],\"y\":[4],\"type\":\"bar\"},{\"name\":\"Will Power\",\"x\":[\"Will Power\"],\"y\":[4],\"type\":\"bar\"},{\"name\":\"Marco Andretti\",\"x\":[\"Marco Andretti\"],\"y\":[5],\"type\":\"bar\"},{\"name\":\"Ryan Hunter-Reay\",\"x\":[\"Ryan Hunter-Reay\"],\"y\":[4],\"type\":\"bar\"},{\"name\":\"Felix Rosenqvist\",\"x\":[\"Felix Rosenqvist\"],\"y\":[1],\"type\":\"bar\"},{\"name\":\"Linus Lundqvist\",\"x\":[\"Linus Lundqvist\"],\"y\":[2],\"type\":\"bar\"},{\"name\":\"Katherine Legge\",\"x\":[\"Katherine Legge\"],\"y\":[1],\"type\":\"bar\"},{\"name\":\"Marcus Armstrong\",\"x\":[\"Marcus Armstrong\"],\"y\":[0],\"type\":\"bar\"},{\"name\":\"Tom Blomqvist\",\"x\":[\"Tom Blomqvist\"],\"y\":[0],\"type\":\"bar\"},{\"name\":\"Pietro Fittipaldi\",\"x\":[\"Pietro Fittipaldi\"],\"y\":[0],\"type\":\"bar\"},{\"name\":\"Marcus Ericsson\",\"x\":[\"Marcus Ericsson\"],\"y\":[0],\"type\":\"bar\"}],                        {\"template\":{\"data\":{\"histogram2dcontour\":[{\"type\":\"histogram2dcontour\",\"colorbar\":{\"outlinewidth\":0,\"ticks\":\"\"},\"colorscale\":[[0.0,\"#0d0887\"],[0.1111111111111111,\"#46039f\"],[0.2222222222222222,\"#7201a8\"],[0.3333333333333333,\"#9c179e\"],[0.4444444444444444,\"#bd3786\"],[0.5555555555555556,\"#d8576b\"],[0.6666666666666666,\"#ed7953\"],[0.7777777777777778,\"#fb9f3a\"],[0.8888888888888888,\"#fdca26\"],[1.0,\"#f0f921\"]]}],\"choropleth\":[{\"type\":\"choropleth\",\"colorbar\":{\"outlinewidth\":0,\"ticks\":\"\"}}],\"histogram2d\":[{\"type\":\"histogram2d\",\"colorbar\":{\"outlinewidth\":0,\"ticks\":\"\"},\"colorscale\":[[0.0,\"#0d0887\"],[0.1111111111111111,\"#46039f\"],[0.2222222222222222,\"#7201a8\"],[0.3333333333333333,\"#9c179e\"],[0.4444444444444444,\"#bd3786\"],[0.5555555555555556,\"#d8576b\"],[0.6666666666666666,\"#ed7953\"],[0.7777777777777778,\"#fb9f3a\"],[0.8888888888888888,\"#fdca26\"],[1.0,\"#f0f921\"]]}],\"heatmap\":[{\"type\":\"heatmap\",\"colorbar\":{\"outlinewidth\":0,\"ticks\":\"\"},\"colorscale\":[[0.0,\"#0d0887\"],[0.1111111111111111,\"#46039f\"],[0.2222222222222222,\"#7201a8\"],[0.3333333333333333,\"#9c179e\"],[0.4444444444444444,\"#bd3786\"],[0.5555555555555556,\"#d8576b\"],[0.6666666666666666,\"#ed7953\"],[0.7777777777777778,\"#fb9f3a\"],[0.8888888888888888,\"#fdca26\"],[1.0,\"#f0f921\"]]}],\"heatmapgl\":[{\"type\":\"heatmapgl\",\"colorbar\":{\"outlinewidth\":0,\"ticks\":\"\"},\"colorscale\":[[0.0,\"#0d0887\"],[0.1111111111111111,\"#46039f\"],[0.2222222222222222,\"#7201a8\"],[0.3333333333333333,\"#9c179e\"],[0.4444444444444444,\"#bd3786\"],[0.5555555555555556,\"#d8576b\"],[0.6666666666666666,\"#ed7953\"],[0.7777777777777778,\"#fb9f3a\"],[0.8888888888888888,\"#fdca26\"],[1.0,\"#f0f921\"]]}],\"contourcarpet\":[{\"type\":\"contourcarpet\",\"colorbar\":{\"outlinewidth\":0,\"ticks\":\"\"}}],\"contour\":[{\"type\":\"contour\",\"colorbar\":{\"outlinewidth\":0,\"ticks\":\"\"},\"colorscale\":[[0.0,\"#0d0887\"],[0.1111111111111111,\"#46039f\"],[0.2222222222222222,\"#7201a8\"],[0.3333333333333333,\"#9c179e\"],[0.4444444444444444,\"#bd3786\"],[0.5555555555555556,\"#d8576b\"],[0.6666666666666666,\"#ed7953\"],[0.7777777777777778,\"#fb9f3a\"],[0.8888888888888888,\"#fdca26\"],[1.0,\"#f0f921\"]]}],\"surface\":[{\"type\":\"surface\",\"colorbar\":{\"outlinewidth\":0,\"ticks\":\"\"},\"colorscale\":[[0.0,\"#0d0887\"],[0.1111111111111111,\"#46039f\"],[0.2222222222222222,\"#7201a8\"],[0.3333333333333333,\"#9c179e\"],[0.4444444444444444,\"#bd3786\"],[0.5555555555555556,\"#d8576b\"],[0.6666666666666666,\"#ed7953\"],[0.7777777777777778,\"#fb9f3a\"],[0.8888888888888888,\"#fdca26\"],[1.0,\"#f0f921\"]]}],\"mesh3d\":[{\"type\":\"mesh3d\",\"colorbar\":{\"outlinewidth\":0,\"ticks\":\"\"}}],\"scatter\":[{\"fillpattern\":{\"fillmode\":\"overlay\",\"size\":10,\"solidity\":0.2},\"type\":\"scatter\"}],\"parcoords\":[{\"type\":\"parcoords\",\"line\":{\"colorbar\":{\"outlinewidth\":0,\"ticks\":\"\"}}}],\"scatterpolargl\":[{\"type\":\"scatterpolargl\",\"marker\":{\"colorbar\":{\"outlinewidth\":0,\"ticks\":\"\"}}}],\"bar\":[{\"error_x\":{\"color\":\"#2a3f5f\"},\"error_y\":{\"color\":\"#2a3f5f\"},\"marker\":{\"line\":{\"color\":\"#E5ECF6\",\"width\":0.5},\"pattern\":{\"fillmode\":\"overlay\",\"size\":10,\"solidity\":0.2}},\"type\":\"bar\"}],\"scattergeo\":[{\"type\":\"scattergeo\",\"marker\":{\"colorbar\":{\"outlinewidth\":0,\"ticks\":\"\"}}}],\"scatterpolar\":[{\"type\":\"scatterpolar\",\"marker\":{\"colorbar\":{\"outlinewidth\":0,\"ticks\":\"\"}}}],\"histogram\":[{\"marker\":{\"pattern\":{\"fillmode\":\"overlay\",\"size\":10,\"solidity\":0.2}},\"type\":\"histogram\"}],\"scattergl\":[{\"type\":\"scattergl\",\"marker\":{\"colorbar\":{\"outlinewidth\":0,\"ticks\":\"\"}}}],\"scatter3d\":[{\"type\":\"scatter3d\",\"line\":{\"colorbar\":{\"outlinewidth\":0,\"ticks\":\"\"}},\"marker\":{\"colorbar\":{\"outlinewidth\":0,\"ticks\":\"\"}}}],\"scattermapbox\":[{\"type\":\"scattermapbox\",\"marker\":{\"colorbar\":{\"outlinewidth\":0,\"ticks\":\"\"}}}],\"scatterternary\":[{\"type\":\"scatterternary\",\"marker\":{\"colorbar\":{\"outlinewidth\":0,\"ticks\":\"\"}}}],\"scattercarpet\":[{\"type\":\"scattercarpet\",\"marker\":{\"colorbar\":{\"outlinewidth\":0,\"ticks\":\"\"}}}],\"carpet\":[{\"aaxis\":{\"endlinecolor\":\"#2a3f5f\",\"gridcolor\":\"white\",\"linecolor\":\"white\",\"minorgridcolor\":\"white\",\"startlinecolor\":\"#2a3f5f\"},\"baxis\":{\"endlinecolor\":\"#2a3f5f\",\"gridcolor\":\"white\",\"linecolor\":\"white\",\"minorgridcolor\":\"white\",\"startlinecolor\":\"#2a3f5f\"},\"type\":\"carpet\"}],\"table\":[{\"cells\":{\"fill\":{\"color\":\"#EBF0F8\"},\"line\":{\"color\":\"white\"}},\"header\":{\"fill\":{\"color\":\"#C8D4E3\"},\"line\":{\"color\":\"white\"}},\"type\":\"table\"}],\"barpolar\":[{\"marker\":{\"line\":{\"color\":\"#E5ECF6\",\"width\":0.5},\"pattern\":{\"fillmode\":\"overlay\",\"size\":10,\"solidity\":0.2}},\"type\":\"barpolar\"}],\"pie\":[{\"automargin\":true,\"type\":\"pie\"}]},\"layout\":{\"autotypenumbers\":\"strict\",\"colorway\":[\"#636efa\",\"#EF553B\",\"#00cc96\",\"#ab63fa\",\"#FFA15A\",\"#19d3f3\",\"#FF6692\",\"#B6E880\",\"#FF97FF\",\"#FECB52\"],\"font\":{\"color\":\"#2a3f5f\"},\"hovermode\":\"closest\",\"hoverlabel\":{\"align\":\"left\"},\"paper_bgcolor\":\"white\",\"plot_bgcolor\":\"#E5ECF6\",\"polar\":{\"bgcolor\":\"#E5ECF6\",\"angularaxis\":{\"gridcolor\":\"white\",\"linecolor\":\"white\",\"ticks\":\"\"},\"radialaxis\":{\"gridcolor\":\"white\",\"linecolor\":\"white\",\"ticks\":\"\"}},\"ternary\":{\"bgcolor\":\"#E5ECF6\",\"aaxis\":{\"gridcolor\":\"white\",\"linecolor\":\"white\",\"ticks\":\"\"},\"baxis\":{\"gridcolor\":\"white\",\"linecolor\":\"white\",\"ticks\":\"\"},\"caxis\":{\"gridcolor\":\"white\",\"linecolor\":\"white\",\"ticks\":\"\"}},\"coloraxis\":{\"colorbar\":{\"outlinewidth\":0,\"ticks\":\"\"}},\"colorscale\":{\"sequential\":[[0.0,\"#0d0887\"],[0.1111111111111111,\"#46039f\"],[0.2222222222222222,\"#7201a8\"],[0.3333333333333333,\"#9c179e\"],[0.4444444444444444,\"#bd3786\"],[0.5555555555555556,\"#d8576b\"],[0.6666666666666666,\"#ed7953\"],[0.7777777777777778,\"#fb9f3a\"],[0.8888888888888888,\"#fdca26\"],[1.0,\"#f0f921\"]],\"sequentialminus\":[[0.0,\"#0d0887\"],[0.1111111111111111,\"#46039f\"],[0.2222222222222222,\"#7201a8\"],[0.3333333333333333,\"#9c179e\"],[0.4444444444444444,\"#bd3786\"],[0.5555555555555556,\"#d8576b\"],[0.6666666666666666,\"#ed7953\"],[0.7777777777777778,\"#fb9f3a\"],[0.8888888888888888,\"#fdca26\"],[1.0,\"#f0f921\"]],\"diverging\":[[0,\"#8e0152\"],[0.1,\"#c51b7d\"],[0.2,\"#de77ae\"],[0.3,\"#f1b6da\"],[0.4,\"#fde0ef\"],[0.5,\"#f7f7f7\"],[0.6,\"#e6f5d0\"],[0.7,\"#b8e186\"],[0.8,\"#7fbc41\"],[0.9,\"#4d9221\"],[1,\"#276419\"]]},\"xaxis\":{\"gridcolor\":\"white\",\"linecolor\":\"white\",\"ticks\":\"\",\"title\":{\"standoff\":15},\"zerolinecolor\":\"white\",\"automargin\":true,\"zerolinewidth\":2},\"yaxis\":{\"gridcolor\":\"white\",\"linecolor\":\"white\",\"ticks\":\"\",\"title\":{\"standoff\":15},\"zerolinecolor\":\"white\",\"automargin\":true,\"zerolinewidth\":2},\"scene\":{\"xaxis\":{\"backgroundcolor\":\"#E5ECF6\",\"gridcolor\":\"white\",\"linecolor\":\"white\",\"showbackground\":true,\"ticks\":\"\",\"zerolinecolor\":\"white\",\"gridwidth\":2},\"yaxis\":{\"backgroundcolor\":\"#E5ECF6\",\"gridcolor\":\"white\",\"linecolor\":\"white\",\"showbackground\":true,\"ticks\":\"\",\"zerolinecolor\":\"white\",\"gridwidth\":2},\"zaxis\":{\"backgroundcolor\":\"#E5ECF6\",\"gridcolor\":\"white\",\"linecolor\":\"white\",\"showbackground\":true,\"ticks\":\"\",\"zerolinecolor\":\"white\",\"gridwidth\":2}},\"shapedefaults\":{\"line\":{\"color\":\"#2a3f5f\"}},\"annotationdefaults\":{\"arrowcolor\":\"#2a3f5f\",\"arrowhead\":0,\"arrowwidth\":1},\"geo\":{\"bgcolor\":\"white\",\"landcolor\":\"#E5ECF6\",\"subunitcolor\":\"white\",\"showland\":true,\"showlakes\":true,\"lakecolor\":\"white\"},\"title\":{\"x\":0.05},\"mapbox\":{\"style\":\"light\"}}},\"updatemenus\":[{\"buttons\":[{\"args\":[{\"visible\":[true,true,true,true,true,true,true,true,true,true,true,true,true,true,true,true,true,true,true,true,true,true,true,true,true,true,true,true,true,true,true,true,true]},{\"title\":\"Number of Pit Stops for Drivers in Indy 500\"}],\"label\":\"All Drivers\",\"method\":\"update\"},{\"args\":[{\"visible\":[true,false,false,false,false,false,false,false,false,false,false,false,false,false,false,false,false,false,false,false,false,false,false,false,false,false,false,false,false,false,false,false,false]},{\"title\":\"Number of Pit Stops for Josef Newgarden in Indy 500\"}],\"label\":\"Josef Newgarden\",\"method\":\"update\"},{\"args\":[{\"visible\":[false,true,false,false,false,false,false,false,false,false,false,false,false,false,false,false,false,false,false,false,false,false,false,false,false,false,false,false,false,false,false,false,false]},{\"title\":\"Number of Pit Stops for Pato O'Ward in Indy 500\"}],\"label\":\"Pato O'Ward\",\"method\":\"update\"},{\"args\":[{\"visible\":[false,false,true,false,false,false,false,false,false,false,false,false,false,false,false,false,false,false,false,false,false,false,false,false,false,false,false,false,false,false,false,false,false]},{\"title\":\"Number of Pit Stops for Scott Dixon in Indy 500\"}],\"label\":\"Scott Dixon\",\"method\":\"update\"},{\"args\":[{\"visible\":[false,false,false,true,false,false,false,false,false,false,false,false,false,false,false,false,false,false,false,false,false,false,false,false,false,false,false,false,false,false,false,false,false]},{\"title\":\"Number of Pit Stops for Alexander Rossi in Indy 500\"}],\"label\":\"Alexander Rossi\",\"method\":\"update\"},{\"args\":[{\"visible\":[false,false,false,false,true,false,false,false,false,false,false,false,false,false,false,false,false,false,false,false,false,false,false,false,false,false,false,false,false,false,false,false,false]},{\"title\":\"Number of Pit Stops for Alex Palou in Indy 500\"}],\"label\":\"Alex Palou\",\"method\":\"update\"},{\"args\":[{\"visible\":[false,false,false,false,false,true,false,false,false,false,false,false,false,false,false,false,false,false,false,false,false,false,false,false,false,false,false,false,false,false,false,false,false]},{\"title\":\"Number of Pit Stops for Scott McLaughlin in Indy 500\"}],\"label\":\"Scott McLaughlin\",\"method\":\"update\"},{\"args\":[{\"visible\":[false,false,false,false,false,false,true,false,false,false,false,false,false,false,false,false,false,false,false,false,false,false,false,false,false,false,false,false,false,false,false,false,false]},{\"title\":\"Number of Pit Stops for Kyle Kirkwood in Indy 500\"}],\"label\":\"Kyle Kirkwood\",\"method\":\"update\"},{\"args\":[{\"visible\":[false,false,false,false,false,false,false,true,false,false,false,false,false,false,false,false,false,false,false,false,false,false,false,false,false,false,false,false,false,false,false,false,false]},{\"title\":\"Number of Pit Stops for Santino Ferrucci in Indy 500\"}],\"label\":\"Santino Ferrucci\",\"method\":\"update\"},{\"args\":[{\"visible\":[false,false,false,false,false,false,false,false,true,false,false,false,false,false,false,false,false,false,false,false,false,false,false,false,false,false,false,false,false,false,false,false,false]},{\"title\":\"Number of Pit Stops for Rinus VeeKay in Indy 500\"}],\"label\":\"Rinus VeeKay\",\"method\":\"update\"},{\"args\":[{\"visible\":[false,false,false,false,false,false,false,false,false,true,false,false,false,false,false,false,false,false,false,false,false,false,false,false,false,false,false,false,false,false,false,false,false]},{\"title\":\"Number of Pit Stops for Conor Daly in Indy 500\"}],\"label\":\"Conor Daly\",\"method\":\"update\"},{\"args\":[{\"visible\":[false,false,false,false,false,false,false,false,false,false,true,false,false,false,false,false,false,false,false,false,false,false,false,false,false,false,false,false,false,false,false,false,false]},{\"title\":\"Number of Pit Stops for Callum Ilott in Indy 500\"}],\"label\":\"Callum Ilott\",\"method\":\"update\"},{\"args\":[{\"visible\":[false,false,false,false,false,false,false,false,false,false,false,true,false,false,false,false,false,false,false,false,false,false,false,false,false,false,false,false,false,false,false,false,false]},{\"title\":\"Number of Pit Stops for Christian Rasmussen in Indy 500\"}],\"label\":\"Christian Rasmussen\",\"method\":\"update\"},{\"args\":[{\"visible\":[false,false,false,false,false,false,false,false,false,false,false,false,true,false,false,false,false,false,false,false,false,false,false,false,false,false,false,false,false,false,false,false,false]},{\"title\":\"Number of Pit Stops for Christian Lundgaard in Indy 500\"}],\"label\":\"Christian Lundgaard\",\"method\":\"update\"},{\"args\":[{\"visible\":[false,false,false,false,false,false,false,false,false,false,false,false,false,true,false,false,false,false,false,false,false,false,false,false,false,false,false,false,false,false,false,false,false]},{\"title\":\"Number of Pit Stops for Takuma Sato in Indy 500\"}],\"label\":\"Takuma Sato\",\"method\":\"update\"},{\"args\":[{\"visible\":[false,false,false,false,false,false,false,false,false,false,false,false,false,false,true,false,false,false,false,false,false,false,false,false,false,false,false,false,false,false,false,false,false]},{\"title\":\"Number of Pit Stops for Graham Rahal in Indy 500\"}],\"label\":\"Graham Rahal\",\"method\":\"update\"},{\"args\":[{\"visible\":[false,false,false,false,false,false,false,false,false,false,false,false,false,false,false,true,false,false,false,false,false,false,false,false,false,false,false,false,false,false,false,false,false]},{\"title\":\"Number of Pit Stops for Sting Ray Robb in Indy 500\"}],\"label\":\"Sting Ray Robb\",\"method\":\"update\"},{\"args\":[{\"visible\":[false,false,false,false,false,false,false,false,false,false,false,false,false,false,false,false,true,false,false,false,false,false,false,false,false,false,false,false,false,false,false,false,false]},{\"title\":\"Number of Pit Stops for Ed Carpenter in Indy 500\"}],\"label\":\"Ed Carpenter\",\"method\":\"update\"},{\"args\":[{\"visible\":[false,false,false,false,false,false,false,false,false,false,false,false,false,false,false,false,false,true,false,false,false,false,false,false,false,false,false,false,false,false,false,false,false]},{\"title\":\"Number of Pit Stops for Kyle Larson in Indy 500\"}],\"label\":\"Kyle Larson\",\"method\":\"update\"},{\"args\":[{\"visible\":[false,false,false,false,false,false,false,false,false,false,false,false,false,false,false,false,false,false,true,false,false,false,false,false,false,false,false,false,false,false,false,false,false]},{\"title\":\"Number of Pit Stops for Romain Grosjean in Indy 500\"}],\"label\":\"Romain Grosjean\",\"method\":\"update\"},{\"args\":[{\"visible\":[false,false,false,false,false,false,false,false,false,false,false,false,false,false,false,false,false,false,false,true,false,false,false,false,false,false,false,false,false,false,false,false,false]},{\"title\":\"Number of Pit Stops for Helio Castroneves in Indy 500\"}],\"label\":\"Helio Castroneves\",\"method\":\"update\"},{\"args\":[{\"visible\":[false,false,false,false,false,false,false,false,false,false,false,false,false,false,false,false,false,false,false,false,true,false,false,false,false,false,false,false,false,false,false,false,false]},{\"title\":\"Number of Pit Stops for Kyffin Simpson in Indy 500\"}],\"label\":\"Kyffin Simpson\",\"method\":\"update\"},{\"args\":[{\"visible\":[false,false,false,false,false,false,false,false,false,false,false,false,false,false,false,false,false,false,false,false,false,true,false,false,false,false,false,false,false,false,false,false,false]},{\"title\":\"Number of Pit Stops for Agustin Canapino in Indy 500\"}],\"label\":\"Agustin Canapino\",\"method\":\"update\"},{\"args\":[{\"visible\":[false,false,false,false,false,false,false,false,false,false,false,false,false,false,false,false,false,false,false,false,false,false,true,false,false,false,false,false,false,false,false,false,false]},{\"title\":\"Number of Pit Stops for Colton Herta in Indy 500\"}],\"label\":\"Colton Herta\",\"method\":\"update\"},{\"args\":[{\"visible\":[false,false,false,false,false,false,false,false,false,false,false,false,false,false,false,false,false,false,false,false,false,false,false,true,false,false,false,false,false,false,false,false,false]},{\"title\":\"Number of Pit Stops for Will Power in Indy 500\"}],\"label\":\"Will Power\",\"method\":\"update\"},{\"args\":[{\"visible\":[false,false,false,false,false,false,false,false,false,false,false,false,false,false,false,false,false,false,false,false,false,false,false,false,true,false,false,false,false,false,false,false,false]},{\"title\":\"Number of Pit Stops for Marco Andretti in Indy 500\"}],\"label\":\"Marco Andretti\",\"method\":\"update\"},{\"args\":[{\"visible\":[false,false,false,false,false,false,false,false,false,false,false,false,false,false,false,false,false,false,false,false,false,false,false,false,false,true,false,false,false,false,false,false,false]},{\"title\":\"Number of Pit Stops for Ryan Hunter-Reay in Indy 500\"}],\"label\":\"Ryan Hunter-Reay\",\"method\":\"update\"},{\"args\":[{\"visible\":[false,false,false,false,false,false,false,false,false,false,false,false,false,false,false,false,false,false,false,false,false,false,false,false,false,false,true,false,false,false,false,false,false]},{\"title\":\"Number of Pit Stops for Felix Rosenqvist in Indy 500\"}],\"label\":\"Felix Rosenqvist\",\"method\":\"update\"},{\"args\":[{\"visible\":[false,false,false,false,false,false,false,false,false,false,false,false,false,false,false,false,false,false,false,false,false,false,false,false,false,false,false,true,false,false,false,false,false]},{\"title\":\"Number of Pit Stops for Linus Lundqvist in Indy 500\"}],\"label\":\"Linus Lundqvist\",\"method\":\"update\"},{\"args\":[{\"visible\":[false,false,false,false,false,false,false,false,false,false,false,false,false,false,false,false,false,false,false,false,false,false,false,false,false,false,false,false,true,false,false,false,false]},{\"title\":\"Number of Pit Stops for Katherine Legge in Indy 500\"}],\"label\":\"Katherine Legge\",\"method\":\"update\"},{\"args\":[{\"visible\":[false,false,false,false,false,false,false,false,false,false,false,false,false,false,false,false,false,false,false,false,false,false,false,false,false,false,false,false,false,true,false,false,false]},{\"title\":\"Number of Pit Stops for Marcus Armstrong in Indy 500\"}],\"label\":\"Marcus Armstrong\",\"method\":\"update\"},{\"args\":[{\"visible\":[false,false,false,false,false,false,false,false,false,false,false,false,false,false,false,false,false,false,false,false,false,false,false,false,false,false,false,false,false,false,true,false,false]},{\"title\":\"Number of Pit Stops for Tom Blomqvist in Indy 500\"}],\"label\":\"Tom Blomqvist\",\"method\":\"update\"},{\"args\":[{\"visible\":[false,false,false,false,false,false,false,false,false,false,false,false,false,false,false,false,false,false,false,false,false,false,false,false,false,false,false,false,false,false,false,true,false]},{\"title\":\"Number of Pit Stops for Pietro Fittipaldi in Indy 500\"}],\"label\":\"Pietro Fittipaldi\",\"method\":\"update\"},{\"args\":[{\"visible\":[false,false,false,false,false,false,false,false,false,false,false,false,false,false,false,false,false,false,false,false,false,false,false,false,false,false,false,false,false,false,false,false,true]},{\"title\":\"Number of Pit Stops for Marcus Ericsson in Indy 500\"}],\"label\":\"Marcus Ericsson\",\"method\":\"update\"}],\"direction\":\"down\",\"showactive\":true,\"x\":0.17,\"y\":1.27}],\"title\":{\"text\":\"Number of Pit Stops per Driver in the Indy 500\"},\"xaxis\":{\"title\":{\"text\":\"Driver\"}},\"yaxis\":{\"title\":{\"text\":\"Number of Pit Stops\"}},\"showlegend\":false},                        {\"responsive\": true}                    ).then(function(){\n",
       "                            \n",
       "var gd = document.getElementById('1af9d278-8165-45b5-9037-cadf16186e4c');\n",
       "var x = new MutationObserver(function (mutations, observer) {{\n",
       "        var display = window.getComputedStyle(gd).display;\n",
       "        if (!display || display === 'none') {{\n",
       "            console.log([gd, 'removed!']);\n",
       "            Plotly.purge(gd);\n",
       "            observer.disconnect();\n",
       "        }}\n",
       "}});\n",
       "\n",
       "// Listen for the removal of the full notebook cells\n",
       "var notebookContainer = gd.closest('#notebook-container');\n",
       "if (notebookContainer) {{\n",
       "    x.observe(notebookContainer, {childList: true});\n",
       "}}\n",
       "\n",
       "// Listen for the clearing of the current output cell\n",
       "var outputEl = gd.closest('.output');\n",
       "if (outputEl) {{\n",
       "    x.observe(outputEl, {childList: true});\n",
       "}}\n",
       "\n",
       "                        })                };                });            </script>        </div>"
      ]
     },
     "metadata": {},
     "output_type": "display_data"
    }
   ],
   "source": [
    "import plotly.graph_objects as go\n",
    "\n",
    "# Filter the dataframe to only include Indy 500 data\n",
    "df_filtered_indy500 = race_result_df[race_result_df['City'] == 'indy500']\n",
    "\n",
    "fig = go.Figure()\n",
    "\n",
    "# Get a list of unique drivers from the dataframe\n",
    "drivers = df_filtered_indy500['Driver'].unique()\n",
    "\n",
    "\n",
    "for driver in drivers:\n",
    "    fig.add_trace(go.Bar(\n",
    "        x=[driver],  \n",
    "        y=df_filtered_indy500[df_filtered_indy500['Driver'] == driver]['Pit stop'],\n",
    "        name=driver \n",
    "    ))\n",
    "\n",
    "# Filter by driver with a dropdown menu\n",
    "dropdown_buttons = [\n",
    "    {\n",
    "        'label': 'All Drivers',\n",
    "        'method': 'update',\n",
    "        'args': [{'visible': [True] * len(drivers)}, \n",
    "                 {'title': 'Number of Pit Stops for Drivers in Indy 500'}]\n",
    "    }\n",
    "] + [\n",
    "    {\n",
    "        'label': driver,\n",
    "        'method': 'update',\n",
    "        'args': [{'visible': [(d == driver) for d in drivers]},  \n",
    "                 {'title': f'Number of Pit Stops for {driver} in Indy 500'}]\n",
    "    }\n",
    "    for driver in drivers\n",
    "]\n",
    "\n",
    "# Add the dropdown menu to the layout\n",
    "fig.update_layout(\n",
    "    updatemenus=[\n",
    "        {\n",
    "            'buttons': dropdown_buttons,\n",
    "            'direction': 'down',\n",
    "            'showactive': True,\n",
    "            'x': 0.17,  \n",
    "            'y': 1.27\n",
    "        }\n",
    "    ],\n",
    "    title='Number of Pit Stops per Driver in the Indy 500',\n",
    "    xaxis_title='Driver',\n",
    "    yaxis_title='Number of Pit Stops',\n",
    "    showlegend=False  \n",
    ")\n",
    "\n",
    "# Show the figure\n",
    "fig.show()"
   ]
  },
  {
   "cell_type": "code",
   "execution_count": 25,
   "id": "261035b8-7c1b-4241-ac79-df39cfea3af9",
   "metadata": {},
   "outputs": [
    {
     "data": {
      "application/vnd.plotly.v1+json": {
       "config": {
        "plotlyServerURL": "https://plot.ly"
       },
       "data": [
        {
         "name": "Josef Newgarden",
         "type": "bar",
         "x": [
          "Josef Newgarden"
         ],
         "y": [
          200
         ]
        },
        {
         "name": "Pato O'Ward",
         "type": "bar",
         "x": [
          "Pato O'Ward"
         ],
         "y": [
          200
         ]
        },
        {
         "name": "Scott Dixon",
         "type": "bar",
         "x": [
          "Scott Dixon"
         ],
         "y": [
          200
         ]
        },
        {
         "name": "Alexander Rossi",
         "type": "bar",
         "x": [
          "Alexander Rossi"
         ],
         "y": [
          200
         ]
        },
        {
         "name": "Alex Palou",
         "type": "bar",
         "x": [
          "Alex Palou"
         ],
         "y": [
          200
         ]
        },
        {
         "name": "Scott McLaughlin",
         "type": "bar",
         "x": [
          "Scott McLaughlin"
         ],
         "y": [
          200
         ]
        },
        {
         "name": "Kyle Kirkwood",
         "type": "bar",
         "x": [
          "Kyle Kirkwood"
         ],
         "y": [
          200
         ]
        },
        {
         "name": "Santino Ferrucci",
         "type": "bar",
         "x": [
          "Santino Ferrucci"
         ],
         "y": [
          200
         ]
        },
        {
         "name": "Rinus VeeKay",
         "type": "bar",
         "x": [
          "Rinus VeeKay"
         ],
         "y": [
          200
         ]
        },
        {
         "name": "Conor Daly",
         "type": "bar",
         "x": [
          "Conor Daly"
         ],
         "y": [
          200
         ]
        },
        {
         "name": "Callum Ilott",
         "type": "bar",
         "x": [
          "Callum Ilott"
         ],
         "y": [
          200
         ]
        },
        {
         "name": "Christian Rasmussen",
         "type": "bar",
         "x": [
          "Christian Rasmussen"
         ],
         "y": [
          200
         ]
        },
        {
         "name": "Christian Lundgaard",
         "type": "bar",
         "x": [
          "Christian Lundgaard"
         ],
         "y": [
          200
         ]
        },
        {
         "name": "Takuma Sato",
         "type": "bar",
         "x": [
          "Takuma Sato"
         ],
         "y": [
          200
         ]
        },
        {
         "name": "Graham Rahal",
         "type": "bar",
         "x": [
          "Graham Rahal"
         ],
         "y": [
          200
         ]
        },
        {
         "name": "Sting Ray Robb",
         "type": "bar",
         "x": [
          "Sting Ray Robb"
         ],
         "y": [
          200
         ]
        },
        {
         "name": "Ed Carpenter",
         "type": "bar",
         "x": [
          "Ed Carpenter"
         ],
         "y": [
          200
         ]
        },
        {
         "name": "Kyle Larson",
         "type": "bar",
         "x": [
          "Kyle Larson"
         ],
         "y": [
          200
         ]
        },
        {
         "name": "Romain Grosjean",
         "type": "bar",
         "x": [
          "Romain Grosjean"
         ],
         "y": [
          200
         ]
        },
        {
         "name": "Helio Castroneves",
         "type": "bar",
         "x": [
          "Helio Castroneves"
         ],
         "y": [
          200
         ]
        },
        {
         "name": "Kyffin Simpson",
         "type": "bar",
         "x": [
          "Kyffin Simpson"
         ],
         "y": [
          200
         ]
        },
        {
         "name": "Agustin Canapino",
         "type": "bar",
         "x": [
          "Agustin Canapino"
         ],
         "y": [
          199
         ]
        },
        {
         "name": "Colton Herta",
         "type": "bar",
         "x": [
          "Colton Herta"
         ],
         "y": [
          170
         ]
        },
        {
         "name": "Will Power",
         "type": "bar",
         "x": [
          "Will Power"
         ],
         "y": [
          145
         ]
        },
        {
         "name": "Marco Andretti",
         "type": "bar",
         "x": [
          "Marco Andretti"
         ],
         "y": [
          113
         ]
        },
        {
         "name": "Ryan Hunter-Reay",
         "type": "bar",
         "x": [
          "Ryan Hunter-Reay"
         ],
         "y": [
          107
         ]
        },
        {
         "name": "Felix Rosenqvist",
         "type": "bar",
         "x": [
          "Felix Rosenqvist"
         ],
         "y": [
          55
         ]
        },
        {
         "name": "Linus Lundqvist",
         "type": "bar",
         "x": [
          "Linus Lundqvist"
         ],
         "y": [
          27
         ]
        },
        {
         "name": "Katherine Legge",
         "type": "bar",
         "x": [
          "Katherine Legge"
         ],
         "y": [
          22
         ]
        },
        {
         "name": "Marcus Armstrong",
         "type": "bar",
         "x": [
          "Marcus Armstrong"
         ],
         "y": [
          6
         ]
        },
        {
         "name": "Tom Blomqvist",
         "type": "bar",
         "x": [
          "Tom Blomqvist"
         ],
         "y": [
          0
         ]
        },
        {
         "name": "Pietro Fittipaldi",
         "type": "bar",
         "x": [
          "Pietro Fittipaldi"
         ],
         "y": [
          0
         ]
        },
        {
         "name": "Marcus Ericsson",
         "type": "bar",
         "x": [
          "Marcus Ericsson"
         ],
         "y": [
          0
         ]
        }
       ],
       "layout": {
        "autosize": true,
        "showlegend": false,
        "template": {
         "data": {
          "bar": [
           {
            "error_x": {
             "color": "#2a3f5f"
            },
            "error_y": {
             "color": "#2a3f5f"
            },
            "marker": {
             "line": {
              "color": "#E5ECF6",
              "width": 0.5
             },
             "pattern": {
              "fillmode": "overlay",
              "size": 10,
              "solidity": 0.2
             }
            },
            "type": "bar"
           }
          ],
          "barpolar": [
           {
            "marker": {
             "line": {
              "color": "#E5ECF6",
              "width": 0.5
             },
             "pattern": {
              "fillmode": "overlay",
              "size": 10,
              "solidity": 0.2
             }
            },
            "type": "barpolar"
           }
          ],
          "carpet": [
           {
            "aaxis": {
             "endlinecolor": "#2a3f5f",
             "gridcolor": "white",
             "linecolor": "white",
             "minorgridcolor": "white",
             "startlinecolor": "#2a3f5f"
            },
            "baxis": {
             "endlinecolor": "#2a3f5f",
             "gridcolor": "white",
             "linecolor": "white",
             "minorgridcolor": "white",
             "startlinecolor": "#2a3f5f"
            },
            "type": "carpet"
           }
          ],
          "choropleth": [
           {
            "colorbar": {
             "outlinewidth": 0,
             "ticks": ""
            },
            "type": "choropleth"
           }
          ],
          "contour": [
           {
            "colorbar": {
             "outlinewidth": 0,
             "ticks": ""
            },
            "colorscale": [
             [
              0,
              "#0d0887"
             ],
             [
              0.1111111111111111,
              "#46039f"
             ],
             [
              0.2222222222222222,
              "#7201a8"
             ],
             [
              0.3333333333333333,
              "#9c179e"
             ],
             [
              0.4444444444444444,
              "#bd3786"
             ],
             [
              0.5555555555555556,
              "#d8576b"
             ],
             [
              0.6666666666666666,
              "#ed7953"
             ],
             [
              0.7777777777777778,
              "#fb9f3a"
             ],
             [
              0.8888888888888888,
              "#fdca26"
             ],
             [
              1,
              "#f0f921"
             ]
            ],
            "type": "contour"
           }
          ],
          "contourcarpet": [
           {
            "colorbar": {
             "outlinewidth": 0,
             "ticks": ""
            },
            "type": "contourcarpet"
           }
          ],
          "heatmap": [
           {
            "colorbar": {
             "outlinewidth": 0,
             "ticks": ""
            },
            "colorscale": [
             [
              0,
              "#0d0887"
             ],
             [
              0.1111111111111111,
              "#46039f"
             ],
             [
              0.2222222222222222,
              "#7201a8"
             ],
             [
              0.3333333333333333,
              "#9c179e"
             ],
             [
              0.4444444444444444,
              "#bd3786"
             ],
             [
              0.5555555555555556,
              "#d8576b"
             ],
             [
              0.6666666666666666,
              "#ed7953"
             ],
             [
              0.7777777777777778,
              "#fb9f3a"
             ],
             [
              0.8888888888888888,
              "#fdca26"
             ],
             [
              1,
              "#f0f921"
             ]
            ],
            "type": "heatmap"
           }
          ],
          "heatmapgl": [
           {
            "colorbar": {
             "outlinewidth": 0,
             "ticks": ""
            },
            "colorscale": [
             [
              0,
              "#0d0887"
             ],
             [
              0.1111111111111111,
              "#46039f"
             ],
             [
              0.2222222222222222,
              "#7201a8"
             ],
             [
              0.3333333333333333,
              "#9c179e"
             ],
             [
              0.4444444444444444,
              "#bd3786"
             ],
             [
              0.5555555555555556,
              "#d8576b"
             ],
             [
              0.6666666666666666,
              "#ed7953"
             ],
             [
              0.7777777777777778,
              "#fb9f3a"
             ],
             [
              0.8888888888888888,
              "#fdca26"
             ],
             [
              1,
              "#f0f921"
             ]
            ],
            "type": "heatmapgl"
           }
          ],
          "histogram": [
           {
            "marker": {
             "pattern": {
              "fillmode": "overlay",
              "size": 10,
              "solidity": 0.2
             }
            },
            "type": "histogram"
           }
          ],
          "histogram2d": [
           {
            "colorbar": {
             "outlinewidth": 0,
             "ticks": ""
            },
            "colorscale": [
             [
              0,
              "#0d0887"
             ],
             [
              0.1111111111111111,
              "#46039f"
             ],
             [
              0.2222222222222222,
              "#7201a8"
             ],
             [
              0.3333333333333333,
              "#9c179e"
             ],
             [
              0.4444444444444444,
              "#bd3786"
             ],
             [
              0.5555555555555556,
              "#d8576b"
             ],
             [
              0.6666666666666666,
              "#ed7953"
             ],
             [
              0.7777777777777778,
              "#fb9f3a"
             ],
             [
              0.8888888888888888,
              "#fdca26"
             ],
             [
              1,
              "#f0f921"
             ]
            ],
            "type": "histogram2d"
           }
          ],
          "histogram2dcontour": [
           {
            "colorbar": {
             "outlinewidth": 0,
             "ticks": ""
            },
            "colorscale": [
             [
              0,
              "#0d0887"
             ],
             [
              0.1111111111111111,
              "#46039f"
             ],
             [
              0.2222222222222222,
              "#7201a8"
             ],
             [
              0.3333333333333333,
              "#9c179e"
             ],
             [
              0.4444444444444444,
              "#bd3786"
             ],
             [
              0.5555555555555556,
              "#d8576b"
             ],
             [
              0.6666666666666666,
              "#ed7953"
             ],
             [
              0.7777777777777778,
              "#fb9f3a"
             ],
             [
              0.8888888888888888,
              "#fdca26"
             ],
             [
              1,
              "#f0f921"
             ]
            ],
            "type": "histogram2dcontour"
           }
          ],
          "mesh3d": [
           {
            "colorbar": {
             "outlinewidth": 0,
             "ticks": ""
            },
            "type": "mesh3d"
           }
          ],
          "parcoords": [
           {
            "line": {
             "colorbar": {
              "outlinewidth": 0,
              "ticks": ""
             }
            },
            "type": "parcoords"
           }
          ],
          "pie": [
           {
            "automargin": true,
            "type": "pie"
           }
          ],
          "scatter": [
           {
            "fillpattern": {
             "fillmode": "overlay",
             "size": 10,
             "solidity": 0.2
            },
            "type": "scatter"
           }
          ],
          "scatter3d": [
           {
            "line": {
             "colorbar": {
              "outlinewidth": 0,
              "ticks": ""
             }
            },
            "marker": {
             "colorbar": {
              "outlinewidth": 0,
              "ticks": ""
             }
            },
            "type": "scatter3d"
           }
          ],
          "scattercarpet": [
           {
            "marker": {
             "colorbar": {
              "outlinewidth": 0,
              "ticks": ""
             }
            },
            "type": "scattercarpet"
           }
          ],
          "scattergeo": [
           {
            "marker": {
             "colorbar": {
              "outlinewidth": 0,
              "ticks": ""
             }
            },
            "type": "scattergeo"
           }
          ],
          "scattergl": [
           {
            "marker": {
             "colorbar": {
              "outlinewidth": 0,
              "ticks": ""
             }
            },
            "type": "scattergl"
           }
          ],
          "scattermapbox": [
           {
            "marker": {
             "colorbar": {
              "outlinewidth": 0,
              "ticks": ""
             }
            },
            "type": "scattermapbox"
           }
          ],
          "scatterpolar": [
           {
            "marker": {
             "colorbar": {
              "outlinewidth": 0,
              "ticks": ""
             }
            },
            "type": "scatterpolar"
           }
          ],
          "scatterpolargl": [
           {
            "marker": {
             "colorbar": {
              "outlinewidth": 0,
              "ticks": ""
             }
            },
            "type": "scatterpolargl"
           }
          ],
          "scatterternary": [
           {
            "marker": {
             "colorbar": {
              "outlinewidth": 0,
              "ticks": ""
             }
            },
            "type": "scatterternary"
           }
          ],
          "surface": [
           {
            "colorbar": {
             "outlinewidth": 0,
             "ticks": ""
            },
            "colorscale": [
             [
              0,
              "#0d0887"
             ],
             [
              0.1111111111111111,
              "#46039f"
             ],
             [
              0.2222222222222222,
              "#7201a8"
             ],
             [
              0.3333333333333333,
              "#9c179e"
             ],
             [
              0.4444444444444444,
              "#bd3786"
             ],
             [
              0.5555555555555556,
              "#d8576b"
             ],
             [
              0.6666666666666666,
              "#ed7953"
             ],
             [
              0.7777777777777778,
              "#fb9f3a"
             ],
             [
              0.8888888888888888,
              "#fdca26"
             ],
             [
              1,
              "#f0f921"
             ]
            ],
            "type": "surface"
           }
          ],
          "table": [
           {
            "cells": {
             "fill": {
              "color": "#EBF0F8"
             },
             "line": {
              "color": "white"
             }
            },
            "header": {
             "fill": {
              "color": "#C8D4E3"
             },
             "line": {
              "color": "white"
             }
            },
            "type": "table"
           }
          ]
         },
         "layout": {
          "annotationdefaults": {
           "arrowcolor": "#2a3f5f",
           "arrowhead": 0,
           "arrowwidth": 1
          },
          "autotypenumbers": "strict",
          "coloraxis": {
           "colorbar": {
            "outlinewidth": 0,
            "ticks": ""
           }
          },
          "colorscale": {
           "diverging": [
            [
             0,
             "#8e0152"
            ],
            [
             0.1,
             "#c51b7d"
            ],
            [
             0.2,
             "#de77ae"
            ],
            [
             0.3,
             "#f1b6da"
            ],
            [
             0.4,
             "#fde0ef"
            ],
            [
             0.5,
             "#f7f7f7"
            ],
            [
             0.6,
             "#e6f5d0"
            ],
            [
             0.7,
             "#b8e186"
            ],
            [
             0.8,
             "#7fbc41"
            ],
            [
             0.9,
             "#4d9221"
            ],
            [
             1,
             "#276419"
            ]
           ],
           "sequential": [
            [
             0,
             "#0d0887"
            ],
            [
             0.1111111111111111,
             "#46039f"
            ],
            [
             0.2222222222222222,
             "#7201a8"
            ],
            [
             0.3333333333333333,
             "#9c179e"
            ],
            [
             0.4444444444444444,
             "#bd3786"
            ],
            [
             0.5555555555555556,
             "#d8576b"
            ],
            [
             0.6666666666666666,
             "#ed7953"
            ],
            [
             0.7777777777777778,
             "#fb9f3a"
            ],
            [
             0.8888888888888888,
             "#fdca26"
            ],
            [
             1,
             "#f0f921"
            ]
           ],
           "sequentialminus": [
            [
             0,
             "#0d0887"
            ],
            [
             0.1111111111111111,
             "#46039f"
            ],
            [
             0.2222222222222222,
             "#7201a8"
            ],
            [
             0.3333333333333333,
             "#9c179e"
            ],
            [
             0.4444444444444444,
             "#bd3786"
            ],
            [
             0.5555555555555556,
             "#d8576b"
            ],
            [
             0.6666666666666666,
             "#ed7953"
            ],
            [
             0.7777777777777778,
             "#fb9f3a"
            ],
            [
             0.8888888888888888,
             "#fdca26"
            ],
            [
             1,
             "#f0f921"
            ]
           ]
          },
          "colorway": [
           "#636efa",
           "#EF553B",
           "#00cc96",
           "#ab63fa",
           "#FFA15A",
           "#19d3f3",
           "#FF6692",
           "#B6E880",
           "#FF97FF",
           "#FECB52"
          ],
          "font": {
           "color": "#2a3f5f"
          },
          "geo": {
           "bgcolor": "white",
           "lakecolor": "white",
           "landcolor": "#E5ECF6",
           "showlakes": true,
           "showland": true,
           "subunitcolor": "white"
          },
          "hoverlabel": {
           "align": "left"
          },
          "hovermode": "closest",
          "mapbox": {
           "style": "light"
          },
          "paper_bgcolor": "white",
          "plot_bgcolor": "#E5ECF6",
          "polar": {
           "angularaxis": {
            "gridcolor": "white",
            "linecolor": "white",
            "ticks": ""
           },
           "bgcolor": "#E5ECF6",
           "radialaxis": {
            "gridcolor": "white",
            "linecolor": "white",
            "ticks": ""
           }
          },
          "scene": {
           "xaxis": {
            "backgroundcolor": "#E5ECF6",
            "gridcolor": "white",
            "gridwidth": 2,
            "linecolor": "white",
            "showbackground": true,
            "ticks": "",
            "zerolinecolor": "white"
           },
           "yaxis": {
            "backgroundcolor": "#E5ECF6",
            "gridcolor": "white",
            "gridwidth": 2,
            "linecolor": "white",
            "showbackground": true,
            "ticks": "",
            "zerolinecolor": "white"
           },
           "zaxis": {
            "backgroundcolor": "#E5ECF6",
            "gridcolor": "white",
            "gridwidth": 2,
            "linecolor": "white",
            "showbackground": true,
            "ticks": "",
            "zerolinecolor": "white"
           }
          },
          "shapedefaults": {
           "line": {
            "color": "#2a3f5f"
           }
          },
          "ternary": {
           "aaxis": {
            "gridcolor": "white",
            "linecolor": "white",
            "ticks": ""
           },
           "baxis": {
            "gridcolor": "white",
            "linecolor": "white",
            "ticks": ""
           },
           "bgcolor": "#E5ECF6",
           "caxis": {
            "gridcolor": "white",
            "linecolor": "white",
            "ticks": ""
           }
          },
          "title": {
           "x": 0.05
          },
          "xaxis": {
           "automargin": true,
           "gridcolor": "white",
           "linecolor": "white",
           "ticks": "",
           "title": {
            "standoff": 15
           },
           "zerolinecolor": "white",
           "zerolinewidth": 2
          },
          "yaxis": {
           "automargin": true,
           "gridcolor": "white",
           "linecolor": "white",
           "ticks": "",
           "title": {
            "standoff": 15
           },
           "zerolinecolor": "white",
           "zerolinewidth": 2
          }
         }
        },
        "title": {
         "text": "Number of Laps per Driver in the Indy 500"
        },
        "updatemenus": [
         {
          "buttons": [
           {
            "args": [
             {
              "visible": [
               true,
               true,
               true,
               true,
               true,
               true,
               true,
               true,
               true,
               true,
               true,
               true,
               true,
               true,
               true,
               true,
               true,
               true,
               true,
               true,
               true,
               true,
               true,
               true,
               true,
               true,
               true,
               true,
               true,
               true,
               true,
               true,
               true
              ]
             },
             {
              "title": "Number of Laps for Drivers in Indy 500"
             }
            ],
            "label": "All Drivers",
            "method": "update"
           },
           {
            "args": [
             {
              "visible": [
               true,
               false,
               false,
               false,
               false,
               false,
               false,
               false,
               false,
               false,
               false,
               false,
               false,
               false,
               false,
               false,
               false,
               false,
               false,
               false,
               false,
               false,
               false,
               false,
               false,
               false,
               false,
               false,
               false,
               false,
               false,
               false,
               false
              ]
             },
             {
              "title": "Number of Laps for Josef Newgarden in Indy 500"
             }
            ],
            "label": "Josef Newgarden",
            "method": "update"
           },
           {
            "args": [
             {
              "visible": [
               false,
               true,
               false,
               false,
               false,
               false,
               false,
               false,
               false,
               false,
               false,
               false,
               false,
               false,
               false,
               false,
               false,
               false,
               false,
               false,
               false,
               false,
               false,
               false,
               false,
               false,
               false,
               false,
               false,
               false,
               false,
               false,
               false
              ]
             },
             {
              "title": "Number of Laps for Pato O'Ward in Indy 500"
             }
            ],
            "label": "Pato O'Ward",
            "method": "update"
           },
           {
            "args": [
             {
              "visible": [
               false,
               false,
               true,
               false,
               false,
               false,
               false,
               false,
               false,
               false,
               false,
               false,
               false,
               false,
               false,
               false,
               false,
               false,
               false,
               false,
               false,
               false,
               false,
               false,
               false,
               false,
               false,
               false,
               false,
               false,
               false,
               false,
               false
              ]
             },
             {
              "title": "Number of Laps for Scott Dixon in Indy 500"
             }
            ],
            "label": "Scott Dixon",
            "method": "update"
           },
           {
            "args": [
             {
              "visible": [
               false,
               false,
               false,
               true,
               false,
               false,
               false,
               false,
               false,
               false,
               false,
               false,
               false,
               false,
               false,
               false,
               false,
               false,
               false,
               false,
               false,
               false,
               false,
               false,
               false,
               false,
               false,
               false,
               false,
               false,
               false,
               false,
               false
              ]
             },
             {
              "title": "Number of Laps for Alexander Rossi in Indy 500"
             }
            ],
            "label": "Alexander Rossi",
            "method": "update"
           },
           {
            "args": [
             {
              "visible": [
               false,
               false,
               false,
               false,
               true,
               false,
               false,
               false,
               false,
               false,
               false,
               false,
               false,
               false,
               false,
               false,
               false,
               false,
               false,
               false,
               false,
               false,
               false,
               false,
               false,
               false,
               false,
               false,
               false,
               false,
               false,
               false,
               false
              ]
             },
             {
              "title": "Number of Laps for Alex Palou in Indy 500"
             }
            ],
            "label": "Alex Palou",
            "method": "update"
           },
           {
            "args": [
             {
              "visible": [
               false,
               false,
               false,
               false,
               false,
               true,
               false,
               false,
               false,
               false,
               false,
               false,
               false,
               false,
               false,
               false,
               false,
               false,
               false,
               false,
               false,
               false,
               false,
               false,
               false,
               false,
               false,
               false,
               false,
               false,
               false,
               false,
               false
              ]
             },
             {
              "title": "Number of Laps for Scott McLaughlin in Indy 500"
             }
            ],
            "label": "Scott McLaughlin",
            "method": "update"
           },
           {
            "args": [
             {
              "visible": [
               false,
               false,
               false,
               false,
               false,
               false,
               true,
               false,
               false,
               false,
               false,
               false,
               false,
               false,
               false,
               false,
               false,
               false,
               false,
               false,
               false,
               false,
               false,
               false,
               false,
               false,
               false,
               false,
               false,
               false,
               false,
               false,
               false
              ]
             },
             {
              "title": "Number of Laps for Kyle Kirkwood in Indy 500"
             }
            ],
            "label": "Kyle Kirkwood",
            "method": "update"
           },
           {
            "args": [
             {
              "visible": [
               false,
               false,
               false,
               false,
               false,
               false,
               false,
               true,
               false,
               false,
               false,
               false,
               false,
               false,
               false,
               false,
               false,
               false,
               false,
               false,
               false,
               false,
               false,
               false,
               false,
               false,
               false,
               false,
               false,
               false,
               false,
               false,
               false
              ]
             },
             {
              "title": "Number of Laps for Santino Ferrucci in Indy 500"
             }
            ],
            "label": "Santino Ferrucci",
            "method": "update"
           },
           {
            "args": [
             {
              "visible": [
               false,
               false,
               false,
               false,
               false,
               false,
               false,
               false,
               true,
               false,
               false,
               false,
               false,
               false,
               false,
               false,
               false,
               false,
               false,
               false,
               false,
               false,
               false,
               false,
               false,
               false,
               false,
               false,
               false,
               false,
               false,
               false,
               false
              ]
             },
             {
              "title": "Number of Laps for Rinus VeeKay in Indy 500"
             }
            ],
            "label": "Rinus VeeKay",
            "method": "update"
           },
           {
            "args": [
             {
              "visible": [
               false,
               false,
               false,
               false,
               false,
               false,
               false,
               false,
               false,
               true,
               false,
               false,
               false,
               false,
               false,
               false,
               false,
               false,
               false,
               false,
               false,
               false,
               false,
               false,
               false,
               false,
               false,
               false,
               false,
               false,
               false,
               false,
               false
              ]
             },
             {
              "title": "Number of Laps for Conor Daly in Indy 500"
             }
            ],
            "label": "Conor Daly",
            "method": "update"
           },
           {
            "args": [
             {
              "visible": [
               false,
               false,
               false,
               false,
               false,
               false,
               false,
               false,
               false,
               false,
               true,
               false,
               false,
               false,
               false,
               false,
               false,
               false,
               false,
               false,
               false,
               false,
               false,
               false,
               false,
               false,
               false,
               false,
               false,
               false,
               false,
               false,
               false
              ]
             },
             {
              "title": "Number of Laps for Callum Ilott in Indy 500"
             }
            ],
            "label": "Callum Ilott",
            "method": "update"
           },
           {
            "args": [
             {
              "visible": [
               false,
               false,
               false,
               false,
               false,
               false,
               false,
               false,
               false,
               false,
               false,
               true,
               false,
               false,
               false,
               false,
               false,
               false,
               false,
               false,
               false,
               false,
               false,
               false,
               false,
               false,
               false,
               false,
               false,
               false,
               false,
               false,
               false
              ]
             },
             {
              "title": "Number of Laps for Christian Rasmussen in Indy 500"
             }
            ],
            "label": "Christian Rasmussen",
            "method": "update"
           },
           {
            "args": [
             {
              "visible": [
               false,
               false,
               false,
               false,
               false,
               false,
               false,
               false,
               false,
               false,
               false,
               false,
               true,
               false,
               false,
               false,
               false,
               false,
               false,
               false,
               false,
               false,
               false,
               false,
               false,
               false,
               false,
               false,
               false,
               false,
               false,
               false,
               false
              ]
             },
             {
              "title": "Number of Laps for Christian Lundgaard in Indy 500"
             }
            ],
            "label": "Christian Lundgaard",
            "method": "update"
           },
           {
            "args": [
             {
              "visible": [
               false,
               false,
               false,
               false,
               false,
               false,
               false,
               false,
               false,
               false,
               false,
               false,
               false,
               true,
               false,
               false,
               false,
               false,
               false,
               false,
               false,
               false,
               false,
               false,
               false,
               false,
               false,
               false,
               false,
               false,
               false,
               false,
               false
              ]
             },
             {
              "title": "Number of Laps for Takuma Sato in Indy 500"
             }
            ],
            "label": "Takuma Sato",
            "method": "update"
           },
           {
            "args": [
             {
              "visible": [
               false,
               false,
               false,
               false,
               false,
               false,
               false,
               false,
               false,
               false,
               false,
               false,
               false,
               false,
               true,
               false,
               false,
               false,
               false,
               false,
               false,
               false,
               false,
               false,
               false,
               false,
               false,
               false,
               false,
               false,
               false,
               false,
               false
              ]
             },
             {
              "title": "Number of Laps for Graham Rahal in Indy 500"
             }
            ],
            "label": "Graham Rahal",
            "method": "update"
           },
           {
            "args": [
             {
              "visible": [
               false,
               false,
               false,
               false,
               false,
               false,
               false,
               false,
               false,
               false,
               false,
               false,
               false,
               false,
               false,
               true,
               false,
               false,
               false,
               false,
               false,
               false,
               false,
               false,
               false,
               false,
               false,
               false,
               false,
               false,
               false,
               false,
               false
              ]
             },
             {
              "title": "Number of Laps for Sting Ray Robb in Indy 500"
             }
            ],
            "label": "Sting Ray Robb",
            "method": "update"
           },
           {
            "args": [
             {
              "visible": [
               false,
               false,
               false,
               false,
               false,
               false,
               false,
               false,
               false,
               false,
               false,
               false,
               false,
               false,
               false,
               false,
               true,
               false,
               false,
               false,
               false,
               false,
               false,
               false,
               false,
               false,
               false,
               false,
               false,
               false,
               false,
               false,
               false
              ]
             },
             {
              "title": "Number of Laps for Ed Carpenter in Indy 500"
             }
            ],
            "label": "Ed Carpenter",
            "method": "update"
           },
           {
            "args": [
             {
              "visible": [
               false,
               false,
               false,
               false,
               false,
               false,
               false,
               false,
               false,
               false,
               false,
               false,
               false,
               false,
               false,
               false,
               false,
               true,
               false,
               false,
               false,
               false,
               false,
               false,
               false,
               false,
               false,
               false,
               false,
               false,
               false,
               false,
               false
              ]
             },
             {
              "title": "Number of Laps for Kyle Larson in Indy 500"
             }
            ],
            "label": "Kyle Larson",
            "method": "update"
           },
           {
            "args": [
             {
              "visible": [
               false,
               false,
               false,
               false,
               false,
               false,
               false,
               false,
               false,
               false,
               false,
               false,
               false,
               false,
               false,
               false,
               false,
               false,
               true,
               false,
               false,
               false,
               false,
               false,
               false,
               false,
               false,
               false,
               false,
               false,
               false,
               false,
               false
              ]
             },
             {
              "title": "Number of Laps for Romain Grosjean in Indy 500"
             }
            ],
            "label": "Romain Grosjean",
            "method": "update"
           },
           {
            "args": [
             {
              "visible": [
               false,
               false,
               false,
               false,
               false,
               false,
               false,
               false,
               false,
               false,
               false,
               false,
               false,
               false,
               false,
               false,
               false,
               false,
               false,
               true,
               false,
               false,
               false,
               false,
               false,
               false,
               false,
               false,
               false,
               false,
               false,
               false,
               false
              ]
             },
             {
              "title": "Number of Laps for Helio Castroneves in Indy 500"
             }
            ],
            "label": "Helio Castroneves",
            "method": "update"
           },
           {
            "args": [
             {
              "visible": [
               false,
               false,
               false,
               false,
               false,
               false,
               false,
               false,
               false,
               false,
               false,
               false,
               false,
               false,
               false,
               false,
               false,
               false,
               false,
               false,
               true,
               false,
               false,
               false,
               false,
               false,
               false,
               false,
               false,
               false,
               false,
               false,
               false
              ]
             },
             {
              "title": "Number of Laps for Kyffin Simpson in Indy 500"
             }
            ],
            "label": "Kyffin Simpson",
            "method": "update"
           },
           {
            "args": [
             {
              "visible": [
               false,
               false,
               false,
               false,
               false,
               false,
               false,
               false,
               false,
               false,
               false,
               false,
               false,
               false,
               false,
               false,
               false,
               false,
               false,
               false,
               false,
               true,
               false,
               false,
               false,
               false,
               false,
               false,
               false,
               false,
               false,
               false,
               false
              ]
             },
             {
              "title": "Number of Laps for Agustin Canapino in Indy 500"
             }
            ],
            "label": "Agustin Canapino",
            "method": "update"
           },
           {
            "args": [
             {
              "visible": [
               false,
               false,
               false,
               false,
               false,
               false,
               false,
               false,
               false,
               false,
               false,
               false,
               false,
               false,
               false,
               false,
               false,
               false,
               false,
               false,
               false,
               false,
               true,
               false,
               false,
               false,
               false,
               false,
               false,
               false,
               false,
               false,
               false
              ]
             },
             {
              "title": "Number of Laps for Colton Herta in Indy 500"
             }
            ],
            "label": "Colton Herta",
            "method": "update"
           },
           {
            "args": [
             {
              "visible": [
               false,
               false,
               false,
               false,
               false,
               false,
               false,
               false,
               false,
               false,
               false,
               false,
               false,
               false,
               false,
               false,
               false,
               false,
               false,
               false,
               false,
               false,
               false,
               true,
               false,
               false,
               false,
               false,
               false,
               false,
               false,
               false,
               false
              ]
             },
             {
              "title": "Number of Laps for Will Power in Indy 500"
             }
            ],
            "label": "Will Power",
            "method": "update"
           },
           {
            "args": [
             {
              "visible": [
               false,
               false,
               false,
               false,
               false,
               false,
               false,
               false,
               false,
               false,
               false,
               false,
               false,
               false,
               false,
               false,
               false,
               false,
               false,
               false,
               false,
               false,
               false,
               false,
               true,
               false,
               false,
               false,
               false,
               false,
               false,
               false,
               false
              ]
             },
             {
              "title": "Number of Laps for Marco Andretti in Indy 500"
             }
            ],
            "label": "Marco Andretti",
            "method": "update"
           },
           {
            "args": [
             {
              "visible": [
               false,
               false,
               false,
               false,
               false,
               false,
               false,
               false,
               false,
               false,
               false,
               false,
               false,
               false,
               false,
               false,
               false,
               false,
               false,
               false,
               false,
               false,
               false,
               false,
               false,
               true,
               false,
               false,
               false,
               false,
               false,
               false,
               false
              ]
             },
             {
              "title": "Number of Laps for Ryan Hunter-Reay in Indy 500"
             }
            ],
            "label": "Ryan Hunter-Reay",
            "method": "update"
           },
           {
            "args": [
             {
              "visible": [
               false,
               false,
               false,
               false,
               false,
               false,
               false,
               false,
               false,
               false,
               false,
               false,
               false,
               false,
               false,
               false,
               false,
               false,
               false,
               false,
               false,
               false,
               false,
               false,
               false,
               false,
               true,
               false,
               false,
               false,
               false,
               false,
               false
              ]
             },
             {
              "title": "Number of Laps for Felix Rosenqvist in Indy 500"
             }
            ],
            "label": "Felix Rosenqvist",
            "method": "update"
           },
           {
            "args": [
             {
              "visible": [
               false,
               false,
               false,
               false,
               false,
               false,
               false,
               false,
               false,
               false,
               false,
               false,
               false,
               false,
               false,
               false,
               false,
               false,
               false,
               false,
               false,
               false,
               false,
               false,
               false,
               false,
               false,
               true,
               false,
               false,
               false,
               false,
               false
              ]
             },
             {
              "title": "Number of Laps for Linus Lundqvist in Indy 500"
             }
            ],
            "label": "Linus Lundqvist",
            "method": "update"
           },
           {
            "args": [
             {
              "visible": [
               false,
               false,
               false,
               false,
               false,
               false,
               false,
               false,
               false,
               false,
               false,
               false,
               false,
               false,
               false,
               false,
               false,
               false,
               false,
               false,
               false,
               false,
               false,
               false,
               false,
               false,
               false,
               false,
               true,
               false,
               false,
               false,
               false
              ]
             },
             {
              "title": "Number of Laps for Katherine Legge in Indy 500"
             }
            ],
            "label": "Katherine Legge",
            "method": "update"
           },
           {
            "args": [
             {
              "visible": [
               false,
               false,
               false,
               false,
               false,
               false,
               false,
               false,
               false,
               false,
               false,
               false,
               false,
               false,
               false,
               false,
               false,
               false,
               false,
               false,
               false,
               false,
               false,
               false,
               false,
               false,
               false,
               false,
               false,
               true,
               false,
               false,
               false
              ]
             },
             {
              "title": "Number of Laps for Marcus Armstrong in Indy 500"
             }
            ],
            "label": "Marcus Armstrong",
            "method": "update"
           },
           {
            "args": [
             {
              "visible": [
               false,
               false,
               false,
               false,
               false,
               false,
               false,
               false,
               false,
               false,
               false,
               false,
               false,
               false,
               false,
               false,
               false,
               false,
               false,
               false,
               false,
               false,
               false,
               false,
               false,
               false,
               false,
               false,
               false,
               false,
               true,
               false,
               false
              ]
             },
             {
              "title": "Number of Laps for Tom Blomqvist in Indy 500"
             }
            ],
            "label": "Tom Blomqvist",
            "method": "update"
           },
           {
            "args": [
             {
              "visible": [
               false,
               false,
               false,
               false,
               false,
               false,
               false,
               false,
               false,
               false,
               false,
               false,
               false,
               false,
               false,
               false,
               false,
               false,
               false,
               false,
               false,
               false,
               false,
               false,
               false,
               false,
               false,
               false,
               false,
               false,
               false,
               true,
               false
              ]
             },
             {
              "title": "Number of Laps for Pietro Fittipaldi in Indy 500"
             }
            ],
            "label": "Pietro Fittipaldi",
            "method": "update"
           },
           {
            "args": [
             {
              "visible": [
               false,
               false,
               false,
               false,
               false,
               false,
               false,
               false,
               false,
               false,
               false,
               false,
               false,
               false,
               false,
               false,
               false,
               false,
               false,
               false,
               false,
               false,
               false,
               false,
               false,
               false,
               false,
               false,
               false,
               false,
               false,
               false,
               true
              ]
             },
             {
              "title": "Number of Laps for Marcus Ericsson in Indy 500"
             }
            ],
            "label": "Marcus Ericsson",
            "method": "update"
           }
          ],
          "direction": "down",
          "showactive": true,
          "x": 0.17,
          "y": 1.27
         }
        ],
        "xaxis": {
         "autorange": true,
         "range": [
          -0.5,
          32.5
         ],
         "title": {
          "text": "Driver"
         },
         "type": "category"
        },
        "yaxis": {
         "autorange": true,
         "range": [
          0,
          210.5263157894737
         ],
         "title": {
          "text": "Number of Laps"
         },
         "type": "linear"
        }
       }
      },
      "image/png": "[encoded data removed]",
      "text/html": [
       "<div>                            <div id=\"1af636a2-8a5a-44bb-830e-6b7da64022bc\" class=\"plotly-graph-div\" style=\"height:525px; width:100%;\"></div>            <script type=\"text/javascript\">                require([\"plotly\"], function(Plotly) {                    window.PLOTLYENV=window.PLOTLYENV || {};                                    if (document.getElementById(\"1af636a2-8a5a-44bb-830e-6b7da64022bc\")) {                    Plotly.newPlot(                        \"1af636a2-8a5a-44bb-830e-6b7da64022bc\",                        [{\"name\":\"Josef Newgarden\",\"x\":[\"Josef Newgarden\"],\"y\":[200],\"type\":\"bar\"},{\"name\":\"Pato O'Ward\",\"x\":[\"Pato O'Ward\"],\"y\":[200],\"type\":\"bar\"},{\"name\":\"Scott Dixon\",\"x\":[\"Scott Dixon\"],\"y\":[200],\"type\":\"bar\"},{\"name\":\"Alexander Rossi\",\"x\":[\"Alexander Rossi\"],\"y\":[200],\"type\":\"bar\"},{\"name\":\"Alex Palou\",\"x\":[\"Alex Palou\"],\"y\":[200],\"type\":\"bar\"},{\"name\":\"Scott McLaughlin\",\"x\":[\"Scott McLaughlin\"],\"y\":[200],\"type\":\"bar\"},{\"name\":\"Kyle Kirkwood\",\"x\":[\"Kyle Kirkwood\"],\"y\":[200],\"type\":\"bar\"},{\"name\":\"Santino Ferrucci\",\"x\":[\"Santino Ferrucci\"],\"y\":[200],\"type\":\"bar\"},{\"name\":\"Rinus VeeKay\",\"x\":[\"Rinus VeeKay\"],\"y\":[200],\"type\":\"bar\"},{\"name\":\"Conor Daly\",\"x\":[\"Conor Daly\"],\"y\":[200],\"type\":\"bar\"},{\"name\":\"Callum Ilott\",\"x\":[\"Callum Ilott\"],\"y\":[200],\"type\":\"bar\"},{\"name\":\"Christian Rasmussen\",\"x\":[\"Christian Rasmussen\"],\"y\":[200],\"type\":\"bar\"},{\"name\":\"Christian Lundgaard\",\"x\":[\"Christian Lundgaard\"],\"y\":[200],\"type\":\"bar\"},{\"name\":\"Takuma Sato\",\"x\":[\"Takuma Sato\"],\"y\":[200],\"type\":\"bar\"},{\"name\":\"Graham Rahal\",\"x\":[\"Graham Rahal\"],\"y\":[200],\"type\":\"bar\"},{\"name\":\"Sting Ray Robb\",\"x\":[\"Sting Ray Robb\"],\"y\":[200],\"type\":\"bar\"},{\"name\":\"Ed Carpenter\",\"x\":[\"Ed Carpenter\"],\"y\":[200],\"type\":\"bar\"},{\"name\":\"Kyle Larson\",\"x\":[\"Kyle Larson\"],\"y\":[200],\"type\":\"bar\"},{\"name\":\"Romain Grosjean\",\"x\":[\"Romain Grosjean\"],\"y\":[200],\"type\":\"bar\"},{\"name\":\"Helio Castroneves\",\"x\":[\"Helio Castroneves\"],\"y\":[200],\"type\":\"bar\"},{\"name\":\"Kyffin Simpson\",\"x\":[\"Kyffin Simpson\"],\"y\":[200],\"type\":\"bar\"},{\"name\":\"Agustin Canapino\",\"x\":[\"Agustin Canapino\"],\"y\":[199],\"type\":\"bar\"},{\"name\":\"Colton Herta\",\"x\":[\"Colton Herta\"],\"y\":[170],\"type\":\"bar\"},{\"name\":\"Will Power\",\"x\":[\"Will Power\"],\"y\":[145],\"type\":\"bar\"},{\"name\":\"Marco Andretti\",\"x\":[\"Marco Andretti\"],\"y\":[113],\"type\":\"bar\"},{\"name\":\"Ryan Hunter-Reay\",\"x\":[\"Ryan Hunter-Reay\"],\"y\":[107],\"type\":\"bar\"},{\"name\":\"Felix Rosenqvist\",\"x\":[\"Felix Rosenqvist\"],\"y\":[55],\"type\":\"bar\"},{\"name\":\"Linus Lundqvist\",\"x\":[\"Linus Lundqvist\"],\"y\":[27],\"type\":\"bar\"},{\"name\":\"Katherine Legge\",\"x\":[\"Katherine Legge\"],\"y\":[22],\"type\":\"bar\"},{\"name\":\"Marcus Armstrong\",\"x\":[\"Marcus Armstrong\"],\"y\":[6],\"type\":\"bar\"},{\"name\":\"Tom Blomqvist\",\"x\":[\"Tom Blomqvist\"],\"y\":[0],\"type\":\"bar\"},{\"name\":\"Pietro Fittipaldi\",\"x\":[\"Pietro Fittipaldi\"],\"y\":[0],\"type\":\"bar\"},{\"name\":\"Marcus Ericsson\",\"x\":[\"Marcus Ericsson\"],\"y\":[0],\"type\":\"bar\"}],                        {\"template\":{\"data\":{\"histogram2dcontour\":[{\"type\":\"histogram2dcontour\",\"colorbar\":{\"outlinewidth\":0,\"ticks\":\"\"},\"colorscale\":[[0.0,\"#0d0887\"],[0.1111111111111111,\"#46039f\"],[0.2222222222222222,\"#7201a8\"],[0.3333333333333333,\"#9c179e\"],[0.4444444444444444,\"#bd3786\"],[0.5555555555555556,\"#d8576b\"],[0.6666666666666666,\"#ed7953\"],[0.7777777777777778,\"#fb9f3a\"],[0.8888888888888888,\"#fdca26\"],[1.0,\"#f0f921\"]]}],\"choropleth\":[{\"type\":\"choropleth\",\"colorbar\":{\"outlinewidth\":0,\"ticks\":\"\"}}],\"histogram2d\":[{\"type\":\"histogram2d\",\"colorbar\":{\"outlinewidth\":0,\"ticks\":\"\"},\"colorscale\":[[0.0,\"#0d0887\"],[0.1111111111111111,\"#46039f\"],[0.2222222222222222,\"#7201a8\"],[0.3333333333333333,\"#9c179e\"],[0.4444444444444444,\"#bd3786\"],[0.5555555555555556,\"#d8576b\"],[0.6666666666666666,\"#ed7953\"],[0.7777777777777778,\"#fb9f3a\"],[0.8888888888888888,\"#fdca26\"],[1.0,\"#f0f921\"]]}],\"heatmap\":[{\"type\":\"heatmap\",\"colorbar\":{\"outlinewidth\":0,\"ticks\":\"\"},\"colorscale\":[[0.0,\"#0d0887\"],[0.1111111111111111,\"#46039f\"],[0.2222222222222222,\"#7201a8\"],[0.3333333333333333,\"#9c179e\"],[0.4444444444444444,\"#bd3786\"],[0.5555555555555556,\"#d8576b\"],[0.6666666666666666,\"#ed7953\"],[0.7777777777777778,\"#fb9f3a\"],[0.8888888888888888,\"#fdca26\"],[1.0,\"#f0f921\"]]}],\"heatmapgl\":[{\"type\":\"heatmapgl\",\"colorbar\":{\"outlinewidth\":0,\"ticks\":\"\"},\"colorscale\":[[0.0,\"#0d0887\"],[0.1111111111111111,\"#46039f\"],[0.2222222222222222,\"#7201a8\"],[0.3333333333333333,\"#9c179e\"],[0.4444444444444444,\"#bd3786\"],[0.5555555555555556,\"#d8576b\"],[0.6666666666666666,\"#ed7953\"],[0.7777777777777778,\"#fb9f3a\"],[0.8888888888888888,\"#fdca26\"],[1.0,\"#f0f921\"]]}],\"contourcarpet\":[{\"type\":\"contourcarpet\",\"colorbar\":{\"outlinewidth\":0,\"ticks\":\"\"}}],\"contour\":[{\"type\":\"contour\",\"colorbar\":{\"outlinewidth\":0,\"ticks\":\"\"},\"colorscale\":[[0.0,\"#0d0887\"],[0.1111111111111111,\"#46039f\"],[0.2222222222222222,\"#7201a8\"],[0.3333333333333333,\"#9c179e\"],[0.4444444444444444,\"#bd3786\"],[0.5555555555555556,\"#d8576b\"],[0.6666666666666666,\"#ed7953\"],[0.7777777777777778,\"#fb9f3a\"],[0.8888888888888888,\"#fdca26\"],[1.0,\"#f0f921\"]]}],\"surface\":[{\"type\":\"surface\",\"colorbar\":{\"outlinewidth\":0,\"ticks\":\"\"},\"colorscale\":[[0.0,\"#0d0887\"],[0.1111111111111111,\"#46039f\"],[0.2222222222222222,\"#7201a8\"],[0.3333333333333333,\"#9c179e\"],[0.4444444444444444,\"#bd3786\"],[0.5555555555555556,\"#d8576b\"],[0.6666666666666666,\"#ed7953\"],[0.7777777777777778,\"#fb9f3a\"],[0.8888888888888888,\"#fdca26\"],[1.0,\"#f0f921\"]]}],\"mesh3d\":[{\"type\":\"mesh3d\",\"colorbar\":{\"outlinewidth\":0,\"ticks\":\"\"}}],\"scatter\":[{\"fillpattern\":{\"fillmode\":\"overlay\",\"size\":10,\"solidity\":0.2},\"type\":\"scatter\"}],\"parcoords\":[{\"type\":\"parcoords\",\"line\":{\"colorbar\":{\"outlinewidth\":0,\"ticks\":\"\"}}}],\"scatterpolargl\":[{\"type\":\"scatterpolargl\",\"marker\":{\"colorbar\":{\"outlinewidth\":0,\"ticks\":\"\"}}}],\"bar\":[{\"error_x\":{\"color\":\"#2a3f5f\"},\"error_y\":{\"color\":\"#2a3f5f\"},\"marker\":{\"line\":{\"color\":\"#E5ECF6\",\"width\":0.5},\"pattern\":{\"fillmode\":\"overlay\",\"size\":10,\"solidity\":0.2}},\"type\":\"bar\"}],\"scattergeo\":[{\"type\":\"scattergeo\",\"marker\":{\"colorbar\":{\"outlinewidth\":0,\"ticks\":\"\"}}}],\"scatterpolar\":[{\"type\":\"scatterpolar\",\"marker\":{\"colorbar\":{\"outlinewidth\":0,\"ticks\":\"\"}}}],\"histogram\":[{\"marker\":{\"pattern\":{\"fillmode\":\"overlay\",\"size\":10,\"solidity\":0.2}},\"type\":\"histogram\"}],\"scattergl\":[{\"type\":\"scattergl\",\"marker\":{\"colorbar\":{\"outlinewidth\":0,\"ticks\":\"\"}}}],\"scatter3d\":[{\"type\":\"scatter3d\",\"line\":{\"colorbar\":{\"outlinewidth\":0,\"ticks\":\"\"}},\"marker\":{\"colorbar\":{\"outlinewidth\":0,\"ticks\":\"\"}}}],\"scattermapbox\":[{\"type\":\"scattermapbox\",\"marker\":{\"colorbar\":{\"outlinewidth\":0,\"ticks\":\"\"}}}],\"scatterternary\":[{\"type\":\"scatterternary\",\"marker\":{\"colorbar\":{\"outlinewidth\":0,\"ticks\":\"\"}}}],\"scattercarpet\":[{\"type\":\"scattercarpet\",\"marker\":{\"colorbar\":{\"outlinewidth\":0,\"ticks\":\"\"}}}],\"carpet\":[{\"aaxis\":{\"endlinecolor\":\"#2a3f5f\",\"gridcolor\":\"white\",\"linecolor\":\"white\",\"minorgridcolor\":\"white\",\"startlinecolor\":\"#2a3f5f\"},\"baxis\":{\"endlinecolor\":\"#2a3f5f\",\"gridcolor\":\"white\",\"linecolor\":\"white\",\"minorgridcolor\":\"white\",\"startlinecolor\":\"#2a3f5f\"},\"type\":\"carpet\"}],\"table\":[{\"cells\":{\"fill\":{\"color\":\"#EBF0F8\"},\"line\":{\"color\":\"white\"}},\"header\":{\"fill\":{\"color\":\"#C8D4E3\"},\"line\":{\"color\":\"white\"}},\"type\":\"table\"}],\"barpolar\":[{\"marker\":{\"line\":{\"color\":\"#E5ECF6\",\"width\":0.5},\"pattern\":{\"fillmode\":\"overlay\",\"size\":10,\"solidity\":0.2}},\"type\":\"barpolar\"}],\"pie\":[{\"automargin\":true,\"type\":\"pie\"}]},\"layout\":{\"autotypenumbers\":\"strict\",\"colorway\":[\"#636efa\",\"#EF553B\",\"#00cc96\",\"#ab63fa\",\"#FFA15A\",\"#19d3f3\",\"#FF6692\",\"#B6E880\",\"#FF97FF\",\"#FECB52\"],\"font\":{\"color\":\"#2a3f5f\"},\"hovermode\":\"closest\",\"hoverlabel\":{\"align\":\"left\"},\"paper_bgcolor\":\"white\",\"plot_bgcolor\":\"#E5ECF6\",\"polar\":{\"bgcolor\":\"#E5ECF6\",\"angularaxis\":{\"gridcolor\":\"white\",\"linecolor\":\"white\",\"ticks\":\"\"},\"radialaxis\":{\"gridcolor\":\"white\",\"linecolor\":\"white\",\"ticks\":\"\"}},\"ternary\":{\"bgcolor\":\"#E5ECF6\",\"aaxis\":{\"gridcolor\":\"white\",\"linecolor\":\"white\",\"ticks\":\"\"},\"baxis\":{\"gridcolor\":\"white\",\"linecolor\":\"white\",\"ticks\":\"\"},\"caxis\":{\"gridcolor\":\"white\",\"linecolor\":\"white\",\"ticks\":\"\"}},\"coloraxis\":{\"colorbar\":{\"outlinewidth\":0,\"ticks\":\"\"}},\"colorscale\":{\"sequential\":[[0.0,\"#0d0887\"],[0.1111111111111111,\"#46039f\"],[0.2222222222222222,\"#7201a8\"],[0.3333333333333333,\"#9c179e\"],[0.4444444444444444,\"#bd3786\"],[0.5555555555555556,\"#d8576b\"],[0.6666666666666666,\"#ed7953\"],[0.7777777777777778,\"#fb9f3a\"],[0.8888888888888888,\"#fdca26\"],[1.0,\"#f0f921\"]],\"sequentialminus\":[[0.0,\"#0d0887\"],[0.1111111111111111,\"#46039f\"],[0.2222222222222222,\"#7201a8\"],[0.3333333333333333,\"#9c179e\"],[0.4444444444444444,\"#bd3786\"],[0.5555555555555556,\"#d8576b\"],[0.6666666666666666,\"#ed7953\"],[0.7777777777777778,\"#fb9f3a\"],[0.8888888888888888,\"#fdca26\"],[1.0,\"#f0f921\"]],\"diverging\":[[0,\"#8e0152\"],[0.1,\"#c51b7d\"],[0.2,\"#de77ae\"],[0.3,\"#f1b6da\"],[0.4,\"#fde0ef\"],[0.5,\"#f7f7f7\"],[0.6,\"#e6f5d0\"],[0.7,\"#b8e186\"],[0.8,\"#7fbc41\"],[0.9,\"#4d9221\"],[1,\"#276419\"]]},\"xaxis\":{\"gridcolor\":\"white\",\"linecolor\":\"white\",\"ticks\":\"\",\"title\":{\"standoff\":15},\"zerolinecolor\":\"white\",\"automargin\":true,\"zerolinewidth\":2},\"yaxis\":{\"gridcolor\":\"white\",\"linecolor\":\"white\",\"ticks\":\"\",\"title\":{\"standoff\":15},\"zerolinecolor\":\"white\",\"automargin\":true,\"zerolinewidth\":2},\"scene\":{\"xaxis\":{\"backgroundcolor\":\"#E5ECF6\",\"gridcolor\":\"white\",\"linecolor\":\"white\",\"showbackground\":true,\"ticks\":\"\",\"zerolinecolor\":\"white\",\"gridwidth\":2},\"yaxis\":{\"backgroundcolor\":\"#E5ECF6\",\"gridcolor\":\"white\",\"linecolor\":\"white\",\"showbackground\":true,\"ticks\":\"\",\"zerolinecolor\":\"white\",\"gridwidth\":2},\"zaxis\":{\"backgroundcolor\":\"#E5ECF6\",\"gridcolor\":\"white\",\"linecolor\":\"white\",\"showbackground\":true,\"ticks\":\"\",\"zerolinecolor\":\"white\",\"gridwidth\":2}},\"shapedefaults\":{\"line\":{\"color\":\"#2a3f5f\"}},\"annotationdefaults\":{\"arrowcolor\":\"#2a3f5f\",\"arrowhead\":0,\"arrowwidth\":1},\"geo\":{\"bgcolor\":\"white\",\"landcolor\":\"#E5ECF6\",\"subunitcolor\":\"white\",\"showland\":true,\"showlakes\":true,\"lakecolor\":\"white\"},\"title\":{\"x\":0.05},\"mapbox\":{\"style\":\"light\"}}},\"updatemenus\":[{\"buttons\":[{\"args\":[{\"visible\":[true,true,true,true,true,true,true,true,true,true,true,true,true,true,true,true,true,true,true,true,true,true,true,true,true,true,true,true,true,true,true,true,true]},{\"title\":\"Number of Laps for Drivers in Indy 500\"}],\"label\":\"All Drivers\",\"method\":\"update\"},{\"args\":[{\"visible\":[true,false,false,false,false,false,false,false,false,false,false,false,false,false,false,false,false,false,false,false,false,false,false,false,false,false,false,false,false,false,false,false,false]},{\"title\":\"Number of Laps for Josef Newgarden in Indy 500\"}],\"label\":\"Josef Newgarden\",\"method\":\"update\"},{\"args\":[{\"visible\":[false,true,false,false,false,false,false,false,false,false,false,false,false,false,false,false,false,false,false,false,false,false,false,false,false,false,false,false,false,false,false,false,false]},{\"title\":\"Number of Laps for Pato O'Ward in Indy 500\"}],\"label\":\"Pato O'Ward\",\"method\":\"update\"},{\"args\":[{\"visible\":[false,false,true,false,false,false,false,false,false,false,false,false,false,false,false,false,false,false,false,false,false,false,false,false,false,false,false,false,false,false,false,false,false]},{\"title\":\"Number of Laps for Scott Dixon in Indy 500\"}],\"label\":\"Scott Dixon\",\"method\":\"update\"},{\"args\":[{\"visible\":[false,false,false,true,false,false,false,false,false,false,false,false,false,false,false,false,false,false,false,false,false,false,false,false,false,false,false,false,false,false,false,false,false]},{\"title\":\"Number of Laps for Alexander Rossi in Indy 500\"}],\"label\":\"Alexander Rossi\",\"method\":\"update\"},{\"args\":[{\"visible\":[false,false,false,false,true,false,false,false,false,false,false,false,false,false,false,false,false,false,false,false,false,false,false,false,false,false,false,false,false,false,false,false,false]},{\"title\":\"Number of Laps for Alex Palou in Indy 500\"}],\"label\":\"Alex Palou\",\"method\":\"update\"},{\"args\":[{\"visible\":[false,false,false,false,false,true,false,false,false,false,false,false,false,false,false,false,false,false,false,false,false,false,false,false,false,false,false,false,false,false,false,false,false]},{\"title\":\"Number of Laps for Scott McLaughlin in Indy 500\"}],\"label\":\"Scott McLaughlin\",\"method\":\"update\"},{\"args\":[{\"visible\":[false,false,false,false,false,false,true,false,false,false,false,false,false,false,false,false,false,false,false,false,false,false,false,false,false,false,false,false,false,false,false,false,false]},{\"title\":\"Number of Laps for Kyle Kirkwood in Indy 500\"}],\"label\":\"Kyle Kirkwood\",\"method\":\"update\"},{\"args\":[{\"visible\":[false,false,false,false,false,false,false,true,false,false,false,false,false,false,false,false,false,false,false,false,false,false,false,false,false,false,false,false,false,false,false,false,false]},{\"title\":\"Number of Laps for Santino Ferrucci in Indy 500\"}],\"label\":\"Santino Ferrucci\",\"method\":\"update\"},{\"args\":[{\"visible\":[false,false,false,false,false,false,false,false,true,false,false,false,false,false,false,false,false,false,false,false,false,false,false,false,false,false,false,false,false,false,false,false,false]},{\"title\":\"Number of Laps for Rinus VeeKay in Indy 500\"}],\"label\":\"Rinus VeeKay\",\"method\":\"update\"},{\"args\":[{\"visible\":[false,false,false,false,false,false,false,false,false,true,false,false,false,false,false,false,false,false,false,false,false,false,false,false,false,false,false,false,false,false,false,false,false]},{\"title\":\"Number of Laps for Conor Daly in Indy 500\"}],\"label\":\"Conor Daly\",\"method\":\"update\"},{\"args\":[{\"visible\":[false,false,false,false,false,false,false,false,false,false,true,false,false,false,false,false,false,false,false,false,false,false,false,false,false,false,false,false,false,false,false,false,false]},{\"title\":\"Number of Laps for Callum Ilott in Indy 500\"}],\"label\":\"Callum Ilott\",\"method\":\"update\"},{\"args\":[{\"visible\":[false,false,false,false,false,false,false,false,false,false,false,true,false,false,false,false,false,false,false,false,false,false,false,false,false,false,false,false,false,false,false,false,false]},{\"title\":\"Number of Laps for Christian Rasmussen in Indy 500\"}],\"label\":\"Christian Rasmussen\",\"method\":\"update\"},{\"args\":[{\"visible\":[false,false,false,false,false,false,false,false,false,false,false,false,true,false,false,false,false,false,false,false,false,false,false,false,false,false,false,false,false,false,false,false,false]},{\"title\":\"Number of Laps for Christian Lundgaard in Indy 500\"}],\"label\":\"Christian Lundgaard\",\"method\":\"update\"},{\"args\":[{\"visible\":[false,false,false,false,false,false,false,false,false,false,false,false,false,true,false,false,false,false,false,false,false,false,false,false,false,false,false,false,false,false,false,false,false]},{\"title\":\"Number of Laps for Takuma Sato in Indy 500\"}],\"label\":\"Takuma Sato\",\"method\":\"update\"},{\"args\":[{\"visible\":[false,false,false,false,false,false,false,false,false,false,false,false,false,false,true,false,false,false,false,false,false,false,false,false,false,false,false,false,false,false,false,false,false]},{\"title\":\"Number of Laps for Graham Rahal in Indy 500\"}],\"label\":\"Graham Rahal\",\"method\":\"update\"},{\"args\":[{\"visible\":[false,false,false,false,false,false,false,false,false,false,false,false,false,false,false,true,false,false,false,false,false,false,false,false,false,false,false,false,false,false,false,false,false]},{\"title\":\"Number of Laps for Sting Ray Robb in Indy 500\"}],\"label\":\"Sting Ray Robb\",\"method\":\"update\"},{\"args\":[{\"visible\":[false,false,false,false,false,false,false,false,false,false,false,false,false,false,false,false,true,false,false,false,false,false,false,false,false,false,false,false,false,false,false,false,false]},{\"title\":\"Number of Laps for Ed Carpenter in Indy 500\"}],\"label\":\"Ed Carpenter\",\"method\":\"update\"},{\"args\":[{\"visible\":[false,false,false,false,false,false,false,false,false,false,false,false,false,false,false,false,false,true,false,false,false,false,false,false,false,false,false,false,false,false,false,false,false]},{\"title\":\"Number of Laps for Kyle Larson in Indy 500\"}],\"label\":\"Kyle Larson\",\"method\":\"update\"},{\"args\":[{\"visible\":[false,false,false,false,false,false,false,false,false,false,false,false,false,false,false,false,false,false,true,false,false,false,false,false,false,false,false,false,false,false,false,false,false]},{\"title\":\"Number of Laps for Romain Grosjean in Indy 500\"}],\"label\":\"Romain Grosjean\",\"method\":\"update\"},{\"args\":[{\"visible\":[false,false,false,false,false,false,false,false,false,false,false,false,false,false,false,false,false,false,false,true,false,false,false,false,false,false,false,false,false,false,false,false,false]},{\"title\":\"Number of Laps for Helio Castroneves in Indy 500\"}],\"label\":\"Helio Castroneves\",\"method\":\"update\"},{\"args\":[{\"visible\":[false,false,false,false,false,false,false,false,false,false,false,false,false,false,false,false,false,false,false,false,true,false,false,false,false,false,false,false,false,false,false,false,false]},{\"title\":\"Number of Laps for Kyffin Simpson in Indy 500\"}],\"label\":\"Kyffin Simpson\",\"method\":\"update\"},{\"args\":[{\"visible\":[false,false,false,false,false,false,false,false,false,false,false,false,false,false,false,false,false,false,false,false,false,true,false,false,false,false,false,false,false,false,false,false,false]},{\"title\":\"Number of Laps for Agustin Canapino in Indy 500\"}],\"label\":\"Agustin Canapino\",\"method\":\"update\"},{\"args\":[{\"visible\":[false,false,false,false,false,false,false,false,false,false,false,false,false,false,false,false,false,false,false,false,false,false,true,false,false,false,false,false,false,false,false,false,false]},{\"title\":\"Number of Laps for Colton Herta in Indy 500\"}],\"label\":\"Colton Herta\",\"method\":\"update\"},{\"args\":[{\"visible\":[false,false,false,false,false,false,false,false,false,false,false,false,false,false,false,false,false,false,false,false,false,false,false,true,false,false,false,false,false,false,false,false,false]},{\"title\":\"Number of Laps for Will Power in Indy 500\"}],\"label\":\"Will Power\",\"method\":\"update\"},{\"args\":[{\"visible\":[false,false,false,false,false,false,false,false,false,false,false,false,false,false,false,false,false,false,false,false,false,false,false,false,true,false,false,false,false,false,false,false,false]},{\"title\":\"Number of Laps for Marco Andretti in Indy 500\"}],\"label\":\"Marco Andretti\",\"method\":\"update\"},{\"args\":[{\"visible\":[false,false,false,false,false,false,false,false,false,false,false,false,false,false,false,false,false,false,false,false,false,false,false,false,false,true,false,false,false,false,false,false,false]},{\"title\":\"Number of Laps for Ryan Hunter-Reay in Indy 500\"}],\"label\":\"Ryan Hunter-Reay\",\"method\":\"update\"},{\"args\":[{\"visible\":[false,false,false,false,false,false,false,false,false,false,false,false,false,false,false,false,false,false,false,false,false,false,false,false,false,false,true,false,false,false,false,false,false]},{\"title\":\"Number of Laps for Felix Rosenqvist in Indy 500\"}],\"label\":\"Felix Rosenqvist\",\"method\":\"update\"},{\"args\":[{\"visible\":[false,false,false,false,false,false,false,false,false,false,false,false,false,false,false,false,false,false,false,false,false,false,false,false,false,false,false,true,false,false,false,false,false]},{\"title\":\"Number of Laps for Linus Lundqvist in Indy 500\"}],\"label\":\"Linus Lundqvist\",\"method\":\"update\"},{\"args\":[{\"visible\":[false,false,false,false,false,false,false,false,false,false,false,false,false,false,false,false,false,false,false,false,false,false,false,false,false,false,false,false,true,false,false,false,false]},{\"title\":\"Number of Laps for Katherine Legge in Indy 500\"}],\"label\":\"Katherine Legge\",\"method\":\"update\"},{\"args\":[{\"visible\":[false,false,false,false,false,false,false,false,false,false,false,false,false,false,false,false,false,false,false,false,false,false,false,false,false,false,false,false,false,true,false,false,false]},{\"title\":\"Number of Laps for Marcus Armstrong in Indy 500\"}],\"label\":\"Marcus Armstrong\",\"method\":\"update\"},{\"args\":[{\"visible\":[false,false,false,false,false,false,false,false,false,false,false,false,false,false,false,false,false,false,false,false,false,false,false,false,false,false,false,false,false,false,true,false,false]},{\"title\":\"Number of Laps for Tom Blomqvist in Indy 500\"}],\"label\":\"Tom Blomqvist\",\"method\":\"update\"},{\"args\":[{\"visible\":[false,false,false,false,false,false,false,false,false,false,false,false,false,false,false,false,false,false,false,false,false,false,false,false,false,false,false,false,false,false,false,true,false]},{\"title\":\"Number of Laps for Pietro Fittipaldi in Indy 500\"}],\"label\":\"Pietro Fittipaldi\",\"method\":\"update\"},{\"args\":[{\"visible\":[false,false,false,false,false,false,false,false,false,false,false,false,false,false,false,false,false,false,false,false,false,false,false,false,false,false,false,false,false,false,false,false,true]},{\"title\":\"Number of Laps for Marcus Ericsson in Indy 500\"}],\"label\":\"Marcus Ericsson\",\"method\":\"update\"}],\"direction\":\"down\",\"showactive\":true,\"x\":0.17,\"y\":1.27}],\"title\":{\"text\":\"Number of Laps per Driver in the Indy 500\"},\"xaxis\":{\"title\":{\"text\":\"Driver\"}},\"yaxis\":{\"title\":{\"text\":\"Number of Laps\"}},\"showlegend\":false},                        {\"responsive\": true}                    ).then(function(){\n",
       "                            \n",
       "var gd = document.getElementById('1af636a2-8a5a-44bb-830e-6b7da64022bc');\n",
       "var x = new MutationObserver(function (mutations, observer) {{\n",
       "        var display = window.getComputedStyle(gd).display;\n",
       "        if (!display || display === 'none') {{\n",
       "            console.log([gd, 'removed!']);\n",
       "            Plotly.purge(gd);\n",
       "            observer.disconnect();\n",
       "        }}\n",
       "}});\n",
       "\n",
       "// Listen for the removal of the full notebook cells\n",
       "var notebookContainer = gd.closest('#notebook-container');\n",
       "if (notebookContainer) {{\n",
       "    x.observe(notebookContainer, {childList: true});\n",
       "}}\n",
       "\n",
       "// Listen for the clearing of the current output cell\n",
       "var outputEl = gd.closest('.output');\n",
       "if (outputEl) {{\n",
       "    x.observe(outputEl, {childList: true});\n",
       "}}\n",
       "\n",
       "                        })                };                });            </script>        </div>"
      ]
     },
     "metadata": {},
     "output_type": "display_data"
    }
   ],
   "source": [
    "import plotly.graph_objects as go\n",
    "\n",
    "# Filter the dataframe to only include Indy 500 data\n",
    "df_filtered_indy500 = race_result_df[race_result_df['City'] == 'indy500']\n",
    "\n",
    "fig = go.Figure()\n",
    "\n",
    "# Get a list of unique drivers from the dataframe\n",
    "drivers = df_filtered_indy500['Driver'].unique()\n",
    "\n",
    "\n",
    "for driver in drivers:\n",
    "    fig.add_trace(go.Bar(\n",
    "        x=[driver],  \n",
    "        y=df_filtered_indy500[df_filtered_indy500['Driver'] == driver]['Laps'],\n",
    "        name=driver \n",
    "    ))\n",
    "\n",
    "# Filter by driver with a dropdown menu\n",
    "dropdown_buttons = [\n",
    "    {\n",
    "        'label': 'All Drivers',\n",
    "        'method': 'update',\n",
    "        'args': [{'visible': [True] * len(drivers)}, \n",
    "                 {'title': 'Number of Laps for Drivers in Indy 500'}]\n",
    "    }\n",
    "] + [\n",
    "    {\n",
    "        'label': driver,\n",
    "        'method': 'update',\n",
    "        'args': [{'visible': [(d == driver) for d in drivers]},  \n",
    "                 {'title': f'Number of Laps for {driver} in Indy 500'}]\n",
    "    }\n",
    "    for driver in drivers\n",
    "]\n",
    "\n",
    "# Add the dropdown menu to the layout\n",
    "fig.update_layout(\n",
    "    updatemenus=[\n",
    "        {\n",
    "            'buttons': dropdown_buttons,\n",
    "            'direction': 'down',\n",
    "            'showactive': True,\n",
    "            'x': 0.17,  \n",
    "            'y': 1.27\n",
    "        }\n",
    "    ],\n",
    "    title='Number of Laps per Driver in the Indy 500',\n",
    "    xaxis_title='Driver',\n",
    "    yaxis_title='Number of Laps',\n",
    "    showlegend=False  \n",
    ")\n",
    "\n",
    "# Show the figure\n",
    "fig.show()\n",
    "        \n"
   ]
  }
 ],
 "metadata": {
  "kernelspec": {
   "display_name": "Python 3 (ipykernel)",
   "language": "python",
   "name": "python3"
  },
  "language_info": {
   "codemirror_mode": {
    "name": "ipython",
    "version": 3
   },
   "file_extension": ".py",
   "mimetype": "text/x-python",
   "name": "python",
   "nbconvert_exporter": "python",
   "pygments_lexer": "ipython3",
   "version": "3.10.14"
  }
 },
 "nbformat": 4,
 "nbformat_minor": 5
}
